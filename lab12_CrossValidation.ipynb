{
  "nbformat": 4,
  "nbformat_minor": 0,
  "metadata": {
    "colab": {
      "name": "ML Lab Cross Validation.ipynb",
      "provenance": [],
      "collapsed_sections": []
    },
    "kernelspec": {
      "name": "python3",
      "display_name": "Python 3"
    },
    "language_info": {
      "name": "python"
    }
  },
  "cells": [
    {
      "cell_type": "code",
      "execution_count": null,
      "metadata": {
        "id": "oO4LyLwadt87"
      },
      "outputs": [],
      "source": [
        "#STRATEGIC N-FOLD CROSS VALIDATION\n",
        "#Importing the required libraries\n",
        "import pandas as pd \n",
        "from sklearn.preprocessing import StandardScaler \n",
        "from sklearn.linear_model import Perceptron \n",
        "from sklearn.model_selection import cross_validate \n",
        "from sklearn.model_selection import train_test_split \n",
        "from sklearn.model_selection import KFold "
      ]
    },
    {
      "cell_type": "code",
      "source": [
        "#Import the dataset.\n",
        "df=pd.read_csv('/content/sample_data/WineQT.csv')\n",
        "#Display the data from dataset\n",
        "df\n"
      ],
      "metadata": {
        "colab": {
          "base_uri": "https://localhost:8080/",
          "height": 468
        },
        "id": "KamoRKaOd5CP",
        "outputId": "ff9848e3-6c90-4ae5-e2e9-13241be4849e"
      },
      "execution_count": null,
      "outputs": [
        {
          "output_type": "execute_result",
          "data": {
            "text/plain": [
              "      fixed acidity  volatile acidity  citric acid  residual sugar  chlorides  \\\n",
              "0               7.4             0.700         0.00             1.9      0.076   \n",
              "1               7.8             0.880         0.00             2.6      0.098   \n",
              "2               7.8             0.760         0.04             2.3      0.092   \n",
              "3              11.2             0.280         0.56             1.9      0.075   \n",
              "4               7.4             0.700         0.00             1.9      0.076   \n",
              "...             ...               ...          ...             ...        ...   \n",
              "1138            6.3             0.510         0.13             2.3      0.076   \n",
              "1139            6.8             0.620         0.08             1.9      0.068   \n",
              "1140            6.2             0.600         0.08             2.0      0.090   \n",
              "1141            5.9             0.550         0.10             2.2      0.062   \n",
              "1142            5.9             0.645         0.12             2.0      0.075   \n",
              "\n",
              "      free sulfur dioxide  total sulfur dioxide  density    pH  sulphates  \\\n",
              "0                    11.0                  34.0  0.99780  3.51       0.56   \n",
              "1                    25.0                  67.0  0.99680  3.20       0.68   \n",
              "2                    15.0                  54.0  0.99700  3.26       0.65   \n",
              "3                    17.0                  60.0  0.99800  3.16       0.58   \n",
              "4                    11.0                  34.0  0.99780  3.51       0.56   \n",
              "...                   ...                   ...      ...   ...        ...   \n",
              "1138                 29.0                  40.0  0.99574  3.42       0.75   \n",
              "1139                 28.0                  38.0  0.99651  3.42       0.82   \n",
              "1140                 32.0                  44.0  0.99490  3.45       0.58   \n",
              "1141                 39.0                  51.0  0.99512  3.52       0.76   \n",
              "1142                 32.0                  44.0  0.99547  3.57       0.71   \n",
              "\n",
              "      alcohol  quality  \n",
              "0         9.4        5  \n",
              "1         9.8        5  \n",
              "2         9.8        5  \n",
              "3         9.8        6  \n",
              "4         9.4        5  \n",
              "...       ...      ...  \n",
              "1138     11.0        6  \n",
              "1139      9.5        6  \n",
              "1140     10.5        5  \n",
              "1141     11.2        6  \n",
              "1142     10.2        5  \n",
              "\n",
              "[1143 rows x 12 columns]"
            ],
            "text/html": [
              "\n",
              "  <div id=\"df-8e0a921e-b57a-45a6-9a91-c7f806dedfa1\">\n",
              "    <div class=\"colab-df-container\">\n",
              "      <div>\n",
              "<style scoped>\n",
              "    .dataframe tbody tr th:only-of-type {\n",
              "        vertical-align: middle;\n",
              "    }\n",
              "\n",
              "    .dataframe tbody tr th {\n",
              "        vertical-align: top;\n",
              "    }\n",
              "\n",
              "    .dataframe thead th {\n",
              "        text-align: right;\n",
              "    }\n",
              "</style>\n",
              "<table border=\"1\" class=\"dataframe\">\n",
              "  <thead>\n",
              "    <tr style=\"text-align: right;\">\n",
              "      <th></th>\n",
              "      <th>fixed acidity</th>\n",
              "      <th>volatile acidity</th>\n",
              "      <th>citric acid</th>\n",
              "      <th>residual sugar</th>\n",
              "      <th>chlorides</th>\n",
              "      <th>free sulfur dioxide</th>\n",
              "      <th>total sulfur dioxide</th>\n",
              "      <th>density</th>\n",
              "      <th>pH</th>\n",
              "      <th>sulphates</th>\n",
              "      <th>alcohol</th>\n",
              "      <th>quality</th>\n",
              "    </tr>\n",
              "  </thead>\n",
              "  <tbody>\n",
              "    <tr>\n",
              "      <th>0</th>\n",
              "      <td>7.4</td>\n",
              "      <td>0.700</td>\n",
              "      <td>0.00</td>\n",
              "      <td>1.9</td>\n",
              "      <td>0.076</td>\n",
              "      <td>11.0</td>\n",
              "      <td>34.0</td>\n",
              "      <td>0.99780</td>\n",
              "      <td>3.51</td>\n",
              "      <td>0.56</td>\n",
              "      <td>9.4</td>\n",
              "      <td>5</td>\n",
              "    </tr>\n",
              "    <tr>\n",
              "      <th>1</th>\n",
              "      <td>7.8</td>\n",
              "      <td>0.880</td>\n",
              "      <td>0.00</td>\n",
              "      <td>2.6</td>\n",
              "      <td>0.098</td>\n",
              "      <td>25.0</td>\n",
              "      <td>67.0</td>\n",
              "      <td>0.99680</td>\n",
              "      <td>3.20</td>\n",
              "      <td>0.68</td>\n",
              "      <td>9.8</td>\n",
              "      <td>5</td>\n",
              "    </tr>\n",
              "    <tr>\n",
              "      <th>2</th>\n",
              "      <td>7.8</td>\n",
              "      <td>0.760</td>\n",
              "      <td>0.04</td>\n",
              "      <td>2.3</td>\n",
              "      <td>0.092</td>\n",
              "      <td>15.0</td>\n",
              "      <td>54.0</td>\n",
              "      <td>0.99700</td>\n",
              "      <td>3.26</td>\n",
              "      <td>0.65</td>\n",
              "      <td>9.8</td>\n",
              "      <td>5</td>\n",
              "    </tr>\n",
              "    <tr>\n",
              "      <th>3</th>\n",
              "      <td>11.2</td>\n",
              "      <td>0.280</td>\n",
              "      <td>0.56</td>\n",
              "      <td>1.9</td>\n",
              "      <td>0.075</td>\n",
              "      <td>17.0</td>\n",
              "      <td>60.0</td>\n",
              "      <td>0.99800</td>\n",
              "      <td>3.16</td>\n",
              "      <td>0.58</td>\n",
              "      <td>9.8</td>\n",
              "      <td>6</td>\n",
              "    </tr>\n",
              "    <tr>\n",
              "      <th>4</th>\n",
              "      <td>7.4</td>\n",
              "      <td>0.700</td>\n",
              "      <td>0.00</td>\n",
              "      <td>1.9</td>\n",
              "      <td>0.076</td>\n",
              "      <td>11.0</td>\n",
              "      <td>34.0</td>\n",
              "      <td>0.99780</td>\n",
              "      <td>3.51</td>\n",
              "      <td>0.56</td>\n",
              "      <td>9.4</td>\n",
              "      <td>5</td>\n",
              "    </tr>\n",
              "    <tr>\n",
              "      <th>...</th>\n",
              "      <td>...</td>\n",
              "      <td>...</td>\n",
              "      <td>...</td>\n",
              "      <td>...</td>\n",
              "      <td>...</td>\n",
              "      <td>...</td>\n",
              "      <td>...</td>\n",
              "      <td>...</td>\n",
              "      <td>...</td>\n",
              "      <td>...</td>\n",
              "      <td>...</td>\n",
              "      <td>...</td>\n",
              "    </tr>\n",
              "    <tr>\n",
              "      <th>1138</th>\n",
              "      <td>6.3</td>\n",
              "      <td>0.510</td>\n",
              "      <td>0.13</td>\n",
              "      <td>2.3</td>\n",
              "      <td>0.076</td>\n",
              "      <td>29.0</td>\n",
              "      <td>40.0</td>\n",
              "      <td>0.99574</td>\n",
              "      <td>3.42</td>\n",
              "      <td>0.75</td>\n",
              "      <td>11.0</td>\n",
              "      <td>6</td>\n",
              "    </tr>\n",
              "    <tr>\n",
              "      <th>1139</th>\n",
              "      <td>6.8</td>\n",
              "      <td>0.620</td>\n",
              "      <td>0.08</td>\n",
              "      <td>1.9</td>\n",
              "      <td>0.068</td>\n",
              "      <td>28.0</td>\n",
              "      <td>38.0</td>\n",
              "      <td>0.99651</td>\n",
              "      <td>3.42</td>\n",
              "      <td>0.82</td>\n",
              "      <td>9.5</td>\n",
              "      <td>6</td>\n",
              "    </tr>\n",
              "    <tr>\n",
              "      <th>1140</th>\n",
              "      <td>6.2</td>\n",
              "      <td>0.600</td>\n",
              "      <td>0.08</td>\n",
              "      <td>2.0</td>\n",
              "      <td>0.090</td>\n",
              "      <td>32.0</td>\n",
              "      <td>44.0</td>\n",
              "      <td>0.99490</td>\n",
              "      <td>3.45</td>\n",
              "      <td>0.58</td>\n",
              "      <td>10.5</td>\n",
              "      <td>5</td>\n",
              "    </tr>\n",
              "    <tr>\n",
              "      <th>1141</th>\n",
              "      <td>5.9</td>\n",
              "      <td>0.550</td>\n",
              "      <td>0.10</td>\n",
              "      <td>2.2</td>\n",
              "      <td>0.062</td>\n",
              "      <td>39.0</td>\n",
              "      <td>51.0</td>\n",
              "      <td>0.99512</td>\n",
              "      <td>3.52</td>\n",
              "      <td>0.76</td>\n",
              "      <td>11.2</td>\n",
              "      <td>6</td>\n",
              "    </tr>\n",
              "    <tr>\n",
              "      <th>1142</th>\n",
              "      <td>5.9</td>\n",
              "      <td>0.645</td>\n",
              "      <td>0.12</td>\n",
              "      <td>2.0</td>\n",
              "      <td>0.075</td>\n",
              "      <td>32.0</td>\n",
              "      <td>44.0</td>\n",
              "      <td>0.99547</td>\n",
              "      <td>3.57</td>\n",
              "      <td>0.71</td>\n",
              "      <td>10.2</td>\n",
              "      <td>5</td>\n",
              "    </tr>\n",
              "  </tbody>\n",
              "</table>\n",
              "<p>1143 rows × 12 columns</p>\n",
              "</div>\n",
              "      <button class=\"colab-df-convert\" onclick=\"convertToInteractive('df-8e0a921e-b57a-45a6-9a91-c7f806dedfa1')\"\n",
              "              title=\"Convert this dataframe to an interactive table.\"\n",
              "              style=\"display:none;\">\n",
              "        \n",
              "  <svg xmlns=\"http://www.w3.org/2000/svg\" height=\"24px\"viewBox=\"0 0 24 24\"\n",
              "       width=\"24px\">\n",
              "    <path d=\"M0 0h24v24H0V0z\" fill=\"none\"/>\n",
              "    <path d=\"M18.56 5.44l.94 2.06.94-2.06 2.06-.94-2.06-.94-.94-2.06-.94 2.06-2.06.94zm-11 1L8.5 8.5l.94-2.06 2.06-.94-2.06-.94L8.5 2.5l-.94 2.06-2.06.94zm10 10l.94 2.06.94-2.06 2.06-.94-2.06-.94-.94-2.06-.94 2.06-2.06.94z\"/><path d=\"M17.41 7.96l-1.37-1.37c-.4-.4-.92-.59-1.43-.59-.52 0-1.04.2-1.43.59L10.3 9.45l-7.72 7.72c-.78.78-.78 2.05 0 2.83L4 21.41c.39.39.9.59 1.41.59.51 0 1.02-.2 1.41-.59l7.78-7.78 2.81-2.81c.8-.78.8-2.07 0-2.86zM5.41 20L4 18.59l7.72-7.72 1.47 1.35L5.41 20z\"/>\n",
              "  </svg>\n",
              "      </button>\n",
              "      \n",
              "  <style>\n",
              "    .colab-df-container {\n",
              "      display:flex;\n",
              "      flex-wrap:wrap;\n",
              "      gap: 12px;\n",
              "    }\n",
              "\n",
              "    .colab-df-convert {\n",
              "      background-color: #E8F0FE;\n",
              "      border: none;\n",
              "      border-radius: 50%;\n",
              "      cursor: pointer;\n",
              "      display: none;\n",
              "      fill: #1967D2;\n",
              "      height: 32px;\n",
              "      padding: 0 0 0 0;\n",
              "      width: 32px;\n",
              "    }\n",
              "\n",
              "    .colab-df-convert:hover {\n",
              "      background-color: #E2EBFA;\n",
              "      box-shadow: 0px 1px 2px rgba(60, 64, 67, 0.3), 0px 1px 3px 1px rgba(60, 64, 67, 0.15);\n",
              "      fill: #174EA6;\n",
              "    }\n",
              "\n",
              "    [theme=dark] .colab-df-convert {\n",
              "      background-color: #3B4455;\n",
              "      fill: #D2E3FC;\n",
              "    }\n",
              "\n",
              "    [theme=dark] .colab-df-convert:hover {\n",
              "      background-color: #434B5C;\n",
              "      box-shadow: 0px 1px 3px 1px rgba(0, 0, 0, 0.15);\n",
              "      filter: drop-shadow(0px 1px 2px rgba(0, 0, 0, 0.3));\n",
              "      fill: #FFFFFF;\n",
              "    }\n",
              "  </style>\n",
              "\n",
              "      <script>\n",
              "        const buttonEl =\n",
              "          document.querySelector('#df-8e0a921e-b57a-45a6-9a91-c7f806dedfa1 button.colab-df-convert');\n",
              "        buttonEl.style.display =\n",
              "          google.colab.kernel.accessAllowed ? 'block' : 'none';\n",
              "\n",
              "        async function convertToInteractive(key) {\n",
              "          const element = document.querySelector('#df-8e0a921e-b57a-45a6-9a91-c7f806dedfa1');\n",
              "          const dataTable =\n",
              "            await google.colab.kernel.invokeFunction('convertToInteractive',\n",
              "                                                     [key], {});\n",
              "          if (!dataTable) return;\n",
              "\n",
              "          const docLinkHtml = 'Like what you see? Visit the ' +\n",
              "            '<a target=\"_blank\" href=https://colab.research.google.com/notebooks/data_table.ipynb>data table notebook</a>'\n",
              "            + ' to learn more about interactive tables.';\n",
              "          element.innerHTML = '';\n",
              "          dataTable['output_type'] = 'display_data';\n",
              "          await google.colab.output.renderOutput(dataTable, element);\n",
              "          const docLink = document.createElement('div');\n",
              "          docLink.innerHTML = docLinkHtml;\n",
              "          element.appendChild(docLink);\n",
              "        }\n",
              "      </script>\n",
              "    </div>\n",
              "  </div>\n",
              "  "
            ]
          },
          "metadata": {},
          "execution_count": 11
        }
      ]
    },
    {
      "cell_type": "code",
      "source": [
        "#Displays the datatype of the columns in the dataset.\n",
        "df.info()"
      ],
      "metadata": {
        "colab": {
          "base_uri": "https://localhost:8080/"
        },
        "id": "7AAfrKqDe85l",
        "outputId": "92ceb76a-86da-413b-98f4-0ff210b581dd"
      },
      "execution_count": null,
      "outputs": [
        {
          "output_type": "stream",
          "name": "stdout",
          "text": [
            "<class 'pandas.core.frame.DataFrame'>\n",
            "RangeIndex: 1143 entries, 0 to 1142\n",
            "Data columns (total 12 columns):\n",
            " #   Column                Non-Null Count  Dtype  \n",
            "---  ------                --------------  -----  \n",
            " 0   fixed acidity         1143 non-null   float64\n",
            " 1   volatile acidity      1143 non-null   float64\n",
            " 2   citric acid           1143 non-null   float64\n",
            " 3   residual sugar        1143 non-null   float64\n",
            " 4   chlorides             1143 non-null   float64\n",
            " 5   free sulfur dioxide   1143 non-null   float64\n",
            " 6   total sulfur dioxide  1143 non-null   float64\n",
            " 7   density               1143 non-null   float64\n",
            " 8   pH                    1143 non-null   float64\n",
            " 9   sulphates             1143 non-null   float64\n",
            " 10  alcohol               1143 non-null   float64\n",
            " 11  quality               1143 non-null   int64  \n",
            "dtypes: float64(11), int64(1)\n",
            "memory usage: 107.3 KB\n"
          ]
        }
      ]
    },
    {
      "cell_type": "code",
      "source": [
        "#split the data \n",
        "data_frame=df.values\n",
        "X=data_frame[:, 0:10]\n",
        "y=data_frame[:, 11]\n",
        "#Displaying the values\n",
        "X\n",
        "y"
      ],
      "metadata": {
        "colab": {
          "base_uri": "https://localhost:8080/"
        },
        "id": "8coTOHX2fUnZ",
        "outputId": "5b64c62b-457d-4469-9e14-db024bbaa7ed"
      },
      "execution_count": null,
      "outputs": [
        {
          "output_type": "execute_result",
          "data": {
            "text/plain": [
              "array([5., 5., 5., ..., 5., 6., 5.])"
            ]
          },
          "metadata": {},
          "execution_count": 40
        }
      ]
    },
    {
      "cell_type": "code",
      "source": [
        "# Scaling the data_frame \n",
        "scale = StandardScaler() \n",
        "X = scale.fit_transform(X) "
      ],
      "metadata": {
        "id": "1oqDLF-2f6l-"
      },
      "execution_count": null,
      "outputs": []
    },
    {
      "cell_type": "code",
      "source": [
        "#Splitting the data into test dataset and train dataset\n",
        "xtrain, xtest, ytrain, ytest = train_test_split(X,y,test_size=0.2)\n"
      ],
      "metadata": {
        "id": "WFvys88hgNXx"
      },
      "execution_count": null,
      "outputs": []
    },
    {
      "cell_type": "code",
      "source": [
        "# implementing a perceptron model \n",
        "p = Perceptron(max_iter=50, tol=0.005) \n",
        "p.fit(xtrain, ytrain) \n"
      ],
      "metadata": {
        "id": "smm2UJkshOJg",
        "colab": {
          "base_uri": "https://localhost:8080/"
        },
        "outputId": "fbaabfa6-2b61-4c61-a2e8-c77d2370b48b"
      },
      "execution_count": null,
      "outputs": [
        {
          "output_type": "execute_result",
          "data": {
            "text/plain": [
              "Perceptron(max_iter=50, tol=0.005)"
            ]
          },
          "metadata": {},
          "execution_count": 43
        }
      ]
    },
    {
      "cell_type": "code",
      "source": [
        "# splitting the dataset in ten folds \n",
        "cv = KFold(n_splits=10, random_state=1, shuffle=True) \n",
        "# perform ten-fold cross validation \n",
        "score = cross_validate(p, xtrain, ytrain, scoring='accuracy', cv=cv) \n",
        "# view the datasets splitted in 10 different ways \n",
        "for a, b in cv.split(data_frame): \n",
        " print(a, b)"
      ],
      "metadata": {
        "colab": {
          "base_uri": "https://localhost:8080/"
        },
        "id": "4XQUdQu8mqY9",
        "outputId": "53cbaa0e-8912-4c77-af97-d0f03b9dde5c"
      },
      "execution_count": null,
      "outputs": [
        {
          "output_type": "stream",
          "name": "stdout",
          "text": [
            "[   0    1    2 ... 1140 1141 1142] [   6   27   41   47   49   65   80   81   90   94  101  108  111  119\n",
            "  120  126  133  135  142  148  156  159  189  190  202  204  216  228\n",
            "  242  244  255  258  280  283  304  309  314  323  335  336  340  367\n",
            "  370  388  390  401  422  439  452  459  479  484  494  495  507  512\n",
            "  527  536  555  577  587  593  600  619  639  671  677  688  698  699\n",
            "  709  725  731  734  737  754  761  764  768  771  780  812  814  831\n",
            "  841  846  857  861  863  866  867  873  909  912  925  930  935  939\n",
            "  956  963  970  971  976  977  987  991 1005 1011 1052 1083 1097 1109\n",
            " 1123 1130 1136]\n",
            "[   0    1    2 ... 1140 1141 1142] [   8   10   34   35   60   62   75   76   78   85   88   99  104  139\n",
            "  154  165  180  181  186  191  195  200  201  205  220  226  236  248\n",
            "  259  262  267  298  301  310  311  320  321  329  345  348  349  393\n",
            "  395  403  404  408  419  437  443  446  455  457  463  464  471  473\n",
            "  493  496  516  531  534  537  541  546  550  568  573  582  612  632\n",
            "  641  664  672  675  693  707  710  735  743  746  757  762  776  778\n",
            "  783  785  790  798  801  807  809  820  836  848  852  853  872  880\n",
            "  890  903  926  937  943  944  969  980  988 1010 1042 1054 1062 1089\n",
            " 1121 1122 1137]\n",
            "[   0    1    4 ... 1140 1141 1142] [   2    3    5   11   13   17   19   54   56   59   72   73   84   91\n",
            "  117  125  137  151  172  175  177  194  207  215  223  241  264  274\n",
            "  299  306  331  347  350  386  414  428  432  435  492  509  525  528\n",
            "  538  560  567  578  597  605  616  623  625  631  640  647  649  655\n",
            "  659  685  686  692  697  708  713  720  742  744  745  747  748  759\n",
            "  763  791  793  794  797  799  824  825  840  844  859  882  885  892\n",
            "  893  897  908  921  927  929  942  950  951  965  993 1000 1013 1018\n",
            " 1022 1037 1040 1041 1043 1049 1068 1070 1072 1081 1094 1108 1111 1113\n",
            " 1125 1127 1134]\n",
            "[   0    1    2 ... 1140 1141 1142] [  12   16   23   50   69   74  103  106  107  121  160  187  198  218\n",
            "  233  238  250  257  265  268  281  282  293  341  354  355  363  368\n",
            "  372  374  375  382  383  385  430  434  453  472  478  480  481  482\n",
            "  483  486  487  491  502  529  535  548  553  554  559  572  581  589\n",
            "  594  607  629  635  646  650  653  684  700  705  719  729  730  767\n",
            "  769  774  789  795  803  813  816  817  818  827  833  838  858  868\n",
            "  870  887  888  894  918  932  936  938  945  946  947  952  967  981\n",
            "  985  996  997 1006 1012 1021 1033 1051 1071 1077 1085 1087 1091 1102\n",
            " 1114 1116]\n",
            "[   1    2    3 ... 1140 1141 1142] [   0   14   26   31   33   40   45   46   57   58   61   66   68   82\n",
            "   89   92  110  114  118  132  134  146  161  178  185  192  193  224\n",
            "  239  245  246  247  254  276  277  286  289  291  294  297  307  318\n",
            "  339  358  364  366  381  387  389  411  415  418  426  429  433  436\n",
            "  474  521  530  552  561  571  576  579  584  588  599  602  604  613\n",
            "  628  644  658  661  674  678  680  691  694  736  741  752  772  773\n",
            "  775  779  802  826  828  850  860  864  898  900  913  931  953  962\n",
            "  968  972  984  992 1030 1047 1056 1065 1069 1075 1084 1100 1105 1106\n",
            " 1115 1133]\n",
            "[   0    1    2 ... 1139 1140 1141] [   4    7    9   22   29   30   38   39   52   67   71   95  102  116\n",
            "  122  124  147  157  162  173  179  184  197  214  221  227  261  273\n",
            "  284  285  305  334  344  346  353  356  359  361  371  378  392  394\n",
            "  399  402  412  421  427  447  448  449  466  467  504  506  510  517\n",
            "  523  543  551  563  574  592  608  636  638  651  660  663  673  679\n",
            "  683  701  702  711  721  726  765  796  804  815  830  834  842  854\n",
            "  862  874  875  876  891  895  920  922  934  954  959  973  979  990\n",
            "  994  995 1003 1009 1015 1016 1017 1020 1024 1027 1029 1035 1073 1082\n",
            " 1092 1142]\n",
            "[   0    1    2 ... 1140 1141 1142] [  18   36   42   93   97   98  105  112  115  128  140  153  158  168\n",
            "  203  212  213  217  225  232  237  260  272  292  312  328  333  337\n",
            "  343  351  352  360  362  365  373  377  379  396  397  400  425  441\n",
            "  442  445  488  498  501  511  514  518  519  522  540  544  549  558\n",
            "  565  570  590  598  614  618  622  645  654  667  669  676  682  704\n",
            "  716  718  733  756  758  766  770  782  786  805  808  819  823  839\n",
            "  851  877  904  906  917  923  940  941  948  955  961  975  978  989\n",
            "  998 1004 1014 1026 1045 1053 1055 1066 1076 1078 1079 1099 1117 1128\n",
            " 1131 1135]\n",
            "[   0    2    3 ... 1140 1141 1142] [   1   37   43   51   64   70   83  123  127  131  138  143  145  150\n",
            "  163  164  167  171  174  182  188  206  208  230  240  249  256  270\n",
            "  275  295  300  308  315  326  332  338  342  376  380  406  407  409\n",
            "  410  417  423  438  440  454  458  460  465  476  490  500  503  524\n",
            "  526  533  539  556  566  583  585  601  603  610  617  624  634  637\n",
            "  643  652  662  665  681  690  703  717  724  727  732  750  777  781\n",
            "  784  806  835  837  845  856  879  886  899  902  916  919  957  982\n",
            "  983  986 1007 1023 1025 1028 1032 1036 1038 1063 1086 1090 1093 1107\n",
            " 1132 1139]\n",
            "[   0    1    2 ... 1138 1139 1142] [  21   24   28   32   44   48   53   55   63   79   86   87  100  109\n",
            "  113  136  166  169  199  211  219  222  229  231  234  251  253  271\n",
            "  287  288  290  296  302  303  322  324  325  330  369  384  391  413\n",
            "  420  424  444  450  451  462  475  477  499  520  545  547  557  575\n",
            "  591  596  611  620  642  656  657  666  670  687  689  696  714  722\n",
            "  723  738  739  740  755  760  787  788  800  810  821  822  832  843\n",
            "  855  869  878  881  884  911  915  924  949  958  966  974 1002 1008\n",
            " 1019 1044 1048 1058 1059 1074 1080 1103 1112 1118 1120 1124 1126 1129\n",
            " 1140 1141]\n",
            "[   0    1    2 ... 1140 1141 1142] [  15   20   25   77   96  129  130  141  144  149  152  155  170  176\n",
            "  183  196  209  210  235  243  252  263  266  269  278  279  313  316\n",
            "  317  319  327  357  398  405  416  431  456  461  468  469  470  485\n",
            "  489  497  505  508  513  515  532  542  562  564  569  580  586  595\n",
            "  606  609  615  621  626  627  630  633  648  668  695  706  712  715\n",
            "  728  749  751  753  792  811  829  847  849  865  871  883  889  896\n",
            "  901  905  907  910  914  928  933  960  964  999 1001 1031 1034 1039\n",
            " 1046 1050 1057 1060 1061 1064 1067 1088 1095 1096 1098 1101 1104 1110\n",
            " 1119 1138]\n"
          ]
        }
      ]
    },
    {
      "cell_type": "code",
      "source": [
        "# print the final test score (for tol=0.005) \n",
        "print(score['test_score']) "
      ],
      "metadata": {
        "colab": {
          "base_uri": "https://localhost:8080/"
        },
        "id": "rW-YmChbneeI",
        "outputId": "d4c21297-63f1-4c66-a3e3-e3898d3adb6a"
      },
      "execution_count": null,
      "outputs": [
        {
          "output_type": "stream",
          "name": "stdout",
          "text": [
            "[0.57608696 0.52173913 0.41304348 0.4673913  0.51648352 0.51648352\n",
            " 0.49450549 0.48351648 0.40659341 0.41758242]\n"
          ]
        }
      ]
    },
    {
      "cell_type": "code",
      "source": [
        "#Implementing a perceptron model \n",
        "p = Perceptron(max_iter=50, tol=0.001) \n",
        "p.fit(xtrain, ytrain) \n",
        "#Splitting the dataset in ten folds \n",
        "cv = KFold(n_splits=10, random_state=1, shuffle=True) \n",
        "#Performing ten-fold cross validation \n",
        "score = cross_validate(p, xtrain, ytrain, scoring='accuracy', cv=cv)\n",
        "#Printing the final test score \n",
        "print(score['test_score']) "
      ],
      "metadata": {
        "colab": {
          "base_uri": "https://localhost:8080/"
        },
        "id": "zn94BGkZnhCh",
        "outputId": "49e04fea-3236-4e61-f425-a5e59fa14904"
      },
      "execution_count": null,
      "outputs": [
        {
          "output_type": "stream",
          "name": "stdout",
          "text": [
            "[0.59782609 0.52173913 0.41304348 0.4673913  0.51648352 0.51648352\n",
            " 0.48351648 0.46153846 0.40659341 0.41758242]\n"
          ]
        }
      ]
    },
    {
      "cell_type": "code",
      "source": [
        "#Implementing a perceptron model \n",
        "p = Perceptron(max_iter=50, tol=0.01) \n",
        "p.fit(xtrain, ytrain) \n",
        "#Splitting the dataset in ten folds \n",
        "cv = KFold(n_splits=10, random_state=1, shuffle=True) \n",
        "#Performing ten-fold cross validation \n",
        "score = cross_validate(p, xtrain, ytrain, scoring='accuracy', cv=cv)\n",
        "#Printing the final test score \n",
        "print(score['test_score']) "
      ],
      "metadata": {
        "colab": {
          "base_uri": "https://localhost:8080/"
        },
        "id": "ZNuCfk6YnvhY",
        "outputId": "1f41843f-eb8c-4f07-945e-8c3694d71f14"
      },
      "execution_count": null,
      "outputs": [
        {
          "output_type": "stream",
          "name": "stdout",
          "text": [
            "[0.58695652 0.52173913 0.41304348 0.4673913  0.51648352 0.51648352\n",
            " 0.49450549 0.48351648 0.3956044  0.41758242]\n"
          ]
        }
      ]
    },
    {
      "cell_type": "code",
      "source": [
        "#Implementing a perceptron model \n",
        "p = Perceptron(max_iter=50, tol=0.05) \n",
        "p.fit(xtrain, ytrain) \n",
        "#Splitting the dataset in ten folds \n",
        "cv = KFold(n_splits=10, random_state=1, shuffle=True) \n",
        "#Performing ten-fold cross validation \n",
        "score = cross_validate(p, xtrain, ytrain, scoring='accuracy', cv=cv)\n",
        "#Printing the final test score \n",
        "print(score['test_score']) "
      ],
      "metadata": {
        "colab": {
          "base_uri": "https://localhost:8080/"
        },
        "id": "lcQdFDGVn1YK",
        "outputId": "ffb91d56-9a9d-474c-b6e3-d85a3fa978d7"
      },
      "execution_count": null,
      "outputs": [
        {
          "output_type": "stream",
          "name": "stdout",
          "text": [
            "[0.58695652 0.52173913 0.43478261 0.4673913  0.51648352 0.49450549\n",
            " 0.50549451 0.45054945 0.3956044  0.3956044 ]\n"
          ]
        }
      ]
    },
    {
      "cell_type": "code",
      "source": [
        "#Implementing a perceptron model \n",
        "p = Perceptron(max_iter=50, tol=0.002) \n",
        "p.fit(xtrain, ytrain) \n",
        "#Splitting the dataset in ten folds \n",
        "cv = KFold(n_splits=10, random_state=1, shuffle=True) \n",
        "#Performing ten-fold cross validation \n",
        "score = cross_validate(p, xtrain, ytrain, scoring='accuracy', cv=cv)\n",
        "#Printing the final test score \n",
        "print(score['test_score']) "
      ],
      "metadata": {
        "colab": {
          "base_uri": "https://localhost:8080/"
        },
        "id": "IPZx0ceZut52",
        "outputId": "fb529060-10b5-4eb0-b736-51183c6292f7"
      },
      "execution_count": null,
      "outputs": [
        {
          "output_type": "stream",
          "name": "stdout",
          "text": [
            "[0.59782609 0.52173913 0.41304348 0.4673913  0.51648352 0.51648352\n",
            " 0.48351648 0.46153846 0.40659341 0.41758242]\n"
          ]
        }
      ]
    },
    {
      "cell_type": "code",
      "source": [
        "#Implementing a perceptron model \n",
        "p = Perceptron(max_iter=50, tol=0.02) \n",
        "p.fit(xtrain, ytrain) \n",
        "#Splitting the dataset in ten folds \n",
        "cv = KFold(n_splits=10, random_state=1, shuffle=True) \n",
        "#Performing ten-fold cross validation \n",
        "score = cross_validate(p, xtrain, ytrain, scoring='accuracy', cv=cv)\n",
        "#Printing the final test score \n",
        "print(score['test_score']) "
      ],
      "metadata": {
        "id": "Uzn3ABHnuwQT",
        "outputId": "fe72274a-4768-4a42-9f19-3b2866275b32",
        "colab": {
          "base_uri": "https://localhost:8080/"
        }
      },
      "execution_count": null,
      "outputs": [
        {
          "output_type": "stream",
          "name": "stdout",
          "text": [
            "[0.58695652 0.52173913 0.41304348 0.4673913  0.50549451 0.51648352\n",
            " 0.49450549 0.46153846 0.3956044  0.41758242]\n"
          ]
        }
      ]
    }
  ]
}