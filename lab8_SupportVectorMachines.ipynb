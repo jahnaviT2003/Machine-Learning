{
  "nbformat": 4,
  "nbformat_minor": 0,
  "metadata": {
    "colab": {
      "name": "Lab-8 Support Vector Machines.ipynb",
      "provenance": [],
      "collapsed_sections": []
    },
    "kernelspec": {
      "name": "python3",
      "display_name": "Python 3"
    },
    "language_info": {
      "name": "python"
    }
  },
  "cells": [
    {
      "cell_type": "code",
      "execution_count": null,
      "metadata": {
        "id": "bHBic0Yf-ITO"
      },
      "outputs": [],
      "source": [
        "#Importing Required libraries\n",
        "import numpy as np\n",
        "import pandas as pd\n",
        "from sklearn.pipeline import make_pipeline\n",
        "from sklearn.preprocessing import StandardScaler\n",
        "from sklearn.svm import SVC"
      ]
    },
    {
      "cell_type": "code",
      "source": [
        "# Importing & Reading the dataset\n",
        "df = pd.read_csv(r'/content/sample_data/artificialchar.csv')"
      ],
      "metadata": {
        "id": "2aGYemH3A8Zl"
      },
      "execution_count": null,
      "outputs": []
    },
    {
      "cell_type": "code",
      "source": [
        "#Displaying the dataframe contents\n",
        "df.head(10)"
      ],
      "metadata": {
        "colab": {
          "base_uri": "https://localhost:8080/",
          "height": 363
        },
        "id": "wAPTRzQrDfcF",
        "outputId": "adf6c27b-273b-42d6-b6a4-27d644fb85ba"
      },
      "execution_count": null,
      "outputs": [
        {
          "output_type": "execute_result",
          "data": {
            "text/html": [
              "\n",
              "  <div id=\"df-b4a56841-72a2-4634-bfdf-6b058ffd3987\">\n",
              "    <div class=\"colab-df-container\">\n",
              "      <div>\n",
              "<style scoped>\n",
              "    .dataframe tbody tr th:only-of-type {\n",
              "        vertical-align: middle;\n",
              "    }\n",
              "\n",
              "    .dataframe tbody tr th {\n",
              "        vertical-align: top;\n",
              "    }\n",
              "\n",
              "    .dataframe thead th {\n",
              "        text-align: right;\n",
              "    }\n",
              "</style>\n",
              "<table border=\"1\" class=\"dataframe\">\n",
              "  <thead>\n",
              "    <tr style=\"text-align: right;\">\n",
              "      <th></th>\n",
              "      <th>V1</th>\n",
              "      <th>V2</th>\n",
              "      <th>V3</th>\n",
              "      <th>V4</th>\n",
              "      <th>V5</th>\n",
              "      <th>V6</th>\n",
              "      <th>V7</th>\n",
              "      <th>Class</th>\n",
              "    </tr>\n",
              "  </thead>\n",
              "  <tbody>\n",
              "    <tr>\n",
              "      <th>0</th>\n",
              "      <td>0</td>\n",
              "      <td>0</td>\n",
              "      <td>0</td>\n",
              "      <td>0</td>\n",
              "      <td>20</td>\n",
              "      <td>20.00</td>\n",
              "      <td>46.10</td>\n",
              "      <td>1</td>\n",
              "    </tr>\n",
              "    <tr>\n",
              "      <th>1</th>\n",
              "      <td>1</td>\n",
              "      <td>19</td>\n",
              "      <td>0</td>\n",
              "      <td>19</td>\n",
              "      <td>8</td>\n",
              "      <td>8.00</td>\n",
              "      <td>46.10</td>\n",
              "      <td>1</td>\n",
              "    </tr>\n",
              "    <tr>\n",
              "      <th>2</th>\n",
              "      <td>2</td>\n",
              "      <td>0</td>\n",
              "      <td>20</td>\n",
              "      <td>19</td>\n",
              "      <td>8</td>\n",
              "      <td>22.47</td>\n",
              "      <td>46.10</td>\n",
              "      <td>1</td>\n",
              "    </tr>\n",
              "    <tr>\n",
              "      <th>3</th>\n",
              "      <td>3</td>\n",
              "      <td>0</td>\n",
              "      <td>20</td>\n",
              "      <td>8</td>\n",
              "      <td>42</td>\n",
              "      <td>23.41</td>\n",
              "      <td>46.10</td>\n",
              "      <td>1</td>\n",
              "    </tr>\n",
              "    <tr>\n",
              "      <th>4</th>\n",
              "      <td>4</td>\n",
              "      <td>19</td>\n",
              "      <td>8</td>\n",
              "      <td>8</td>\n",
              "      <td>42</td>\n",
              "      <td>35.74</td>\n",
              "      <td>46.10</td>\n",
              "      <td>1</td>\n",
              "    </tr>\n",
              "    <tr>\n",
              "      <th>5</th>\n",
              "      <td>0</td>\n",
              "      <td>0</td>\n",
              "      <td>0</td>\n",
              "      <td>0</td>\n",
              "      <td>12</td>\n",
              "      <td>12.00</td>\n",
              "      <td>37.66</td>\n",
              "      <td>1</td>\n",
              "    </tr>\n",
              "    <tr>\n",
              "      <th>6</th>\n",
              "      <td>1</td>\n",
              "      <td>7</td>\n",
              "      <td>0</td>\n",
              "      <td>7</td>\n",
              "      <td>7</td>\n",
              "      <td>7.00</td>\n",
              "      <td>37.66</td>\n",
              "      <td>1</td>\n",
              "    </tr>\n",
              "    <tr>\n",
              "      <th>7</th>\n",
              "      <td>2</td>\n",
              "      <td>0</td>\n",
              "      <td>12</td>\n",
              "      <td>7</td>\n",
              "      <td>7</td>\n",
              "      <td>8.60</td>\n",
              "      <td>37.66</td>\n",
              "      <td>1</td>\n",
              "    </tr>\n",
              "    <tr>\n",
              "      <th>8</th>\n",
              "      <td>3</td>\n",
              "      <td>0</td>\n",
              "      <td>12</td>\n",
              "      <td>1</td>\n",
              "      <td>35</td>\n",
              "      <td>23.02</td>\n",
              "      <td>37.66</td>\n",
              "      <td>1</td>\n",
              "    </tr>\n",
              "    <tr>\n",
              "      <th>9</th>\n",
              "      <td>4</td>\n",
              "      <td>7</td>\n",
              "      <td>7</td>\n",
              "      <td>5</td>\n",
              "      <td>30</td>\n",
              "      <td>23.09</td>\n",
              "      <td>37.66</td>\n",
              "      <td>1</td>\n",
              "    </tr>\n",
              "  </tbody>\n",
              "</table>\n",
              "</div>\n",
              "      <button class=\"colab-df-convert\" onclick=\"convertToInteractive('df-b4a56841-72a2-4634-bfdf-6b058ffd3987')\"\n",
              "              title=\"Convert this dataframe to an interactive table.\"\n",
              "              style=\"display:none;\">\n",
              "        \n",
              "  <svg xmlns=\"http://www.w3.org/2000/svg\" height=\"24px\"viewBox=\"0 0 24 24\"\n",
              "       width=\"24px\">\n",
              "    <path d=\"M0 0h24v24H0V0z\" fill=\"none\"/>\n",
              "    <path d=\"M18.56 5.44l.94 2.06.94-2.06 2.06-.94-2.06-.94-.94-2.06-.94 2.06-2.06.94zm-11 1L8.5 8.5l.94-2.06 2.06-.94-2.06-.94L8.5 2.5l-.94 2.06-2.06.94zm10 10l.94 2.06.94-2.06 2.06-.94-2.06-.94-.94-2.06-.94 2.06-2.06.94z\"/><path d=\"M17.41 7.96l-1.37-1.37c-.4-.4-.92-.59-1.43-.59-.52 0-1.04.2-1.43.59L10.3 9.45l-7.72 7.72c-.78.78-.78 2.05 0 2.83L4 21.41c.39.39.9.59 1.41.59.51 0 1.02-.2 1.41-.59l7.78-7.78 2.81-2.81c.8-.78.8-2.07 0-2.86zM5.41 20L4 18.59l7.72-7.72 1.47 1.35L5.41 20z\"/>\n",
              "  </svg>\n",
              "      </button>\n",
              "      \n",
              "  <style>\n",
              "    .colab-df-container {\n",
              "      display:flex;\n",
              "      flex-wrap:wrap;\n",
              "      gap: 12px;\n",
              "    }\n",
              "\n",
              "    .colab-df-convert {\n",
              "      background-color: #E8F0FE;\n",
              "      border: none;\n",
              "      border-radius: 50%;\n",
              "      cursor: pointer;\n",
              "      display: none;\n",
              "      fill: #1967D2;\n",
              "      height: 32px;\n",
              "      padding: 0 0 0 0;\n",
              "      width: 32px;\n",
              "    }\n",
              "\n",
              "    .colab-df-convert:hover {\n",
              "      background-color: #E2EBFA;\n",
              "      box-shadow: 0px 1px 2px rgba(60, 64, 67, 0.3), 0px 1px 3px 1px rgba(60, 64, 67, 0.15);\n",
              "      fill: #174EA6;\n",
              "    }\n",
              "\n",
              "    [theme=dark] .colab-df-convert {\n",
              "      background-color: #3B4455;\n",
              "      fill: #D2E3FC;\n",
              "    }\n",
              "\n",
              "    [theme=dark] .colab-df-convert:hover {\n",
              "      background-color: #434B5C;\n",
              "      box-shadow: 0px 1px 3px 1px rgba(0, 0, 0, 0.15);\n",
              "      filter: drop-shadow(0px 1px 2px rgba(0, 0, 0, 0.3));\n",
              "      fill: #FFFFFF;\n",
              "    }\n",
              "  </style>\n",
              "\n",
              "      <script>\n",
              "        const buttonEl =\n",
              "          document.querySelector('#df-b4a56841-72a2-4634-bfdf-6b058ffd3987 button.colab-df-convert');\n",
              "        buttonEl.style.display =\n",
              "          google.colab.kernel.accessAllowed ? 'block' : 'none';\n",
              "\n",
              "        async function convertToInteractive(key) {\n",
              "          const element = document.querySelector('#df-b4a56841-72a2-4634-bfdf-6b058ffd3987');\n",
              "          const dataTable =\n",
              "            await google.colab.kernel.invokeFunction('convertToInteractive',\n",
              "                                                     [key], {});\n",
              "          if (!dataTable) return;\n",
              "\n",
              "          const docLinkHtml = 'Like what you see? Visit the ' +\n",
              "            '<a target=\"_blank\" href=https://colab.research.google.com/notebooks/data_table.ipynb>data table notebook</a>'\n",
              "            + ' to learn more about interactive tables.';\n",
              "          element.innerHTML = '';\n",
              "          dataTable['output_type'] = 'display_data';\n",
              "          await google.colab.output.renderOutput(dataTable, element);\n",
              "          const docLink = document.createElement('div');\n",
              "          docLink.innerHTML = docLinkHtml;\n",
              "          element.appendChild(docLink);\n",
              "        }\n",
              "      </script>\n",
              "    </div>\n",
              "  </div>\n",
              "  "
            ],
            "text/plain": [
              "   V1  V2  V3  V4  V5     V6     V7  Class\n",
              "0   0   0   0   0  20  20.00  46.10      1\n",
              "1   1  19   0  19   8   8.00  46.10      1\n",
              "2   2   0  20  19   8  22.47  46.10      1\n",
              "3   3   0  20   8  42  23.41  46.10      1\n",
              "4   4  19   8   8  42  35.74  46.10      1\n",
              "5   0   0   0   0  12  12.00  37.66      1\n",
              "6   1   7   0   7   7   7.00  37.66      1\n",
              "7   2   0  12   7   7   8.60  37.66      1\n",
              "8   3   0  12   1  35  23.02  37.66      1\n",
              "9   4   7   7   5  30  23.09  37.66      1"
            ]
          },
          "metadata": {},
          "execution_count": 7
        }
      ]
    },
    {
      "cell_type": "code",
      "source": [
        "# Our independent variables X\n",
        "X = df.iloc[:, 0:7].values\n",
        "X=X\n",
        "print(X)"
      ],
      "metadata": {
        "colab": {
          "base_uri": "https://localhost:8080/"
        },
        "id": "IBo8AtRuFLTV",
        "outputId": "5f38d005-13fa-4f20-ce3d-55205a14dc1d"
      },
      "execution_count": null,
      "outputs": [
        {
          "output_type": "stream",
          "name": "stdout",
          "text": [
            "[[ 0.    0.    0.   ... 20.   20.   46.1 ]\n",
            " [ 1.   19.    0.   ...  8.    8.   46.1 ]\n",
            " [ 2.    0.   20.   ...  8.   22.47 46.1 ]\n",
            " ...\n",
            " [ 5.   22.   20.   ... 14.    7.21 49.19]\n",
            " [ 6.   18.   14.   ...  8.   18.97 49.19]\n",
            " [ 7.    0.    8.   ...  0.   21.54 49.19]]\n"
          ]
        }
      ]
    },
    {
      "cell_type": "code",
      "source": [
        "# our dependent variable y \n",
        "y = df.iloc[:, 7].values\n",
        "print(y)"
      ],
      "metadata": {
        "colab": {
          "base_uri": "https://localhost:8080/"
        },
        "id": "O7UThjOZFWdV",
        "outputId": "e4d21514-9d87-43ac-ee39-d1f56aac8cf4"
      },
      "execution_count": null,
      "outputs": [
        {
          "output_type": "stream",
          "name": "stdout",
          "text": [
            "[1 1 1 ... 3 3 3]\n"
          ]
        }
      ]
    },
    {
      "cell_type": "code",
      "source": [
        "from sklearn.datasets import make_classification\n",
        "from sklearn.model_selection import train_test_split\n",
        "from sklearn.metrics import confusion_matrix\n",
        "X_train, X_test, y_train, y_test = train_test_split(X, y, test_size = 0.25, random_state = 0)\n",
        "clf = make_pipeline(StandardScaler(), SVC(C=1.5,random_state = 0)).fit(X_train,y_train)\n",
        "y_pred=clf.predict(X_test)\n",
        "print(y_pred)\n",
        "print(clf.score(X_test,y_test))\n",
        "cm = confusion_matrix(y_test, y_pred)\n",
        "print(cm)"
      ],
      "metadata": {
        "colab": {
          "base_uri": "https://localhost:8080/"
        },
        "id": "uzWTkEPdFe5l",
        "outputId": "ca3c5b6b-c06c-4473-9d04-706a8b2165a9"
      },
      "execution_count": null,
      "outputs": [
        {
          "output_type": "stream",
          "name": "stdout",
          "text": [
            "[4 2 1 ... 6 5 2]\n",
            "0.6203522504892368\n",
            "[[162   0   8  10   1  15  13   5  76   7]\n",
            " [  0 239  74   0   8   2   0   0   2   3]\n",
            " [  2 160 179   0   5   3   5   1   3   4]\n",
            " [  3   0   0 160   0   0   0  30   0   0]\n",
            " [  0   3   0   0 233   0   0   0   0   0]\n",
            " [ 44   2   1   2   0 124  48   1  13  14]\n",
            " [ 24   2   6   1   0  50  77   4   8  20]\n",
            " [  1   0   0  63   0   0   5 195   0   0]\n",
            " [115   0   5   4   0  17   6   2 116   5]\n",
            " [ 14   6   7   0   0  12  22   0   3 100]]\n"
          ]
        }
      ]
    },
    {
      "cell_type": "code",
      "source": [
        "from sklearn.datasets import make_classification\n",
        "from sklearn.model_selection import train_test_split\n",
        "from sklearn.metrics import confusion_matrix\n",
        "X_train, X_test, y_train, y_test = train_test_split(X, y, test_size = 0.25, random_state = 0)\n",
        "clf = make_pipeline(StandardScaler(), SVC(C=2.5,random_state = 0)).fit(X_train,y_train)\n",
        "y_pred=clf.predict(X_test)\n",
        "print(y_pred)\n",
        "print(clf.score(X_test,y_test))\n",
        "cm = confusion_matrix(y_test, y_pred)\n",
        "print(cm)"
      ],
      "metadata": {
        "colab": {
          "base_uri": "https://localhost:8080/"
        },
        "id": "g7jktZyxMWFc",
        "outputId": "4375ed14-7e9f-4e4f-b754-ccd7fbceb0a9"
      },
      "execution_count": null,
      "outputs": [
        {
          "output_type": "stream",
          "name": "stdout",
          "text": [
            "[4 2 1 ... 1 5 2]\n",
            "0.6313111545988258\n",
            "[[163   3   5   8   1  15  13   4  78   7]\n",
            " [  0 237  77   0   8   1   0   0   3   2]\n",
            " [  2 155 188   0   4   2   3   1   5   2]\n",
            " [  2   0   0 163   0   0   0  28   0   0]\n",
            " [  0   3   0   0 233   0   0   0   0   0]\n",
            " [ 42   2   1   2   0 127  44   1  16  14]\n",
            " [ 26   3   3   1   0  50  75   3  10  21]\n",
            " [  1   0   0  63   0   0   4 195   1   0]\n",
            " [105   0   4   2   0  15   7   0 132   5]\n",
            " [ 13   8   7   0   0  10  20   0   6 100]]\n"
          ]
        }
      ]
    },
    {
      "cell_type": "code",
      "source": [
        "from sklearn.datasets import make_classification\n",
        "from sklearn.model_selection import train_test_split\n",
        "from sklearn.metrics import confusion_matrix\n",
        "X_train, X_test, y_train, y_test = train_test_split(X, y, test_size = 0.25, random_state = 0)\n",
        "clf = make_pipeline(StandardScaler(), SVC(kernel=\"linear\",random_state = 0)).fit(X_train,y_train)\n",
        "y_pred=clf.predict(X_test)\n",
        "print(y_pred)\n",
        "print(clf.score(X_test,y_test))\n",
        "cm = confusion_matrix(y_test, y_pred)\n",
        "print(cm)"
      ],
      "metadata": {
        "colab": {
          "base_uri": "https://localhost:8080/"
        },
        "id": "tt1T_96vM2ne",
        "outputId": "429f52f8-a44c-4321-98f6-3044da99cc20"
      },
      "execution_count": null,
      "outputs": [
        {
          "output_type": "stream",
          "name": "stdout",
          "text": [
            "[8 2 3 ... 6 3 2]\n",
            "0.4223091976516634\n",
            "[[ 91  15  33   8   5  29   7  24  46  39]\n",
            " [  2 130 162   6  12   1   8   3   0   4]\n",
            " [ 20 136 155   5  11   8   5   7   0  15]\n",
            " [ 25   0   1  49  30  12  18  58   0   0]\n",
            " [  6   3  17   8 195   0   0   7   0   0]\n",
            " [  3  14  14   7   0 116  42   3   0  50]\n",
            " [  3  13  11   9   0  62  48   4   0  42]\n",
            " [ 11   0   7  25  16  14  16 165   1   9]\n",
            " [ 88   4  13   6   4  41   7  21  40  46]\n",
            " [  0  10   6   0   0  20  33   5   0  90]]\n"
          ]
        }
      ]
    },
    {
      "cell_type": "code",
      "source": [
        "from sklearn.datasets import make_classification\n",
        "from sklearn.model_selection import train_test_split\n",
        "from sklearn.metrics import confusion_matrix\n",
        "X_train, X_test, y_train, y_test = train_test_split(X, y, test_size = 0.25, random_state = 0)\n",
        "clf = make_pipeline(StandardScaler(), SVC(kernel=\"poly\",random_state = 0)).fit(X_train,y_train)\n",
        "y_pred=clf.predict(X_test)\n",
        "print(y_pred)\n",
        "print(clf.score(X_test,y_test))\n",
        "cm = confusion_matrix(y_test, y_pred)\n",
        "print(cm)"
      ],
      "metadata": {
        "colab": {
          "base_uri": "https://localhost:8080/"
        },
        "id": "X8bXpR4iM99W",
        "outputId": "bb78f1b1-9135-4b14-a2b6-a77d6ed06639"
      },
      "execution_count": null,
      "outputs": [
        {
          "output_type": "stream",
          "name": "stdout",
          "text": [
            "[4 2 1 ... 1 5 2]\n",
            "0.5581213307240704\n",
            "[[201   4   1  11   2  15  11   9  36   7]\n",
            " [  6 209  82   2   7   4  12   1   1   4]\n",
            " [  7 149 168   4  12   9   6   2   3   2]\n",
            " [ 27   0   0 156   0   1   0   9   0   0]\n",
            " [  0   2   0   0 234   0   0   0   0   0]\n",
            " [ 61   4   1  22   0 103  39   1   9   9]\n",
            " [ 40   3   5   6   0  48  55  13   6  16]\n",
            " [  9   0   0  74   0   5   4 169   3   0]\n",
            " [185   2   2   4   1   7   0   7  57   5]\n",
            " [ 14   3   2   3   0   8  51   3   6  74]]\n"
          ]
        }
      ]
    },
    {
      "cell_type": "code",
      "source": [
        "from sklearn.datasets import make_classification\n",
        "from sklearn.model_selection import train_test_split\n",
        "from sklearn.metrics import confusion_matrix\n",
        "X_train, X_test, y_train, y_test = train_test_split(X, y, test_size = 0.25, random_state = 0)\n",
        "clf = make_pipeline(StandardScaler(), SVC(kernel=\"rbf\",random_state = 0)).fit(X_train,y_train)\n",
        "y_pred=clf.predict(X_test)\n",
        "print(y_pred)\n",
        "print(clf.score(X_test,y_test))\n",
        "cm = confusion_matrix(y_test, y_pred)\n",
        "print(cm)"
      ],
      "metadata": {
        "colab": {
          "base_uri": "https://localhost:8080/"
        },
        "id": "RiN9RmcrNDmU",
        "outputId": "b97d592f-4d88-4268-826f-a1ac40019f1c"
      },
      "execution_count": null,
      "outputs": [
        {
          "output_type": "stream",
          "name": "stdout",
          "text": [
            "[4 2 1 ... 1 5 2]\n",
            "0.6027397260273972\n",
            "[[160   0   8   8   1  17  14   9  73   7]\n",
            " [  0 228  85   0   7   2   0   0   2   4]\n",
            " [  2 166 174   0   3   6   3   1   3   4]\n",
            " [  3   0   0 158   0   2   0  30   0   0]\n",
            " [  0   3   0   0 233   0   0   0   0   0]\n",
            " [ 47   2   2   6   0 115  44   1  11  21]\n",
            " [ 26   3   6   0   0  51  75   5   4  22]\n",
            " [  1   0   0  61   0   3   8 191   0   0]\n",
            " [121   0   4   5   0  20   6   4 105   5]\n",
            " [ 14   4   9   0   0  10  25   0   1 101]]\n"
          ]
        }
      ]
    },
    {
      "cell_type": "code",
      "source": [
        "from sklearn.datasets import make_classification\n",
        "from sklearn.model_selection import train_test_split\n",
        "from sklearn.metrics import confusion_matrix\n",
        "X_train, X_test, y_train, y_test = train_test_split(X, y, test_size = 0.25, random_state = 0)\n",
        "clf = make_pipeline(StandardScaler(), SVC(kernel=\"sigmoid\",random_state = 0)).fit(X_train,y_train)\n",
        "y_pred=clf.predict(X_test)\n",
        "print(y_pred)\n",
        "print(clf.score(X_test,y_test))\n",
        "cm = confusion_matrix(y_test, y_pred)\n",
        "print(cm)"
      ],
      "metadata": {
        "colab": {
          "base_uri": "https://localhost:8080/"
        },
        "id": "AKvf2g-LNIFb",
        "outputId": "44db51e6-44ad-4b35-b8e3-576d51ab6234"
      },
      "execution_count": null,
      "outputs": [
        {
          "output_type": "stream",
          "name": "stdout",
          "text": [
            "[ 5  7  2 ... 10  7  3]\n",
            "0.17690802348336596\n",
            "[[ 44  32  62   8  38  16  11  54  13  19]\n",
            " [ 20  70 112  14   0  14  28  30  35   5]\n",
            " [ 46  60 138  14   1   6  28  22  27  20]\n",
            " [ 30   4  28  14  66   9  18  23   1   0]\n",
            " [  1   3  13  24  33   4  19 105  10  24]\n",
            " [ 25  31  59  12  27  22  13  15  11  34]\n",
            " [  2  17  55  21  32  12  13   4   9  27]\n",
            " [ 12   4  41  35  69   5  15  81   1   1]\n",
            " [ 45  22  52   6  23  18  18  46  13  27]\n",
            " [  2  16  12  14  54  25   3   2  12  24]]\n"
          ]
        }
      ]
    },
    {
      "cell_type": "code",
      "source": [
        "from sklearn.datasets import make_classification\n",
        "from sklearn.model_selection import train_test_split\n",
        "from sklearn.metrics import confusion_matrix\n",
        "X_train, X_test, y_train, y_test = train_test_split(X, y, test_size = 0.25, random_state = 0)\n",
        "clf = make_pipeline(StandardScaler(), SVC(degree=2,kernel=\"poly\",random_state = 0)).fit(X_train,y_train)\n",
        "y_pred=clf.predict(X_test)\n",
        "print(y_pred)\n",
        "print(clf.score(X_test,y_test))\n",
        "cm = confusion_matrix(y_test, y_pred)\n",
        "print(cm)"
      ],
      "metadata": {
        "colab": {
          "base_uri": "https://localhost:8080/"
        },
        "id": "yqbwAb6UNNWb",
        "outputId": "f8071e86-e8e1-449c-ac6a-9bb497d52d74"
      },
      "execution_count": null,
      "outputs": [
        {
          "output_type": "stream",
          "name": "stdout",
          "text": [
            "[4 2 1 ... 9 5 2]\n",
            "0.5495107632093933\n",
            "[[166   0  10  21   8   8   2  15  59   8]\n",
            " [  0 121 186   0   9   3   4   0   0   5]\n",
            " [  3 112 222   0   3  16   2   1   0   3]\n",
            " [  8   0   0 163   0   0   1  21   0   0]\n",
            " [  0   2   6   0 224   0   0   1   3   0]\n",
            " [ 49   3  13  17   5 105  27   4  16  10]\n",
            " [ 32   2  14   6   4  53  31  22   8  20]\n",
            " [  7   0   0  61   0   2   3 189   2   0]\n",
            " [120   1  11  23   3   5   1   7  94   5]\n",
            " [ 17   3  10   0   3  12  28   2   0  89]]\n"
          ]
        }
      ]
    },
    {
      "cell_type": "code",
      "source": [
        "from sklearn.datasets import make_classification\n",
        "from sklearn.model_selection import train_test_split\n",
        "from sklearn.metrics import confusion_matrix\n",
        "X_train, X_test, y_train, y_test = train_test_split(X, y, test_size = 0.25, random_state = 0)\n",
        "clf = make_pipeline(StandardScaler(), SVC(degree=3,kernel=\"poly\",random_state = 0)).fit(X_train,y_train)\n",
        "y_pred=clf.predict(X_test)\n",
        "print(y_pred)\n",
        "print(clf.score(X_test,y_test))\n",
        "cm = confusion_matrix(y_test, y_pred)\n",
        "print(cm)"
      ],
      "metadata": {
        "colab": {
          "base_uri": "https://localhost:8080/"
        },
        "id": "CGADZ2PkPJbr",
        "outputId": "bb282421-8a5b-49c0-f5f7-b92eab583316"
      },
      "execution_count": null,
      "outputs": [
        {
          "output_type": "stream",
          "name": "stdout",
          "text": [
            "[4 2 1 ... 1 5 2]\n",
            "0.5581213307240704\n",
            "[[201   4   1  11   2  15  11   9  36   7]\n",
            " [  6 209  82   2   7   4  12   1   1   4]\n",
            " [  7 149 168   4  12   9   6   2   3   2]\n",
            " [ 27   0   0 156   0   1   0   9   0   0]\n",
            " [  0   2   0   0 234   0   0   0   0   0]\n",
            " [ 61   4   1  22   0 103  39   1   9   9]\n",
            " [ 40   3   5   6   0  48  55  13   6  16]\n",
            " [  9   0   0  74   0   5   4 169   3   0]\n",
            " [185   2   2   4   1   7   0   7  57   5]\n",
            " [ 14   3   2   3   0   8  51   3   6  74]]\n"
          ]
        }
      ]
    },
    {
      "cell_type": "code",
      "source": [
        "from sklearn.datasets import make_classification\n",
        "from sklearn.model_selection import train_test_split\n",
        "from sklearn.metrics import confusion_matrix\n",
        "X_train, X_test, y_train, y_test = train_test_split(X, y, test_size = 0.25, random_state = 0)\n",
        "clf = make_pipeline(StandardScaler(), SVC(degree=4,kernel=\"poly\",random_state = 0)).fit(X_train,y_train)\n",
        "y_pred=clf.predict(X_test)\n",
        "print(y_pred)\n",
        "print(clf.score(X_test,y_test))\n",
        "cm = confusion_matrix(y_test, y_pred)\n",
        "print(cm)"
      ],
      "metadata": {
        "colab": {
          "base_uri": "https://localhost:8080/"
        },
        "id": "UmwxmJIjPN0b",
        "outputId": "4dc8efac-7318-47ed-e46b-d44b01c91dc5"
      },
      "execution_count": null,
      "outputs": [
        {
          "output_type": "stream",
          "name": "stdout",
          "text": [
            "[4 2 1 ... 1 5 2]\n",
            "0.5722113502935421\n",
            "[[205   3   5  26   5   6   6   5  30   6]\n",
            " [  3 174 124   1  11   1   9   0   3   2]\n",
            " [ 10 103 227   4   7   1  10   0   0   0]\n",
            " [  7   0   0 174   0   0   0  12   0   0]\n",
            " [  1   3   0   3 229   0   0   0   0   0]\n",
            " [ 67   0   1  47   2  85  32   2   8   5]\n",
            " [ 51   3   6  25   2  22  60  11   6   6]\n",
            " [  3   0   2  74   0   0   2 182   1   0]\n",
            " [162   0   5  28   3   1   1   0  67   3]\n",
            " [ 28   1  10   9   0   6  49   0   2  59]]\n"
          ]
        }
      ]
    },
    {
      "cell_type": "code",
      "source": [
        "from sklearn.datasets import make_classification\n",
        "from sklearn.model_selection import train_test_split\n",
        "from sklearn.metrics import confusion_matrix\n",
        "X_train, X_test, y_train, y_test = train_test_split(X, y, test_size = 0.25, random_state = 0)\n",
        "clf = make_pipeline(StandardScaler(), SVC(gamma=\"scale\",kernel=\"rbf\",random_state = 0)).fit(X_train,y_train)\n",
        "y_pred=clf.predict(X_test)\n",
        "print(y_pred)\n",
        "print(clf.score(X_test,y_test))\n",
        "cm = confusion_matrix(y_test, y_pred)\n",
        "print(cm)"
      ],
      "metadata": {
        "colab": {
          "base_uri": "https://localhost:8080/"
        },
        "id": "4nGif2v5PTQE",
        "outputId": "a1d97a40-8116-4633-8055-0d2c7cfd44e5"
      },
      "execution_count": null,
      "outputs": [
        {
          "output_type": "stream",
          "name": "stdout",
          "text": [
            "[4 2 1 ... 1 5 2]\n",
            "0.6027397260273972\n",
            "[[160   0   8   8   1  17  14   9  73   7]\n",
            " [  0 228  85   0   7   2   0   0   2   4]\n",
            " [  2 166 174   0   3   6   3   1   3   4]\n",
            " [  3   0   0 158   0   2   0  30   0   0]\n",
            " [  0   3   0   0 233   0   0   0   0   0]\n",
            " [ 47   2   2   6   0 115  44   1  11  21]\n",
            " [ 26   3   6   0   0  51  75   5   4  22]\n",
            " [  1   0   0  61   0   3   8 191   0   0]\n",
            " [121   0   4   5   0  20   6   4 105   5]\n",
            " [ 14   4   9   0   0  10  25   0   1 101]]\n"
          ]
        }
      ]
    },
    {
      "cell_type": "code",
      "source": [
        "from sklearn.datasets import make_classification\n",
        "from sklearn.model_selection import train_test_split\n",
        "from sklearn.metrics import confusion_matrix\n",
        "X_train, X_test, y_train, y_test = train_test_split(X, y, test_size = 0.25, random_state = 0)\n",
        "clf = make_pipeline(StandardScaler(), SVC(gamma=\"scale\",kernel=\"poly\",random_state = 0)).fit(X_train,y_train)\n",
        "y_pred=clf.predict(X_test)\n",
        "print(y_pred)\n",
        "print(clf.score(X_test,y_test))\n",
        "cm = confusion_matrix(y_test, y_pred)\n",
        "print(cm)"
      ],
      "metadata": {
        "colab": {
          "base_uri": "https://localhost:8080/"
        },
        "id": "wH8lnDzfPkEE",
        "outputId": "731de483-8b5a-49b9-932a-3a85a56bfaee"
      },
      "execution_count": null,
      "outputs": [
        {
          "output_type": "stream",
          "name": "stdout",
          "text": [
            "[4 2 1 ... 1 5 2]\n",
            "0.5581213307240704\n",
            "[[201   4   1  11   2  15  11   9  36   7]\n",
            " [  6 209  82   2   7   4  12   1   1   4]\n",
            " [  7 149 168   4  12   9   6   2   3   2]\n",
            " [ 27   0   0 156   0   1   0   9   0   0]\n",
            " [  0   2   0   0 234   0   0   0   0   0]\n",
            " [ 61   4   1  22   0 103  39   1   9   9]\n",
            " [ 40   3   5   6   0  48  55  13   6  16]\n",
            " [  9   0   0  74   0   5   4 169   3   0]\n",
            " [185   2   2   4   1   7   0   7  57   5]\n",
            " [ 14   3   2   3   0   8  51   3   6  74]]\n"
          ]
        }
      ]
    },
    {
      "cell_type": "code",
      "source": [
        "from sklearn.datasets import make_classification\n",
        "from sklearn.model_selection import train_test_split\n",
        "from sklearn.metrics import confusion_matrix\n",
        "X_train, X_test, y_train, y_test = train_test_split(X, y, test_size = 0.25, random_state = 0)\n",
        "clf = make_pipeline(StandardScaler(), SVC(gamma=\"scale\",kernel=\"sigmoid\",random_state = 0)).fit(X_train,y_train)\n",
        "y_pred=clf.predict(X_test)\n",
        "print(y_pred)\n",
        "print(clf.score(X_test,y_test))\n",
        "cm = confusion_matrix(y_test, y_pred)\n",
        "print(cm)"
      ],
      "metadata": {
        "colab": {
          "base_uri": "https://localhost:8080/"
        },
        "id": "1fKTdhDKPnEk",
        "outputId": "d41488b8-b941-4c4b-d549-fa2e466a4f5d"
      },
      "execution_count": null,
      "outputs": [
        {
          "output_type": "stream",
          "name": "stdout",
          "text": [
            "[ 5  7  2 ... 10  7  3]\n",
            "0.17690802348336596\n",
            "[[ 44  32  62   8  38  16  11  54  13  19]\n",
            " [ 20  70 112  14   0  14  28  30  35   5]\n",
            " [ 46  60 138  14   1   6  28  22  27  20]\n",
            " [ 30   4  28  14  66   9  18  23   1   0]\n",
            " [  1   3  13  24  33   4  19 105  10  24]\n",
            " [ 25  31  59  12  27  22  13  15  11  34]\n",
            " [  2  17  55  21  32  12  13   4   9  27]\n",
            " [ 12   4  41  35  69   5  15  81   1   1]\n",
            " [ 45  22  52   6  23  18  18  46  13  27]\n",
            " [  2  16  12  14  54  25   3   2  12  24]]\n"
          ]
        }
      ]
    },
    {
      "cell_type": "code",
      "source": [
        "from sklearn.datasets import make_classification\n",
        "from sklearn.model_selection import train_test_split\n",
        "from sklearn.metrics import confusion_matrix\n",
        "X_train, X_test, y_train, y_test = train_test_split(X, y, test_size = 0.25, random_state = 0)\n",
        "clf = make_pipeline(StandardScaler(), SVC(gamma=\"auto\",kernel=\"rbf\",random_state = 0)).fit(X_train,y_train)\n",
        "y_pred=clf.predict(X_test)\n",
        "print(y_pred)\n",
        "print(clf.score(X_test,y_test))\n",
        "cm = confusion_matrix(y_test, y_pred)\n",
        "print(cm)"
      ],
      "metadata": {
        "colab": {
          "base_uri": "https://localhost:8080/"
        },
        "id": "r1EMLlFvPrTO",
        "outputId": "7ea1e1cc-52fc-4a3e-ef8f-3d92e7724cf4"
      },
      "execution_count": null,
      "outputs": [
        {
          "output_type": "stream",
          "name": "stdout",
          "text": [
            "[4 2 1 ... 1 5 2]\n",
            "0.6027397260273972\n",
            "[[160   0   8   8   1  17  14   9  73   7]\n",
            " [  0 228  85   0   7   2   0   0   2   4]\n",
            " [  2 166 174   0   3   6   3   1   3   4]\n",
            " [  3   0   0 158   0   2   0  30   0   0]\n",
            " [  0   3   0   0 233   0   0   0   0   0]\n",
            " [ 47   2   2   6   0 115  44   1  11  21]\n",
            " [ 26   3   6   0   0  51  75   5   4  22]\n",
            " [  1   0   0  61   0   3   8 191   0   0]\n",
            " [121   0   4   5   0  20   6   4 105   5]\n",
            " [ 14   4   9   0   0  10  25   0   1 101]]\n"
          ]
        }
      ]
    },
    {
      "cell_type": "code",
      "source": [
        "from sklearn.datasets import make_classification\n",
        "from sklearn.model_selection import train_test_split\n",
        "from sklearn.metrics import confusion_matrix\n",
        "X_train, X_test, y_train, y_test = train_test_split(X, y, test_size = 0.25, random_state = 0)\n",
        "clf = make_pipeline(StandardScaler(), SVC(gamma=\"auto\",kernel=\"poly\",random_state = 0)).fit(X_train,y_train)\n",
        "y_pred=clf.predict(X_test)\n",
        "print(y_pred)\n",
        "print(clf.score(X_test,y_test))\n",
        "cm = confusion_matrix(y_test, y_pred)\n",
        "print(cm)"
      ],
      "metadata": {
        "colab": {
          "base_uri": "https://localhost:8080/"
        },
        "id": "AqkmsOOvPyiF",
        "outputId": "3c7eff50-bb1c-44b3-910d-9b614e4d8c9c"
      },
      "execution_count": null,
      "outputs": [
        {
          "output_type": "stream",
          "name": "stdout",
          "text": [
            "[4 2 1 ... 1 5 2]\n",
            "0.5581213307240704\n",
            "[[201   4   1  11   2  15  11   9  36   7]\n",
            " [  6 209  82   2   7   4  12   1   1   4]\n",
            " [  7 149 168   4  12   9   6   2   3   2]\n",
            " [ 27   0   0 156   0   1   0   9   0   0]\n",
            " [  0   2   0   0 234   0   0   0   0   0]\n",
            " [ 61   4   1  22   0 103  39   1   9   9]\n",
            " [ 40   3   5   6   0  48  55  13   6  16]\n",
            " [  9   0   0  74   0   5   4 169   3   0]\n",
            " [185   2   2   4   1   7   0   7  57   5]\n",
            " [ 14   3   2   3   0   8  51   3   6  74]]\n"
          ]
        }
      ]
    },
    {
      "cell_type": "code",
      "source": [
        "from sklearn.datasets import make_classification\n",
        "from sklearn.model_selection import train_test_split\n",
        "from sklearn.metrics import confusion_matrix\n",
        "X_train, X_test, y_train, y_test = train_test_split(X, y, test_size = 0.25, random_state = 0)\n",
        "clf = make_pipeline(StandardScaler(), SVC(gamma=\"auto\",kernel=\"sigmoid\",random_state = 0)).fit(X_train,y_train)\n",
        "y_pred=clf.predict(X_test)\n",
        "print(y_pred)\n",
        "print(clf.score(X_test,y_test))\n",
        "cm = confusion_matrix(y_test, y_pred)\n",
        "print(cm)"
      ],
      "metadata": {
        "colab": {
          "base_uri": "https://localhost:8080/"
        },
        "id": "QkFCecugP0s0",
        "outputId": "de922193-db1d-431f-e7f9-f45f7d0cd977"
      },
      "execution_count": null,
      "outputs": [
        {
          "output_type": "stream",
          "name": "stdout",
          "text": [
            "[ 5  7  2 ... 10  7  3]\n",
            "0.17690802348336596\n",
            "[[ 44  32  62   8  38  16  11  54  13  19]\n",
            " [ 20  70 112  14   0  14  28  30  35   5]\n",
            " [ 46  60 138  14   1   6  28  22  27  20]\n",
            " [ 30   4  28  14  66   9  18  23   1   0]\n",
            " [  1   3  13  24  33   4  19 105  10  24]\n",
            " [ 25  31  59  12  27  22  13  15  11  34]\n",
            " [  2  17  55  21  32  12  13   4   9  27]\n",
            " [ 12   4  41  35  69   5  15  81   1   1]\n",
            " [ 45  22  52   6  23  18  18  46  13  27]\n",
            " [  2  16  12  14  54  25   3   2  12  24]]\n"
          ]
        }
      ]
    },
    {
      "cell_type": "code",
      "source": [
        "from sklearn.datasets import make_classification\n",
        "from sklearn.model_selection import train_test_split\n",
        "from sklearn.metrics import confusion_matrix\n",
        "X_train, X_test, y_train, y_test = train_test_split(X, y, test_size = 0.25, random_state = 0)\n",
        "clf = make_pipeline(StandardScaler(), SVC(coef0=1.0,kernel=\"sigmoid\",random_state = 0)).fit(X_train,y_train)\n",
        "y_pred=clf.predict(X_test)\n",
        "print(y_pred)\n",
        "print(clf.score(X_test,y_test))\n",
        "cm = confusion_matrix(y_test, y_pred)\n",
        "print(cm)"
      ],
      "metadata": {
        "colab": {
          "base_uri": "https://localhost:8080/"
        },
        "id": "UenygUoHRNij",
        "outputId": "5b05640e-ce6c-492b-ddba-247c9ae6cdf3"
      },
      "execution_count": null,
      "outputs": [
        {
          "output_type": "stream",
          "name": "stdout",
          "text": [
            "[5 2 3 ... 8 6 2]\n",
            "0.13581213307240705\n",
            "[[ 13  55  75   3  65  41   3  32   0  10]\n",
            " [  8 105  77  30   0  48  22  35   3   0]\n",
            " [ 30 118  65  31   0  51  19  36   7   5]\n",
            " [  5  76  21  10  49  20   0  12   0   0]\n",
            " [ 32  21   7  15  21  46  18  72   0   4]\n",
            " [ 41  26  33  18  28  57   1  15  16  14]\n",
            " [  7  14  35  10  54  42   6   9   0  15]\n",
            " [ 26  54  12  20  76  10   0  55  11   0]\n",
            " [ 10  47  47  13  43  50   2  46   2  10]\n",
            " [ 10  14   0  21  73  17   6  10   0  13]]\n"
          ]
        }
      ]
    },
    {
      "cell_type": "code",
      "source": [
        "from sklearn.datasets import make_classification\n",
        "from sklearn.model_selection import train_test_split\n",
        "from sklearn.metrics import confusion_matrix\n",
        "X_train, X_test, y_train, y_test = train_test_split(X, y, test_size = 0.25, random_state = 0)\n",
        "clf = make_pipeline(StandardScaler(), SVC(coef0=1.5,kernel=\"sigmoid\",random_state = 0)).fit(X_train,y_train)\n",
        "y_pred=clf.predict(X_test)\n",
        "print(y_pred)\n",
        "print(clf.score(X_test,y_test))\n",
        "cm = confusion_matrix(y_test, y_pred)\n",
        "print(cm)"
      ],
      "metadata": {
        "colab": {
          "base_uri": "https://localhost:8080/"
        },
        "id": "VwQQo3AtRVBD",
        "outputId": "8c89a5bd-dbab-42f4-fa45-7bfc91da46d6"
      },
      "execution_count": null,
      "outputs": [
        {
          "output_type": "stream",
          "name": "stdout",
          "text": [
            "[5 2 3 ... 5 2 2]\n",
            "0.1299412915851272\n",
            "[[ 11  41  70   5  72  45   1  45   1   6]\n",
            " [  8 102  70  40   1  46  20  39   1   1]\n",
            " [ 29 120  63  29   0  51  16  48   2   4]\n",
            " [  4  52  23   8  62  20   0  24   0   0]\n",
            " [ 33  21   7  16  20  41  16  79   0   3]\n",
            " [ 42  23  29  23  36  55   1  22  10   8]\n",
            " [ 11  17  35  10  59  40   2   7   0  11]\n",
            " [ 26  43  11  31  80   9   0  63   1   0]\n",
            " [  7  38  43  15  56  54   0  52   0   5]\n",
            " [  7  14   0  23  75  17   7  13   0   8]]\n"
          ]
        }
      ]
    },
    {
      "cell_type": "code",
      "source": [
        "from sklearn.datasets import make_classification\n",
        "from sklearn.model_selection import train_test_split\n",
        "from sklearn.metrics import confusion_matrix\n",
        "X_train, X_test, y_train, y_test = train_test_split(X, y, test_size = 0.25, random_state = 0)\n",
        "clf = make_pipeline(StandardScaler(), SVC(coef0=2.5,kernel=\"sigmoid\",random_state = 0)).fit(X_train,y_train)\n",
        "y_pred=clf.predict(X_test)\n",
        "print(y_pred)\n",
        "print(clf.score(X_test,y_test))\n",
        "cm = confusion_matrix(y_test, y_pred)\n",
        "print(cm)"
      ],
      "metadata": {
        "colab": {
          "base_uri": "https://localhost:8080/"
        },
        "id": "Wez4USunRh-D",
        "outputId": "f049dbca-3276-425a-edbf-49ebcd367dae"
      },
      "execution_count": null,
      "outputs": [
        {
          "output_type": "stream",
          "name": "stdout",
          "text": [
            "[5 2 3 ... 5 2 2]\n",
            "0.1299412915851272\n",
            "[[ 12  36  71   2  82  36   0  58   0   0]\n",
            " [  5 108  92  20   1  48  18  36   0   0]\n",
            " [ 37 116  74  19   0  53  12  49   1   1]\n",
            " [  5  40  26   3  80   9   0  30   0   0]\n",
            " [ 37  19  11  18  21  44   1  85   0   0]\n",
            " [ 48  23  34   8  45  44   3  40   4   0]\n",
            " [ 10  15  41   3  67  36   2  12   0   6]\n",
            " [ 29  35  11  26  94   2   0  67   0   0]\n",
            " [  9  32  50   2  65  42   0  70   0   0]\n",
            " [ 13  11   0  10  83  27   5  14   0   1]]\n"
          ]
        }
      ]
    },
    {
      "cell_type": "code",
      "source": [
        "from sklearn.datasets import make_classification\n",
        "from sklearn.model_selection import train_test_split\n",
        "from sklearn.metrics import confusion_matrix\n",
        "X_train, X_test, y_train, y_test = train_test_split(X, y, test_size = 0.25, random_state = 0)\n",
        "clf = make_pipeline(StandardScaler(), SVC(coef0=1.0,kernel=\"poly\",random_state = 0)).fit(X_train,y_train)\n",
        "y_pred=clf.predict(X_test)\n",
        "print(y_pred)\n",
        "print(clf.score(X_test,y_test))\n",
        "cm = confusion_matrix(y_test, y_pred)\n",
        "print(cm)"
      ],
      "metadata": {
        "colab": {
          "base_uri": "https://localhost:8080/"
        },
        "id": "x4uQp5JARbBr",
        "outputId": "fc258a62-de05-4bee-fa0c-4711156033f6"
      },
      "execution_count": null,
      "outputs": [
        {
          "output_type": "stream",
          "name": "stdout",
          "text": [
            "[4 2 1 ... 1 5 2]\n",
            "0.6371819960861057\n",
            "[[166   4   2   9   1  19  12   4  73   7]\n",
            " [  0 242  71   0   6   1   0   0   5   3]\n",
            " [  5 152 190   0   5   1   4   0   3   2]\n",
            " [  3   0   0 168   0   0   0  22   0   0]\n",
            " [  0   1   1   0 234   0   0   0   0   0]\n",
            " [ 34   2   0   4   0 138  36   2  18  15]\n",
            " [ 28   3   1   1   0  52  71   5  10  21]\n",
            " [  1   0   0  65   0   0   2 195   1   0]\n",
            " [117   4   0   2   0  21   2   0 119   5]\n",
            " [ 13  12   3   0   0   9  17   0   5 105]]\n"
          ]
        }
      ]
    },
    {
      "cell_type": "code",
      "source": [
        "from sklearn.datasets import make_classification\n",
        "from sklearn.model_selection import train_test_split\n",
        "from sklearn.metrics import confusion_matrix\n",
        "X_train, X_test, y_train, y_test = train_test_split(X, y, test_size = 0.25, random_state = 0)\n",
        "clf = make_pipeline(StandardScaler(), SVC(coef0=1.5,kernel=\"poly\",random_state = 0)).fit(X_train,y_train)\n",
        "y_pred=clf.predict(X_test)\n",
        "print(y_pred)\n",
        "print(clf.score(X_test,y_test))\n",
        "cm = confusion_matrix(y_test, y_pred)\n",
        "print(cm)"
      ],
      "metadata": {
        "colab": {
          "base_uri": "https://localhost:8080/"
        },
        "id": "4OaOybiMRl90",
        "outputId": "ea66798e-ba45-4c24-f7c2-50eb71a6dfdd"
      },
      "execution_count": null,
      "outputs": [
        {
          "output_type": "stream",
          "name": "stdout",
          "text": [
            "[4 2 1 ... 1 5 2]\n",
            "0.6414872798434442\n",
            "[[169   6   2   9   1  16  12   4  71   7]\n",
            " [  0 246  68   0   5   1   1   0   5   2]\n",
            " [  4 155 189   0   5   1   3   0   3   2]\n",
            " [  3   0   0 166   0   0   0  24   0   0]\n",
            " [  0   2   1   0 233   0   0   0   0   0]\n",
            " [ 34   2   0   4   0 138  34   2  18  17]\n",
            " [ 23   4   0   0   0  54  75   5  11  20]\n",
            " [  1   0   0  62   0   0   1 199   1   0]\n",
            " [117   4   0   2   0  19   2   0 121   5]\n",
            " [ 13  10   5   0   0   9  17   0   7 103]]\n"
          ]
        }
      ]
    },
    {
      "cell_type": "code",
      "source": [
        "from sklearn.datasets import make_classification\n",
        "from sklearn.model_selection import train_test_split\n",
        "from sklearn.metrics import confusion_matrix\n",
        "X_train, X_test, y_train, y_test = train_test_split(X, y, test_size = 0.25, random_state = 0)\n",
        "clf = make_pipeline(StandardScaler(), SVC(coef0=2.5,kernel=\"poly\",random_state = 0)).fit(X_train,y_train)\n",
        "y_pred=clf.predict(X_test)\n",
        "print(y_pred)\n",
        "print(clf.score(X_test,y_test))\n",
        "cm = confusion_matrix(y_test, y_pred)\n",
        "print(cm)"
      ],
      "metadata": {
        "colab": {
          "base_uri": "https://localhost:8080/"
        },
        "id": "8bDbvj-URqlD",
        "outputId": "61a9bf5f-5ed0-4c5e-9de6-ad04612359f9"
      },
      "execution_count": null,
      "outputs": [
        {
          "output_type": "stream",
          "name": "stdout",
          "text": [
            "[4 2 1 ... 6 5 2]\n",
            "0.639921722113503\n",
            "[[156   8   2   9   1  12  13   4  86   6]\n",
            " [  0 246  69   0   4   1   2   0   3   3]\n",
            " [  4 153 190   0   5   1   3   0   3   3]\n",
            " [  3   0   0 163   0   0   0  27   0   0]\n",
            " [  0   2   1   0 233   0   0   0   0   0]\n",
            " [ 27   3   0   4   0 141  32   1  25  16]\n",
            " [ 21   3   0   1   0  54  72   4  15  22]\n",
            " [  0   0   0  60   0   0   2 201   1   0]\n",
            " [109   4   0   2   0  15   2   0 133   5]\n",
            " [ 13  11   2   0   0  11  19   0   8 100]]\n"
          ]
        }
      ]
    },
    {
      "cell_type": "code",
      "source": [
        "from sklearn.datasets import make_classification\n",
        "from sklearn.model_selection import train_test_split\n",
        "from sklearn.metrics import confusion_matrix\n",
        "X_train, X_test, y_train, y_test = train_test_split(X, y, test_size = 0.25, random_state = 0)\n",
        "clf = make_pipeline(StandardScaler(), SVC(coef0=1.0,kernel=\"rbf\",random_state = 0)).fit(X_train,y_train)\n",
        "y_pred=clf.predict(X_test)\n",
        "print(y_pred)\n",
        "print(clf.score(X_test,y_test))\n",
        "cm = confusion_matrix(y_test, y_pred)\n",
        "print(cm)"
      ],
      "metadata": {
        "colab": {
          "base_uri": "https://localhost:8080/"
        },
        "id": "srtmZ0SmSBar",
        "outputId": "b80dbd89-bf85-40c4-8f2b-545dc96402d7"
      },
      "execution_count": null,
      "outputs": [
        {
          "output_type": "stream",
          "name": "stdout",
          "text": [
            "[4 2 1 ... 1 5 2]\n",
            "0.6027397260273972\n",
            "[[160   0   8   8   1  17  14   9  73   7]\n",
            " [  0 228  85   0   7   2   0   0   2   4]\n",
            " [  2 166 174   0   3   6   3   1   3   4]\n",
            " [  3   0   0 158   0   2   0  30   0   0]\n",
            " [  0   3   0   0 233   0   0   0   0   0]\n",
            " [ 47   2   2   6   0 115  44   1  11  21]\n",
            " [ 26   3   6   0   0  51  75   5   4  22]\n",
            " [  1   0   0  61   0   3   8 191   0   0]\n",
            " [121   0   4   5   0  20   6   4 105   5]\n",
            " [ 14   4   9   0   0  10  25   0   1 101]]\n"
          ]
        }
      ]
    },
    {
      "cell_type": "code",
      "source": [
        "from sklearn.datasets import make_classification\n",
        "from sklearn.model_selection import train_test_split\n",
        "from sklearn.metrics import confusion_matrix\n",
        "X_train, X_test, y_train, y_test = train_test_split(X, y, test_size = 0.25, random_state = 0)\n",
        "clf = make_pipeline(StandardScaler(), SVC(coef0=1.5,kernel=\"rbf\",random_state = 0)).fit(X_train,y_train)\n",
        "y_pred=clf.predict(X_test)\n",
        "print(y_pred)\n",
        "print(clf.score(X_test,y_test))\n",
        "cm = confusion_matrix(y_test, y_pred)\n",
        "print(cm)"
      ],
      "metadata": {
        "colab": {
          "base_uri": "https://localhost:8080/"
        },
        "id": "9DiZUv76e5fN",
        "outputId": "000514a4-a57f-46b5-a3a2-f21697115a88"
      },
      "execution_count": null,
      "outputs": [
        {
          "output_type": "stream",
          "name": "stdout",
          "text": [
            "[4 2 1 ... 1 5 2]\n",
            "0.6027397260273972\n",
            "[[160   0   8   8   1  17  14   9  73   7]\n",
            " [  0 228  85   0   7   2   0   0   2   4]\n",
            " [  2 166 174   0   3   6   3   1   3   4]\n",
            " [  3   0   0 158   0   2   0  30   0   0]\n",
            " [  0   3   0   0 233   0   0   0   0   0]\n",
            " [ 47   2   2   6   0 115  44   1  11  21]\n",
            " [ 26   3   6   0   0  51  75   5   4  22]\n",
            " [  1   0   0  61   0   3   8 191   0   0]\n",
            " [121   0   4   5   0  20   6   4 105   5]\n",
            " [ 14   4   9   0   0  10  25   0   1 101]]\n"
          ]
        }
      ]
    },
    {
      "cell_type": "code",
      "source": [
        "from sklearn.datasets import make_classification\n",
        "from sklearn.model_selection import train_test_split\n",
        "from sklearn.metrics import confusion_matrix\n",
        "X_train, X_test, y_train, y_test = train_test_split(X, y, test_size = 0.25, random_state = 0)\n",
        "clf = make_pipeline(StandardScaler(), SVC(coef0=2.5,kernel=\"rbf\",random_state = 0)).fit(X_train,y_train)\n",
        "y_pred=clf.predict(X_test)\n",
        "print(y_pred)\n",
        "print(clf.score(X_test,y_test))\n",
        "cm = confusion_matrix(y_test, y_pred)\n",
        "print(cm)"
      ],
      "metadata": {
        "colab": {
          "base_uri": "https://localhost:8080/"
        },
        "id": "cXvpH-86e8Zl",
        "outputId": "1ff6f1a9-3f78-40d2-e8ca-cf2de96aa838"
      },
      "execution_count": null,
      "outputs": [
        {
          "output_type": "stream",
          "name": "stdout",
          "text": [
            "[4 2 1 ... 1 5 2]\n",
            "0.6027397260273972\n",
            "[[160   0   8   8   1  17  14   9  73   7]\n",
            " [  0 228  85   0   7   2   0   0   2   4]\n",
            " [  2 166 174   0   3   6   3   1   3   4]\n",
            " [  3   0   0 158   0   2   0  30   0   0]\n",
            " [  0   3   0   0 233   0   0   0   0   0]\n",
            " [ 47   2   2   6   0 115  44   1  11  21]\n",
            " [ 26   3   6   0   0  51  75   5   4  22]\n",
            " [  1   0   0  61   0   3   8 191   0   0]\n",
            " [121   0   4   5   0  20   6   4 105   5]\n",
            " [ 14   4   9   0   0  10  25   0   1 101]]\n"
          ]
        }
      ]
    },
    {
      "cell_type": "code",
      "source": [
        "from sklearn.datasets import make_classification\n",
        "from sklearn.model_selection import train_test_split\n",
        "from sklearn.metrics import confusion_matrix\n",
        "X_train, X_test, y_train, y_test = train_test_split(X, y, test_size = 0.25, random_state = 0)\n",
        "clf = make_pipeline(StandardScaler(), SVC(coef0=1.0,kernel=\"linear\",random_state = 0)).fit(X_train,y_train)\n",
        "y_pred=clf.predict(X_test)\n",
        "print(y_pred)\n",
        "print(clf.score(X_test,y_test))\n",
        "cm = confusion_matrix(y_test, y_pred)\n",
        "print(cm)"
      ],
      "metadata": {
        "colab": {
          "base_uri": "https://localhost:8080/"
        },
        "id": "1Q48Jc44fBaU",
        "outputId": "fa2906c0-8734-489e-aa97-875b16225471"
      },
      "execution_count": null,
      "outputs": [
        {
          "output_type": "stream",
          "name": "stdout",
          "text": [
            "[8 2 3 ... 6 3 2]\n",
            "0.4223091976516634\n",
            "[[ 91  15  33   8   5  29   7  24  46  39]\n",
            " [  2 130 162   6  12   1   8   3   0   4]\n",
            " [ 20 136 155   5  11   8   5   7   0  15]\n",
            " [ 25   0   1  49  30  12  18  58   0   0]\n",
            " [  6   3  17   8 195   0   0   7   0   0]\n",
            " [  3  14  14   7   0 116  42   3   0  50]\n",
            " [  3  13  11   9   0  62  48   4   0  42]\n",
            " [ 11   0   7  25  16  14  16 165   1   9]\n",
            " [ 88   4  13   6   4  41   7  21  40  46]\n",
            " [  0  10   6   0   0  20  33   5   0  90]]\n"
          ]
        }
      ]
    },
    {
      "cell_type": "code",
      "source": [
        "from sklearn.datasets import make_classification\n",
        "from sklearn.model_selection import train_test_split\n",
        "from sklearn.metrics import confusion_matrix\n",
        "X_train, X_test, y_train, y_test = train_test_split(X, y, test_size = 0.25, random_state = 0)\n",
        "clf = make_pipeline(StandardScaler(), SVC(coef0=1.5,kernel=\"linear\",random_state = 0)).fit(X_train,y_train)\n",
        "y_pred=clf.predict(X_test)\n",
        "print(y_pred)\n",
        "print(clf.score(X_test,y_test))\n",
        "cm = confusion_matrix(y_test, y_pred)\n",
        "print(cm)"
      ],
      "metadata": {
        "colab": {
          "base_uri": "https://localhost:8080/"
        },
        "id": "UQo8JYkgfEee",
        "outputId": "7fa3a6bc-9319-4327-8666-fb7bee64d7fc"
      },
      "execution_count": null,
      "outputs": [
        {
          "output_type": "stream",
          "name": "stdout",
          "text": [
            "[8 2 3 ... 6 3 2]\n",
            "0.4223091976516634\n",
            "[[ 91  15  33   8   5  29   7  24  46  39]\n",
            " [  2 130 162   6  12   1   8   3   0   4]\n",
            " [ 20 136 155   5  11   8   5   7   0  15]\n",
            " [ 25   0   1  49  30  12  18  58   0   0]\n",
            " [  6   3  17   8 195   0   0   7   0   0]\n",
            " [  3  14  14   7   0 116  42   3   0  50]\n",
            " [  3  13  11   9   0  62  48   4   0  42]\n",
            " [ 11   0   7  25  16  14  16 165   1   9]\n",
            " [ 88   4  13   6   4  41   7  21  40  46]\n",
            " [  0  10   6   0   0  20  33   5   0  90]]\n"
          ]
        }
      ]
    },
    {
      "cell_type": "code",
      "source": [
        "from sklearn.datasets import make_classification\n",
        "from sklearn.model_selection import train_test_split\n",
        "from sklearn.metrics import confusion_matrix\n",
        "X_train, X_test, y_train, y_test = train_test_split(X, y, test_size = 0.25, random_state = 0)\n",
        "clf = make_pipeline(StandardScaler(), SVC(coef0=2.5,kernel=\"linear\",random_state = 0)).fit(X_train,y_train)\n",
        "y_pred=clf.predict(X_test)\n",
        "print(y_pred)\n",
        "print(clf.score(X_test,y_test))\n",
        "cm = confusion_matrix(y_test, y_pred)\n",
        "print(cm)"
      ],
      "metadata": {
        "colab": {
          "base_uri": "https://localhost:8080/"
        },
        "id": "-ge_2kRNfHzF",
        "outputId": "23068594-ff5f-4bb6-c24b-4207171f0057"
      },
      "execution_count": null,
      "outputs": [
        {
          "output_type": "stream",
          "name": "stdout",
          "text": [
            "[8 2 3 ... 6 3 2]\n",
            "0.4223091976516634\n",
            "[[ 91  15  33   8   5  29   7  24  46  39]\n",
            " [  2 130 162   6  12   1   8   3   0   4]\n",
            " [ 20 136 155   5  11   8   5   7   0  15]\n",
            " [ 25   0   1  49  30  12  18  58   0   0]\n",
            " [  6   3  17   8 195   0   0   7   0   0]\n",
            " [  3  14  14   7   0 116  42   3   0  50]\n",
            " [  3  13  11   9   0  62  48   4   0  42]\n",
            " [ 11   0   7  25  16  14  16 165   1   9]\n",
            " [ 88   4  13   6   4  41   7  21  40  46]\n",
            " [  0  10   6   0   0  20  33   5   0  90]]\n"
          ]
        }
      ]
    }
  ]
}