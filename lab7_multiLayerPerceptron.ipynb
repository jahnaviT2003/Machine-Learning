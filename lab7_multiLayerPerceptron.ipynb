{
  "nbformat": 4,
  "nbformat_minor": 0,
  "metadata": {
    "colab": {
      "name": "LAB7.ipynb",
      "provenance": [],
      "collapsed_sections": []
    },
    "kernelspec": {
      "name": "python3",
      "display_name": "Python 3"
    },
    "language_info": {
      "name": "python"
    }
  },
  "cells": [
    {
      "cell_type": "code",
      "execution_count": null,
      "metadata": {
        "id": "zo1UdX-YzEj4"
      },
      "outputs": [],
      "source": [
        "# IMPORTING THE LIBRARIES\n",
        "import pandas as pd\n",
        "import numpy as np\n",
        "from sklearn.model_selection import train_test_split\n",
        "from sklearn.datasets import make_classification\n",
        "from sklearn.neural_network import MLPClassifier\n",
        "from sklearn.metrics import classification_report , confusion_matrix"
      ]
    },
    {
      "cell_type": "code",
      "source": [
        "#IMPORTING THE DATA FROM CSV FILE\n",
        "data = pd.read_csv(r'/content/sample_data/sonar_data.csv')\n",
        "data['Label'].replace(['R', 'M'],[0, 1], inplace=True)\n",
        "print(data)\n",
        "print(data.head())\n",
        "print(data['Label'].unique())"
      ],
      "metadata": {
        "id": "QVJsCNbfzXKc",
        "colab": {
          "base_uri": "https://localhost:8080/"
        },
        "outputId": "eab3a071-6518-45fd-c2cf-bb310317b2a2"
      },
      "execution_count": null,
      "outputs": [
        {
          "output_type": "stream",
          "name": "stdout",
          "text": [
            "     Freq_1  Freq_2  Freq_3  Freq_4  ...  Freq_58  Freq_59  Freq_60  Label\n",
            "0    0.0200  0.0371  0.0428  0.0207  ...   0.0084   0.0090   0.0032      0\n",
            "1    0.0453  0.0523  0.0843  0.0689  ...   0.0049   0.0052   0.0044      0\n",
            "2    0.0262  0.0582  0.1099  0.1083  ...   0.0164   0.0095   0.0078      0\n",
            "3    0.0100  0.0171  0.0623  0.0205  ...   0.0044   0.0040   0.0117      0\n",
            "4    0.0762  0.0666  0.0481  0.0394  ...   0.0048   0.0107   0.0094      0\n",
            "..      ...     ...     ...     ...  ...      ...      ...      ...    ...\n",
            "203  0.0187  0.0346  0.0168  0.0177  ...   0.0115   0.0193   0.0157      1\n",
            "204  0.0323  0.0101  0.0298  0.0564  ...   0.0032   0.0062   0.0067      1\n",
            "205  0.0522  0.0437  0.0180  0.0292  ...   0.0138   0.0077   0.0031      1\n",
            "206  0.0303  0.0353  0.0490  0.0608  ...   0.0079   0.0036   0.0048      1\n",
            "207  0.0260  0.0363  0.0136  0.0272  ...   0.0036   0.0061   0.0115      1\n",
            "\n",
            "[208 rows x 61 columns]\n",
            "   Freq_1  Freq_2  Freq_3  Freq_4  ...  Freq_58  Freq_59  Freq_60  Label\n",
            "0  0.0200  0.0371  0.0428  0.0207  ...   0.0084   0.0090   0.0032      0\n",
            "1  0.0453  0.0523  0.0843  0.0689  ...   0.0049   0.0052   0.0044      0\n",
            "2  0.0262  0.0582  0.1099  0.1083  ...   0.0164   0.0095   0.0078      0\n",
            "3  0.0100  0.0171  0.0623  0.0205  ...   0.0044   0.0040   0.0117      0\n",
            "4  0.0762  0.0666  0.0481  0.0394  ...   0.0048   0.0107   0.0094      0\n",
            "\n",
            "[5 rows x 61 columns]\n",
            "[0 1]\n"
          ]
        }
      ]
    },
    {
      "cell_type": "code",
      "source": [
        "#SPLITTING THE DATA INTO TRAIN DATA AND TEST DATA\n",
        "X, y = make_classification(n_samples=100, random_state=1)\n",
        "X_train, X_test, y_train, y_test = train_test_split(X, y, stratify=y,random_state=1)\n",
        "print(X_train.shape)\n",
        "print(y_test.shape)"
      ],
      "metadata": {
        "colab": {
          "base_uri": "https://localhost:8080/"
        },
        "id": "vV2LjMwK0O5j",
        "outputId": "64ad0b1a-7c68-4f5a-b172-365afa1a6835"
      },
      "execution_count": null,
      "outputs": [
        {
          "output_type": "stream",
          "name": "stdout",
          "text": [
            "(75, 20)\n",
            "(25,)\n"
          ]
        }
      ]
    },
    {
      "cell_type": "markdown",
      "source": [
        "## ***SOME OF THE BASIC PARAMETERS FOR MULTILAYER PERCEPTRON AND OBSERVING THE CHANGE IN ACCURACY VALUES AND CONFUSION MATRIX ***"
      ],
      "metadata": {
        "id": "mQ_RXapX28xU"
      }
    },
    {
      "cell_type": "code",
      "source": [
        "clf = MLPClassifier(random_state=1, max_iter=300).fit(X_train, y_train)\n",
        "clf.predict_proba(X_test[:1])\n",
        "pred = clf.predict(X_test)\n",
        "print(pred)\n",
        "print(clf.score(X_test, y_test))\n",
        "print(confusion_matrix(y_test, pred))\n",
        "print(classification_report(y_test,pred))"
      ],
      "metadata": {
        "colab": {
          "base_uri": "https://localhost:8080/"
        },
        "id": "G83WZ_Vx0cJT",
        "outputId": "b732bd30-9ab8-4970-91e5-95c126bf9df5"
      },
      "execution_count": null,
      "outputs": [
        {
          "output_type": "stream",
          "name": "stdout",
          "text": [
            "[1 0 1 0 1 0 0 1 0 0 0 1 1 0 1 0 0 0 0 1 1 1 0 0 1]\n",
            "0.88\n",
            "[[12  1]\n",
            " [ 2 10]]\n",
            "              precision    recall  f1-score   support\n",
            "\n",
            "           0       0.86      0.92      0.89        13\n",
            "           1       0.91      0.83      0.87        12\n",
            "\n",
            "    accuracy                           0.88        25\n",
            "   macro avg       0.88      0.88      0.88        25\n",
            "weighted avg       0.88      0.88      0.88        25\n",
            "\n"
          ]
        }
      ]
    },
    {
      "cell_type": "code",
      "source": [
        "clf = MLPClassifier(random_state=0, max_iter=300).fit(X_train, y_train)\n",
        "clf.predict_proba(X_test[:1])\n",
        "pred = clf.predict(X_test)\n",
        "print(pred)\n",
        "print(clf.score(X_test, y_test))\n",
        "print(confusion_matrix(y_test, pred))\n",
        "print(classification_report(y_test,pred))"
      ],
      "metadata": {
        "colab": {
          "base_uri": "https://localhost:8080/"
        },
        "id": "HFNmrady0fTD",
        "outputId": "71438f17-6263-4bb1-ee25-fec81ad7eb98"
      },
      "execution_count": null,
      "outputs": [
        {
          "output_type": "stream",
          "name": "stdout",
          "text": [
            "[1 0 1 0 1 0 0 1 0 0 0 1 1 0 1 0 0 0 0 1 1 1 0 1 1]\n",
            "0.84\n",
            "[[11  2]\n",
            " [ 2 10]]\n",
            "              precision    recall  f1-score   support\n",
            "\n",
            "           0       0.85      0.85      0.85        13\n",
            "           1       0.83      0.83      0.83        12\n",
            "\n",
            "    accuracy                           0.84        25\n",
            "   macro avg       0.84      0.84      0.84        25\n",
            "weighted avg       0.84      0.84      0.84        25\n",
            "\n"
          ]
        }
      ]
    },
    {
      "cell_type": "code",
      "source": [
        "clf = MLPClassifier(alpha = 0.009, max_iter=200).fit(X_train, y_train)\n",
        "clf.predict_proba(X_test[:1])\n",
        "pred = clf.predict(X_test)\n",
        "print(pred)\n",
        "print(clf.score(X_test, y_test))\n",
        "print(confusion_matrix(y_test, pred))\n",
        "print(classification_report(y_test,pred))"
      ],
      "metadata": {
        "colab": {
          "base_uri": "https://localhost:8080/"
        },
        "id": "qalKS-CG0x08",
        "outputId": "d2af928a-56b5-4475-f58d-53b306567f57"
      },
      "execution_count": null,
      "outputs": [
        {
          "output_type": "stream",
          "name": "stdout",
          "text": [
            "[1 0 1 0 1 0 0 1 0 0 0 1 1 0 1 0 0 0 0 1 1 1 0 0 1]\n",
            "0.88\n",
            "[[12  1]\n",
            " [ 2 10]]\n",
            "              precision    recall  f1-score   support\n",
            "\n",
            "           0       0.86      0.92      0.89        13\n",
            "           1       0.91      0.83      0.87        12\n",
            "\n",
            "    accuracy                           0.88        25\n",
            "   macro avg       0.88      0.88      0.88        25\n",
            "weighted avg       0.88      0.88      0.88        25\n",
            "\n"
          ]
        },
        {
          "output_type": "stream",
          "name": "stderr",
          "text": [
            "/usr/local/lib/python3.7/dist-packages/sklearn/neural_network/_multilayer_perceptron.py:696: ConvergenceWarning: Stochastic Optimizer: Maximum iterations (200) reached and the optimization hasn't converged yet.\n",
            "  ConvergenceWarning,\n"
          ]
        }
      ]
    },
    {
      "cell_type": "code",
      "source": [
        "clf = MLPClassifier(alpha = 0.5, max_iter=200).fit(X_train, y_train)\n",
        "clf.predict_proba(X_test[:1])\n",
        "pred = clf.predict(X_test)\n",
        "print(pred)\n",
        "print(clf.score(X_test, y_test))\n",
        "print(confusion_matrix(y_test, pred))\n",
        "print(classification_report(y_test,pred))"
      ],
      "metadata": {
        "id": "HOauywJW7eAF",
        "outputId": "c74f0ba7-9ae8-42b1-d745-efefa70e4b81",
        "colab": {
          "base_uri": "https://localhost:8080/"
        }
      },
      "execution_count": null,
      "outputs": [
        {
          "output_type": "stream",
          "name": "stdout",
          "text": [
            "[1 0 1 1 1 0 0 1 0 0 0 1 1 0 1 0 0 0 0 0 1 1 0 0 1]\n",
            "0.96\n",
            "[[13  0]\n",
            " [ 1 11]]\n",
            "              precision    recall  f1-score   support\n",
            "\n",
            "           0       0.93      1.00      0.96        13\n",
            "           1       1.00      0.92      0.96        12\n",
            "\n",
            "    accuracy                           0.96        25\n",
            "   macro avg       0.96      0.96      0.96        25\n",
            "weighted avg       0.96      0.96      0.96        25\n",
            "\n"
          ]
        },
        {
          "output_type": "stream",
          "name": "stderr",
          "text": [
            "/usr/local/lib/python3.7/dist-packages/sklearn/neural_network/_multilayer_perceptron.py:696: ConvergenceWarning: Stochastic Optimizer: Maximum iterations (200) reached and the optimization hasn't converged yet.\n",
            "  ConvergenceWarning,\n"
          ]
        }
      ]
    },
    {
      "cell_type": "code",
      "source": [
        "clf = MLPClassifier(alpha = 0.009, max_iter=200, activation = 'tanh').fit(X_train, y_train)\n",
        "clf.predict_proba(X_test[:1])\n",
        "pred = clf.predict(X_test)\n",
        "print(pred)\n",
        "print(clf.score(X_test, y_test))\n",
        "print(confusion_matrix(y_test, pred))\n",
        "print(classification_report(y_test,pred))"
      ],
      "metadata": {
        "colab": {
          "base_uri": "https://localhost:8080/"
        },
        "id": "GbIsg6aM0-Z0",
        "outputId": "f8636902-6bf2-48bd-bb2f-85c55af24749"
      },
      "execution_count": null,
      "outputs": [
        {
          "output_type": "stream",
          "name": "stdout",
          "text": [
            "[1 0 1 0 1 0 0 1 0 0 0 1 1 0 1 0 0 0 0 0 1 1 0 0 1]\n",
            "0.92\n",
            "[[13  0]\n",
            " [ 2 10]]\n",
            "              precision    recall  f1-score   support\n",
            "\n",
            "           0       0.87      1.00      0.93        13\n",
            "           1       1.00      0.83      0.91        12\n",
            "\n",
            "    accuracy                           0.92        25\n",
            "   macro avg       0.93      0.92      0.92        25\n",
            "weighted avg       0.93      0.92      0.92        25\n",
            "\n"
          ]
        },
        {
          "output_type": "stream",
          "name": "stderr",
          "text": [
            "/usr/local/lib/python3.7/dist-packages/sklearn/neural_network/_multilayer_perceptron.py:696: ConvergenceWarning: Stochastic Optimizer: Maximum iterations (200) reached and the optimization hasn't converged yet.\n",
            "  ConvergenceWarning,\n"
          ]
        }
      ]
    },
    {
      "cell_type": "code",
      "source": [
        "clf = MLPClassifier(alpha = 0.009, max_iter=200, activation = 'logistic').fit(X_train, y_train)\n",
        "clf.predict_proba(X_test[:1])\n",
        "pred = clf.predict(X_test)\n",
        "print(pred)\n",
        "print(clf.score(X_test, y_test))\n",
        "print(confusion_matrix(y_test, pred))\n",
        "print(classification_report(y_test,pred))"
      ],
      "metadata": {
        "colab": {
          "base_uri": "https://localhost:8080/"
        },
        "id": "zDbn3Olt1QJU",
        "outputId": "6985b91e-7534-4662-8d35-ea548426418b"
      },
      "execution_count": null,
      "outputs": [
        {
          "output_type": "stream",
          "name": "stdout",
          "text": [
            "[1 0 1 0 1 0 0 1 0 0 0 1 1 0 1 0 0 0 0 0 1 1 0 0 0]\n",
            "0.88\n",
            "[[13  0]\n",
            " [ 3  9]]\n",
            "              precision    recall  f1-score   support\n",
            "\n",
            "           0       0.81      1.00      0.90        13\n",
            "           1       1.00      0.75      0.86        12\n",
            "\n",
            "    accuracy                           0.88        25\n",
            "   macro avg       0.91      0.88      0.88        25\n",
            "weighted avg       0.90      0.88      0.88        25\n",
            "\n"
          ]
        },
        {
          "output_type": "stream",
          "name": "stderr",
          "text": [
            "/usr/local/lib/python3.7/dist-packages/sklearn/neural_network/_multilayer_perceptron.py:696: ConvergenceWarning: Stochastic Optimizer: Maximum iterations (200) reached and the optimization hasn't converged yet.\n",
            "  ConvergenceWarning,\n"
          ]
        }
      ]
    },
    {
      "cell_type": "code",
      "source": [
        "clf = MLPClassifier(alpha = 0.009, max_iter=200, activation = 'identity').fit(X_train, y_train)\n",
        "clf.predict_proba(X_test[:1])\n",
        "pred = clf.predict(X_test)\n",
        "print(pred)\n",
        "print(clf.score(X_test, y_test))\n",
        "print(confusion_matrix(y_test, pred))\n",
        "print(classification_report(y_test,pred))"
      ],
      "metadata": {
        "colab": {
          "base_uri": "https://localhost:8080/"
        },
        "id": "Rc6wU4dv1WZN",
        "outputId": "f3ae983c-9f77-4660-a474-772bd8f1bb93"
      },
      "execution_count": null,
      "outputs": [
        {
          "output_type": "stream",
          "name": "stdout",
          "text": [
            "[1 0 1 0 1 0 0 1 0 0 0 1 1 0 1 0 0 0 0 0 1 1 0 0 1]\n",
            "0.92\n",
            "[[13  0]\n",
            " [ 2 10]]\n",
            "              precision    recall  f1-score   support\n",
            "\n",
            "           0       0.87      1.00      0.93        13\n",
            "           1       1.00      0.83      0.91        12\n",
            "\n",
            "    accuracy                           0.92        25\n",
            "   macro avg       0.93      0.92      0.92        25\n",
            "weighted avg       0.93      0.92      0.92        25\n",
            "\n"
          ]
        },
        {
          "output_type": "stream",
          "name": "stderr",
          "text": [
            "/usr/local/lib/python3.7/dist-packages/sklearn/neural_network/_multilayer_perceptron.py:696: ConvergenceWarning: Stochastic Optimizer: Maximum iterations (200) reached and the optimization hasn't converged yet.\n",
            "  ConvergenceWarning,\n"
          ]
        }
      ]
    },
    {
      "cell_type": "code",
      "source": [
        "clf = MLPClassifier(alpha = 0.05, max_iter=300, solver = 'sgd').fit(X_train, y_train)\n",
        "clf.predict_proba(X_test[:1])\n",
        "pred = clf.predict(X_test)\n",
        "print(pred)\n",
        "print(clf.score(X_test, y_test))\n",
        "print(confusion_matrix(y_test, pred))\n",
        "print(classification_report(y_test,pred))"
      ],
      "metadata": {
        "colab": {
          "base_uri": "https://localhost:8080/"
        },
        "id": "ulAYaN3y1IpM",
        "outputId": "b5bd19b9-3a86-47dd-cd1a-a71c9c17c4ae"
      },
      "execution_count": null,
      "outputs": [
        {
          "output_type": "stream",
          "name": "stdout",
          "text": [
            "[1 0 1 0 1 0 0 1 0 0 0 1 1 0 1 0 0 0 0 0 1 1 0 0 1]\n",
            "0.92\n",
            "[[13  0]\n",
            " [ 2 10]]\n",
            "              precision    recall  f1-score   support\n",
            "\n",
            "           0       0.87      1.00      0.93        13\n",
            "           1       1.00      0.83      0.91        12\n",
            "\n",
            "    accuracy                           0.92        25\n",
            "   macro avg       0.93      0.92      0.92        25\n",
            "weighted avg       0.93      0.92      0.92        25\n",
            "\n"
          ]
        },
        {
          "output_type": "stream",
          "name": "stderr",
          "text": [
            "/usr/local/lib/python3.7/dist-packages/sklearn/neural_network/_multilayer_perceptron.py:696: ConvergenceWarning: Stochastic Optimizer: Maximum iterations (300) reached and the optimization hasn't converged yet.\n",
            "  ConvergenceWarning,\n"
          ]
        }
      ]
    },
    {
      "cell_type": "code",
      "source": [
        "clf = MLPClassifier(alpha = 0.05, max_iter=300, solver = 'adam').fit(X_train, y_train)\n",
        "clf.predict_proba(X_test[:1])\n",
        "pred = clf.predict(X_test)\n",
        "print(pred)\n",
        "print(clf.score(X_test, y_test))\n",
        "print(confusion_matrix(y_test, pred))\n",
        "print(classification_report(y_test,pred))"
      ],
      "metadata": {
        "colab": {
          "base_uri": "https://localhost:8080/"
        },
        "id": "9au2LVkx1kDc",
        "outputId": "c3548170-9197-4aff-8bf1-625adf9fb6e6"
      },
      "execution_count": null,
      "outputs": [
        {
          "output_type": "stream",
          "name": "stdout",
          "text": [
            "[1 0 1 0 1 0 0 1 0 0 0 1 1 0 1 0 0 0 0 1 1 1 0 1 1]\n",
            "0.84\n",
            "[[11  2]\n",
            " [ 2 10]]\n",
            "              precision    recall  f1-score   support\n",
            "\n",
            "           0       0.85      0.85      0.85        13\n",
            "           1       0.83      0.83      0.83        12\n",
            "\n",
            "    accuracy                           0.84        25\n",
            "   macro avg       0.84      0.84      0.84        25\n",
            "weighted avg       0.84      0.84      0.84        25\n",
            "\n"
          ]
        }
      ]
    },
    {
      "cell_type": "code",
      "source": [
        "clf = MLPClassifier(alpha = 0.05, max_iter=300, solver = 'lbfgs').fit(X_train, y_train)\n",
        "clf.predict_proba(X_test[:1])\n",
        "pred = clf.predict(X_test)\n",
        "print(pred)\n",
        "print(clf.score(X_test, y_test))\n",
        "print(confusion_matrix(y_test, pred))\n",
        "print(classification_report(y_test,pred))"
      ],
      "metadata": {
        "colab": {
          "base_uri": "https://localhost:8080/"
        },
        "id": "EkhnGp011nTs",
        "outputId": "90932daf-b25f-4c19-ffde-2f3a2acf4235"
      },
      "execution_count": null,
      "outputs": [
        {
          "output_type": "stream",
          "name": "stdout",
          "text": [
            "[1 0 1 0 1 0 0 1 0 0 0 1 1 0 1 0 0 0 0 0 1 1 0 0 1]\n",
            "0.92\n",
            "[[13  0]\n",
            " [ 2 10]]\n",
            "              precision    recall  f1-score   support\n",
            "\n",
            "           0       0.87      1.00      0.93        13\n",
            "           1       1.00      0.83      0.91        12\n",
            "\n",
            "    accuracy                           0.92        25\n",
            "   macro avg       0.93      0.92      0.92        25\n",
            "weighted avg       0.93      0.92      0.92        25\n",
            "\n"
          ]
        },
        {
          "output_type": "stream",
          "name": "stderr",
          "text": [
            "/usr/local/lib/python3.7/dist-packages/sklearn/neural_network/_multilayer_perceptron.py:549: ConvergenceWarning: lbfgs failed to converge (status=1):\n",
            "STOP: TOTAL NO. of ITERATIONS REACHED LIMIT.\n",
            "\n",
            "Increase the number of iterations (max_iter) or scale the data as shown in:\n",
            "    https://scikit-learn.org/stable/modules/preprocessing.html\n",
            "  self.n_iter_ = _check_optimize_result(\"lbfgs\", opt_res, self.max_iter)\n"
          ]
        }
      ]
    },
    {
      "cell_type": "code",
      "source": [
        "clf = MLPClassifier(alpha = 0.9, shuffle = True, solver = 'adam').fit(X_train, y_train)\n",
        "clf.predict_proba(X_test[:1])\n",
        "pred = clf.predict(X_test)\n",
        "print(pred)\n",
        "print(clf.score(X_test, y_test))\n",
        "print(confusion_matrix(y_test, pred))\n",
        "print(classification_report(y_test,pred))"
      ],
      "metadata": {
        "colab": {
          "base_uri": "https://localhost:8080/"
        },
        "id": "Dfwh-u4S12Ir",
        "outputId": "df849bea-3d31-4acf-9ad3-34fe5e4d06a7"
      },
      "execution_count": null,
      "outputs": [
        {
          "output_type": "stream",
          "name": "stdout",
          "text": [
            "[1 0 1 0 1 0 0 1 0 0 0 1 1 0 1 0 0 0 0 0 1 1 0 0 1]\n",
            "0.92\n",
            "[[13  0]\n",
            " [ 2 10]]\n",
            "              precision    recall  f1-score   support\n",
            "\n",
            "           0       0.87      1.00      0.93        13\n",
            "           1       1.00      0.83      0.91        12\n",
            "\n",
            "    accuracy                           0.92        25\n",
            "   macro avg       0.93      0.92      0.92        25\n",
            "weighted avg       0.93      0.92      0.92        25\n",
            "\n"
          ]
        },
        {
          "output_type": "stream",
          "name": "stderr",
          "text": [
            "/usr/local/lib/python3.7/dist-packages/sklearn/neural_network/_multilayer_perceptron.py:696: ConvergenceWarning: Stochastic Optimizer: Maximum iterations (200) reached and the optimization hasn't converged yet.\n",
            "  ConvergenceWarning,\n"
          ]
        }
      ]
    },
    {
      "cell_type": "code",
      "source": [
        "clf = MLPClassifier(alpha = 0.9, shuffle = False, solver = 'adam').fit(X_train, y_train)\n",
        "clf.predict_proba(X_test[:1])\n",
        "pred = clf.predict(X_test)\n",
        "print(pred)\n",
        "print(clf.score(X_test, y_test))\n",
        "print(confusion_matrix(y_test, pred))\n",
        "print(classification_report(y_test,pred))"
      ],
      "metadata": {
        "colab": {
          "base_uri": "https://localhost:8080/"
        },
        "id": "X-unIxqN5LGk",
        "outputId": "bccc20f7-a20f-493a-a924-84f0fd286feb"
      },
      "execution_count": null,
      "outputs": [
        {
          "output_type": "stream",
          "name": "stdout",
          "text": [
            "[1 0 1 0 1 0 0 1 0 0 0 1 1 0 1 0 0 0 0 0 1 1 0 0 1]\n",
            "0.92\n",
            "[[13  0]\n",
            " [ 2 10]]\n",
            "              precision    recall  f1-score   support\n",
            "\n",
            "           0       0.87      1.00      0.93        13\n",
            "           1       1.00      0.83      0.91        12\n",
            "\n",
            "    accuracy                           0.92        25\n",
            "   macro avg       0.93      0.92      0.92        25\n",
            "weighted avg       0.93      0.92      0.92        25\n",
            "\n"
          ]
        },
        {
          "output_type": "stream",
          "name": "stderr",
          "text": [
            "/usr/local/lib/python3.7/dist-packages/sklearn/neural_network/_multilayer_perceptron.py:696: ConvergenceWarning: Stochastic Optimizer: Maximum iterations (200) reached and the optimization hasn't converged yet.\n",
            "  ConvergenceWarning,\n"
          ]
        }
      ]
    },
    {
      "cell_type": "code",
      "source": [
        "clf = MLPClassifier(alpha = 0.9, shuffle = True, solver = 'adam', max_iter=300).fit(X_train, y_train)\n",
        "clf.predict_proba(X_test[:1])\n",
        "pred = clf.predict(X_test)\n",
        "print(pred)\n",
        "print(clf.score(X_test, y_test))\n",
        "print(confusion_matrix(y_test, pred))\n",
        "print(classification_report(y_test,pred))"
      ],
      "metadata": {
        "colab": {
          "base_uri": "https://localhost:8080/"
        },
        "id": "iYEieA6g2A_b",
        "outputId": "9228e879-af5f-44c5-bcc7-d00ee6d56b13"
      },
      "execution_count": null,
      "outputs": [
        {
          "output_type": "stream",
          "name": "stdout",
          "text": [
            "[1 0 1 0 1 0 0 1 0 0 0 1 1 0 1 0 0 0 0 0 1 1 0 0 1]\n",
            "0.92\n",
            "[[13  0]\n",
            " [ 2 10]]\n",
            "              precision    recall  f1-score   support\n",
            "\n",
            "           0       0.87      1.00      0.93        13\n",
            "           1       1.00      0.83      0.91        12\n",
            "\n",
            "    accuracy                           0.92        25\n",
            "   macro avg       0.93      0.92      0.92        25\n",
            "weighted avg       0.93      0.92      0.92        25\n",
            "\n"
          ]
        },
        {
          "output_type": "stream",
          "name": "stderr",
          "text": [
            "/usr/local/lib/python3.7/dist-packages/sklearn/neural_network/_multilayer_perceptron.py:696: ConvergenceWarning: Stochastic Optimizer: Maximum iterations (300) reached and the optimization hasn't converged yet.\n",
            "  ConvergenceWarning,\n"
          ]
        }
      ]
    },
    {
      "cell_type": "code",
      "source": [
        "clf = MLPClassifier(alpha = 0.4,batch_size=20, max_iter = 700).fit(X_train, y_train)\n",
        "clf.predict_proba(X_test[:1])\n",
        "pred = clf.predict(X_test)\n",
        "print(pred)\n",
        "print(clf.score(X_test, y_test))\n",
        "print(confusion_matrix(y_test, pred))\n",
        "print(classification_report(y_test,pred))"
      ],
      "metadata": {
        "colab": {
          "base_uri": "https://localhost:8080/"
        },
        "id": "SRjhCG7e2Egs",
        "outputId": "70a09c4c-0898-4a00-8d63-53791b3e101a"
      },
      "execution_count": null,
      "outputs": [
        {
          "output_type": "stream",
          "name": "stdout",
          "text": [
            "[1 0 1 0 1 0 0 1 0 0 0 1 1 0 1 0 0 0 0 0 1 1 0 0 1]\n",
            "0.92\n",
            "[[13  0]\n",
            " [ 2 10]]\n",
            "              precision    recall  f1-score   support\n",
            "\n",
            "           0       0.87      1.00      0.93        13\n",
            "           1       1.00      0.83      0.91        12\n",
            "\n",
            "    accuracy                           0.92        25\n",
            "   macro avg       0.93      0.92      0.92        25\n",
            "weighted avg       0.93      0.92      0.92        25\n",
            "\n"
          ]
        }
      ]
    },
    {
      "cell_type": "code",
      "source": [
        "clf = MLPClassifier(alpha = 0.4,batch_size=70, max_iter = 700).fit(X_train, y_train)\n",
        "clf.predict_proba(X_test[:1])\n",
        "pred = clf.predict(X_test)\n",
        "print(pred)\n",
        "print(clf.score(X_test, y_test))\n",
        "print(confusion_matrix(y_test, pred))\n",
        "print(classification_report(y_test,pred))"
      ],
      "metadata": {
        "colab": {
          "base_uri": "https://localhost:8080/"
        },
        "id": "6ValVkVz2Nis",
        "outputId": "74c1520d-60f7-45e4-c54e-8f546d6f9ee3"
      },
      "execution_count": null,
      "outputs": [
        {
          "output_type": "stream",
          "name": "stdout",
          "text": [
            "[1 0 1 0 1 0 0 1 0 0 0 1 1 0 1 0 0 0 0 0 1 1 0 0 1]\n",
            "0.92\n",
            "[[13  0]\n",
            " [ 2 10]]\n",
            "              precision    recall  f1-score   support\n",
            "\n",
            "           0       0.87      1.00      0.93        13\n",
            "           1       1.00      0.83      0.91        12\n",
            "\n",
            "    accuracy                           0.92        25\n",
            "   macro avg       0.93      0.92      0.92        25\n",
            "weighted avg       0.93      0.92      0.92        25\n",
            "\n"
          ]
        }
      ]
    },
    {
      "cell_type": "code",
      "source": [
        "clf = MLPClassifier(alpha = 0.4,batch_size=80, max_iter = 700).fit(X_train, y_train)\n",
        "clf.predict_proba(X_test[:1])\n",
        "pred = clf.predict(X_test)\n",
        "print(pred)\n",
        "print(clf.score(X_test, y_test))\n",
        "print(confusion_matrix(y_test, pred))\n",
        "print(classification_report(y_test,pred))"
      ],
      "metadata": {
        "colab": {
          "base_uri": "https://localhost:8080/"
        },
        "id": "HMEEvLiq2ROL",
        "outputId": "44d2ec06-04cd-4581-daec-7c77572a5562"
      },
      "execution_count": null,
      "outputs": [
        {
          "output_type": "stream",
          "name": "stderr",
          "text": [
            "/usr/local/lib/python3.7/dist-packages/sklearn/neural_network/_multilayer_perceptron.py:612: UserWarning: Got `batch_size` less than 1 or larger than sample size. It is going to be clipped\n",
            "  \"Got `batch_size` less than 1 or larger than \"\n"
          ]
        },
        {
          "output_type": "stream",
          "name": "stdout",
          "text": [
            "[1 0 1 0 1 0 0 1 0 0 0 1 1 0 1 0 0 0 0 0 1 1 0 0 1]\n",
            "0.92\n",
            "[[13  0]\n",
            " [ 2 10]]\n",
            "              precision    recall  f1-score   support\n",
            "\n",
            "           0       0.87      1.00      0.93        13\n",
            "           1       1.00      0.83      0.91        12\n",
            "\n",
            "    accuracy                           0.92        25\n",
            "   macro avg       0.93      0.92      0.92        25\n",
            "weighted avg       0.93      0.92      0.92        25\n",
            "\n"
          ]
        }
      ]
    },
    {
      "cell_type": "code",
      "source": [
        "clf = MLPClassifier(alpha = 0.4,power_t=0.6, solver='sgd').fit(X_train, y_train)\n",
        "clf.predict_proba(X_test[:1])\n",
        "pred = clf.predict(X_test)\n",
        "print(pred)\n",
        "print(clf.score(X_test, y_test))\n",
        "print(confusion_matrix(y_test, pred))\n",
        "print(classification_report(y_test,pred))"
      ],
      "metadata": {
        "colab": {
          "base_uri": "https://localhost:8080/"
        },
        "id": "k7ONLy_s6O8l",
        "outputId": "147d57e9-7ce2-4466-c77c-bd2d0cb2f9c7"
      },
      "execution_count": null,
      "outputs": [
        {
          "output_type": "stream",
          "name": "stdout",
          "text": [
            "[1 0 1 0 1 1 0 1 0 0 0 1 1 0 1 0 0 0 0 0 1 0 0 0 0]\n",
            "0.8\n",
            "[[12  1]\n",
            " [ 4  8]]\n",
            "              precision    recall  f1-score   support\n",
            "\n",
            "           0       0.75      0.92      0.83        13\n",
            "           1       0.89      0.67      0.76        12\n",
            "\n",
            "    accuracy                           0.80        25\n",
            "   macro avg       0.82      0.79      0.79        25\n",
            "weighted avg       0.82      0.80      0.80        25\n",
            "\n"
          ]
        },
        {
          "output_type": "stream",
          "name": "stderr",
          "text": [
            "/usr/local/lib/python3.7/dist-packages/sklearn/neural_network/_multilayer_perceptron.py:696: ConvergenceWarning: Stochastic Optimizer: Maximum iterations (200) reached and the optimization hasn't converged yet.\n",
            "  ConvergenceWarning,\n"
          ]
        }
      ]
    },
    {
      "cell_type": "code",
      "source": [
        "clf = MLPClassifier(alpha = 0.4,power_t=0.9, solver='sgd').fit(X_train, y_train)\n",
        "clf.predict_proba(X_test[:1])\n",
        "pred = clf.predict(X_test)\n",
        "print(pred)\n",
        "print(clf.score(X_test, y_test))\n",
        "print(confusion_matrix(y_test, pred))\n",
        "print(classification_report(y_test,pred))"
      ],
      "metadata": {
        "colab": {
          "base_uri": "https://localhost:8080/"
        },
        "id": "3HhiVG586VMN",
        "outputId": "faaac597-c552-45c2-ec94-8483c3f276e6"
      },
      "execution_count": null,
      "outputs": [
        {
          "output_type": "stream",
          "name": "stdout",
          "text": [
            "[1 0 1 1 1 0 0 1 0 0 0 1 1 0 1 0 0 0 0 0 1 1 0 0 1]\n",
            "0.96\n",
            "[[13  0]\n",
            " [ 1 11]]\n",
            "              precision    recall  f1-score   support\n",
            "\n",
            "           0       0.93      1.00      0.96        13\n",
            "           1       1.00      0.92      0.96        12\n",
            "\n",
            "    accuracy                           0.96        25\n",
            "   macro avg       0.96      0.96      0.96        25\n",
            "weighted avg       0.96      0.96      0.96        25\n",
            "\n"
          ]
        },
        {
          "output_type": "stream",
          "name": "stderr",
          "text": [
            "/usr/local/lib/python3.7/dist-packages/sklearn/neural_network/_multilayer_perceptron.py:696: ConvergenceWarning: Stochastic Optimizer: Maximum iterations (200) reached and the optimization hasn't converged yet.\n",
            "  ConvergenceWarning,\n"
          ]
        }
      ]
    },
    {
      "cell_type": "code",
      "source": [
        "clf = MLPClassifier(alpha = 0.4,momentum=0.6, solver='sgd').fit(X_train, y_train)\n",
        "clf.predict_proba(X_test[:1])\n",
        "pred = clf.predict(X_test)\n",
        "print(pred)\n",
        "print(clf.score(X_test, y_test))\n",
        "print(confusion_matrix(y_test, pred))\n",
        "print(classification_report(y_test,pred))"
      ],
      "metadata": {
        "colab": {
          "base_uri": "https://localhost:8080/"
        },
        "id": "zezP6p1Y6rXd",
        "outputId": "99738aa9-1751-40e8-e908-d8fdb27a805a"
      },
      "execution_count": null,
      "outputs": [
        {
          "output_type": "stream",
          "name": "stdout",
          "text": [
            "[1 0 1 1 1 0 0 1 1 0 0 1 0 1 1 0 0 0 0 0 1 0 0 0 0]\n",
            "0.84\n",
            "[[12  1]\n",
            " [ 3  9]]\n",
            "              precision    recall  f1-score   support\n",
            "\n",
            "           0       0.80      0.92      0.86        13\n",
            "           1       0.90      0.75      0.82        12\n",
            "\n",
            "    accuracy                           0.84        25\n",
            "   macro avg       0.85      0.84      0.84        25\n",
            "weighted avg       0.85      0.84      0.84        25\n",
            "\n"
          ]
        },
        {
          "output_type": "stream",
          "name": "stderr",
          "text": [
            "/usr/local/lib/python3.7/dist-packages/sklearn/neural_network/_multilayer_perceptron.py:696: ConvergenceWarning: Stochastic Optimizer: Maximum iterations (200) reached and the optimization hasn't converged yet.\n",
            "  ConvergenceWarning,\n"
          ]
        }
      ]
    },
    {
      "cell_type": "code",
      "source": [
        "clf = MLPClassifier(alpha = 0.4,momentum=0.8, solver='sgd').fit(X_train, y_train)\n",
        "clf.predict_proba(X_test[:1])\n",
        "pred = clf.predict(X_test)\n",
        "print(pred)\n",
        "print(clf.score(X_test, y_test))\n",
        "print(confusion_matrix(y_test, pred))\n",
        "print(classification_report(y_test,pred))"
      ],
      "metadata": {
        "colab": {
          "base_uri": "https://localhost:8080/"
        },
        "id": "FO--lnoN6xO1",
        "outputId": "1d89b06c-53d8-437e-e72b-9010d432de7f"
      },
      "execution_count": null,
      "outputs": [
        {
          "output_type": "stream",
          "name": "stdout",
          "text": [
            "[1 0 1 1 0 1 0 1 0 0 0 1 1 0 1 0 0 0 0 0 1 1 0 0 0]\n",
            "0.84\n",
            "[[12  1]\n",
            " [ 3  9]]\n",
            "              precision    recall  f1-score   support\n",
            "\n",
            "           0       0.80      0.92      0.86        13\n",
            "           1       0.90      0.75      0.82        12\n",
            "\n",
            "    accuracy                           0.84        25\n",
            "   macro avg       0.85      0.84      0.84        25\n",
            "weighted avg       0.85      0.84      0.84        25\n",
            "\n"
          ]
        },
        {
          "output_type": "stream",
          "name": "stderr",
          "text": [
            "/usr/local/lib/python3.7/dist-packages/sklearn/neural_network/_multilayer_perceptron.py:696: ConvergenceWarning: Stochastic Optimizer: Maximum iterations (200) reached and the optimization hasn't converged yet.\n",
            "  ConvergenceWarning,\n"
          ]
        }
      ]
    }
  ]
}