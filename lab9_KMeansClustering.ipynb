{
  "nbformat": 4,
  "nbformat_minor": 0,
  "metadata": {
    "colab": {
      "name": "Lab-9 Machine Learning Essentials.ipynb",
      "provenance": [],
      "collapsed_sections": []
    },
    "kernelspec": {
      "name": "python3",
      "display_name": "Python 3"
    },
    "language_info": {
      "name": "python"
    }
  },
  "cells": [
    {
      "cell_type": "code",
      "execution_count": null,
      "metadata": {
        "id": "UhY8qCiumpjF"
      },
      "outputs": [],
      "source": [
        "#IMPORTING THE REQUIRED LIBRARIES\n",
        "import matplotlib.pyplot as plt \n",
        "import numpy as np \n",
        "from collections import Counter \n",
        "import pandas as pd \n",
        "from sklearn.cluster import KMeans \n",
        "from sklearn import metrics \n",
        "from sklearn.preprocessing import StandardScaler "
      ]
    },
    {
      "cell_type": "code",
      "source": [
        "#IMPORTING THE DATA INTO DATAFRAME FROM CSV FILE\n",
        "df_train = pd.read_csv(r'/content/sample_data/test.csv') \n",
        "df_test = pd.read_csv(r'/content/sample_data/train.csv') \n"
      ],
      "metadata": {
        "id": "HmMbmiR_m5rb"
      },
      "execution_count": null,
      "outputs": []
    },
    {
      "cell_type": "code",
      "source": [
        "#DISPLAYING THE TRAIN DATAFRAME VALUES\n",
        "print(df_train)"
      ],
      "metadata": {
        "colab": {
          "base_uri": "https://localhost:8080/"
        },
        "id": "26Nn_om9naP4",
        "outputId": "cc248a7f-c91c-4a9f-8a0c-baa244974406"
      },
      "execution_count": null,
      "outputs": [
        {
          "output_type": "stream",
          "name": "stdout",
          "text": [
            "            1    575  4\n",
            "0           1   3063  2\n",
            "1           1   5576  3\n",
            "2           1  11561  1\n",
            "3           1  11835  2\n",
            "4           1  12396  1\n",
            "...       ...    ... ..\n",
            "104303  20022  17980  1\n",
            "104304  20022  18119  2\n",
            "104305  20022  20817  1\n",
            "104306  20022  21204  1\n",
            "104307  20023  21385  0\n",
            "\n",
            "[104308 rows x 3 columns]\n"
          ]
        }
      ]
    },
    {
      "cell_type": "code",
      "source": [
        "#DISPLAYING THE TEST DATAFRAME VALUES\n",
        "print(df_test)"
      ],
      "metadata": {
        "colab": {
          "base_uri": "https://localhost:8080/"
        },
        "id": "6bgonzP7nfHU",
        "outputId": "fcd2312a-8e14-4945-e928-452da7d33f1f"
      },
      "execution_count": null,
      "outputs": [
        {
          "output_type": "stream",
          "name": "stdout",
          "text": [
            "            0    741    1\n",
            "0           0    877  189\n",
            "1           0   5773    1\n",
            "2           0   6492    3\n",
            "3           0   7083    2\n",
            "4           0  10381   22\n",
            "...       ...    ...  ...\n",
            "379544  20023  17045    1\n",
            "379545  20023  18347    2\n",
            "379546  20023  21204    2\n",
            "379547  20023  21342    1\n",
            "379548  20023  21385    0\n",
            "\n",
            "[379549 rows x 3 columns]\n"
          ]
        }
      ]
    },
    {
      "cell_type": "code",
      "source": [
        "#DESCRIBING THE TEST DATA\n",
        "print(df_test.describe())"
      ],
      "metadata": {
        "colab": {
          "base_uri": "https://localhost:8080/"
        },
        "id": "96xiRFo-ng1d",
        "outputId": "eae065c9-9187-4215-fc34-80d2bb674d00"
      },
      "execution_count": null,
      "outputs": [
        {
          "output_type": "stream",
          "name": "stdout",
          "text": [
            "                   0            741              1\n",
            "count  379549.000000  379549.000000  379549.000000\n",
            "mean    10076.109799   11884.819241      12.413401\n",
            "std      5779.743603    6453.597054      84.996319\n",
            "min         0.000000       1.000000       0.000000\n",
            "25%      5043.000000    6096.000000       1.000000\n",
            "50%     10091.000000   13080.000000       2.000000\n",
            "75%     15073.000000   17406.000000       6.000000\n",
            "max     20023.000000   21385.000000   10662.000000\n"
          ]
        }
      ]
    },
    {
      "cell_type": "code",
      "source": [
        "#DESCRIBING THE TRAIN DATA\n",
        "print(df_train.describe())"
      ],
      "metadata": {
        "colab": {
          "base_uri": "https://localhost:8080/"
        },
        "id": "mtoDYJDGnp_F",
        "outputId": "eadcb8d5-7a5d-4ab1-e872-0e13950fb624"
      },
      "execution_count": null,
      "outputs": [
        {
          "output_type": "stream",
          "name": "stdout",
          "text": [
            "                   1            575              4\n",
            "count  104308.000000  104308.000000  104308.000000\n",
            "mean     9998.206581   11835.969475       6.957549\n",
            "std      5748.812440    6525.641718      32.774283\n",
            "min         1.000000       3.000000       0.000000\n",
            "25%      5060.000000    6066.000000       1.000000\n",
            "50%      9932.000000   13080.000000       2.000000\n",
            "75%     14902.000000   17406.000000       4.000000\n",
            "max     20023.000000   21385.000000    2245.000000\n"
          ]
        }
      ]
    },
    {
      "cell_type": "code",
      "source": [
        "#STORING THE VALUES OF TEST AND TRAIN DATA IN TO DIFFERENT VARIABLES\n",
        "test_value=df_test.values\n",
        "train_value=df_train.values"
      ],
      "metadata": {
        "id": "0G8wwRyAnuMf"
      },
      "execution_count": null,
      "outputs": []
    },
    {
      "cell_type": "code",
      "source": [
        "#DIVIDING THE TRAIN INTO DEPENDENT AND INDEPENDENT VARIABLES\n",
        "x_train = train_value[:, 0:1] \n",
        "y_train = train_value[:, 2] "
      ],
      "metadata": {
        "id": "boom02tXoCWk"
      },
      "execution_count": null,
      "outputs": []
    },
    {
      "cell_type": "code",
      "source": [
        "#APPLYING THE SCALAR FIT TRANSFORM ON TEST AND TRAIN VALUES\n",
        "scaler = StandardScaler() \n",
        "train_value = scaler.fit_transform(train_value) \n",
        "test_value = scaler.fit_transform(test_value) "
      ],
      "metadata": {
        "id": "bpeaM9ePonfm"
      },
      "execution_count": null,
      "outputs": []
    },
    {
      "cell_type": "markdown",
      "source": [
        "**K-MEANS FOR 2 CLUSTERS**"
      ],
      "metadata": {
        "id": "uiLvCy-0zSw9"
      }
    },
    {
      "cell_type": "code",
      "source": [
        "km = KMeans(init='random', n_clusters=2, n_init=10, max_iter=300, random_state=0).fit(x_train) \n",
        "x = km.predict(x_train) \n",
        "print(x) \n",
        "print(Counter(km.labels_)) "
      ],
      "metadata": {
        "colab": {
          "base_uri": "https://localhost:8080/"
        },
        "id": "a2iOdheNppCt",
        "outputId": "660c1fcd-d639-4212-8bba-1c26d989659c"
      },
      "execution_count": null,
      "outputs": [
        {
          "output_type": "stream",
          "name": "stdout",
          "text": [
            "[0 0 0 ... 1 1 1]\n",
            "Counter({0: 52670, 1: 51638})\n"
          ]
        }
      ]
    },
    {
      "cell_type": "markdown",
      "source": [
        "**SCATTER PLOT FOR K-MEANS 2 CLUSTERS**"
      ],
      "metadata": {
        "id": "j0grjaaizZw2"
      }
    },
    {
      "cell_type": "code",
      "source": [
        "label_0 = x_train[x == 0] \n",
        "lb_0 = y_train[x == 0] \n",
        "label_1 = x_train[x == 1] \n",
        "lb_1 = y_train[x == 1] \n",
        "plt.scatter(label_0, lb_0, color='pink') \n",
        "plt.scatter(label_1, lb_1, color='blue') \n",
        "plt.show() "
      ],
      "metadata": {
        "colab": {
          "base_uri": "https://localhost:8080/",
          "height": 265
        },
        "id": "21gPZIyGqAEf",
        "outputId": "b23233ea-f7a5-4482-afab-386476b9cedf"
      },
      "execution_count": null,
      "outputs": [
        {
          "output_type": "display_data",
          "data": {
            "text/plain": [
              "<Figure size 432x288 with 1 Axes>"
            ],
            "image/png": "[encoded data removed]"
          },
          "metadata": {
            "needs_background": "light"
          }
        }
      ]
    },
    {
      "cell_type": "markdown",
      "source": [
        "**ACCURACY FOR K-MEANS 2 CLUSTERS**"
      ],
      "metadata": {
        "id": "BAAJXuyhzg1W"
      }
    },
    {
      "cell_type": "code",
      "source": [
        "print(\"ACCURACY SCORE: \") \n",
        "print(metrics.rand_score(y_train, x)) "
      ],
      "metadata": {
        "colab": {
          "base_uri": "https://localhost:8080/"
        },
        "id": "Fh_qm_oQqIO1",
        "outputId": "71b4ba6a-c4b0-4d66-bb6e-c5d7e8b0e8d0"
      },
      "execution_count": null,
      "outputs": [
        {
          "output_type": "stream",
          "name": "stdout",
          "text": [
            "ACCURACY SCORE: \n",
            "0.499971397018425\n"
          ]
        }
      ]
    },
    {
      "cell_type": "markdown",
      "source": [
        "**K-MEANS FOR 3 CLUSTERS**\n"
      ],
      "metadata": {
        "id": "nP-uqQsVzwju"
      }
    },
    {
      "cell_type": "code",
      "source": [
        "km = KMeans(init='random', n_clusters=3, n_init=10, max_iter=300, random_state=0).fit(x_train) \n",
        "x = km.predict(x_train) \n",
        "print(x) \n",
        "print(Counter(km.labels_)) "
      ],
      "metadata": {
        "colab": {
          "base_uri": "https://localhost:8080/"
        },
        "id": "8_aVZg2HsLAF",
        "outputId": "d1d1da44-f719-417f-b283-ee6404a18cb2"
      },
      "execution_count": null,
      "outputs": [
        {
          "output_type": "stream",
          "name": "stdout",
          "text": [
            "[1 1 1 ... 0 0 0]\n",
            "Counter({1: 35676, 2: 35044, 0: 33588})\n"
          ]
        }
      ]
    },
    {
      "cell_type": "markdown",
      "source": [
        "**SCATTER PLOT FOR K-MEANS 3 CLUSTERS**"
      ],
      "metadata": {
        "id": "iKueSDn1zoNB"
      }
    },
    {
      "cell_type": "code",
      "source": [
        "label_0 = x_train[x == 0] \n",
        "lb_0 = y_train[x == 0] \n",
        "label_1 = x_train[x == 1] \n",
        "lb_1 = y_train[x == 1] \n",
        "label_2 = x_train[x == 2] \n",
        "lb_2 = y_train[x == 2] \n",
        "plt.scatter(label_0, lb_0, color='red') \n",
        "plt.scatter(label_1, lb_1, color='purple') \n",
        "plt.scatter(label_2, lb_2, color='green') \n",
        "plt.show() "
      ],
      "metadata": {
        "colab": {
          "base_uri": "https://localhost:8080/",
          "height": 265
        },
        "id": "wqKHG_43qi5a",
        "outputId": "532fe8f9-2fa1-4936-dea7-004055b09cb7"
      },
      "execution_count": null,
      "outputs": [
        {
          "output_type": "display_data",
          "data": {
            "text/plain": [
              "<Figure size 432x288 with 1 Axes>"
            ],
            "image/png": "[encoded data removed]"
          },
          "metadata": {
            "needs_background": "light"
          }
        }
      ]
    },
    {
      "cell_type": "markdown",
      "source": [
        "**ACCURACY FOR K-MEANS 3 CLUSTERS**"
      ],
      "metadata": {
        "id": "mFGe4rgZ0Ap6"
      }
    },
    {
      "cell_type": "code",
      "source": [
        "print(\"ACCURACY SCORE: \") \n",
        "print(metrics.rand_score(y_train, x)) \n"
      ],
      "metadata": {
        "colab": {
          "base_uri": "https://localhost:8080/"
        },
        "id": "117c8xYZqwIR",
        "outputId": "23214cb8-1251-46f2-f5a1-d2eed81e5937"
      },
      "execution_count": null,
      "outputs": [
        {
          "output_type": "stream",
          "name": "stdout",
          "text": [
            "ACCURACY SCORE: \n",
            "0.5798062312583867\n"
          ]
        }
      ]
    },
    {
      "cell_type": "code",
      "source": [
        "km = KMeans(init='random', n_clusters=4, n_init=10, max_iter=300, random_state=0).fit(x_train) \n",
        "x = km.predict(x_train) \n",
        "print(x) \n",
        "print(Counter(km.labels_)) "
      ],
      "metadata": {
        "colab": {
          "base_uri": "https://localhost:8080/"
        },
        "id": "MBU9yT49sWBt",
        "outputId": "df929e42-b5e5-47e2-d38e-2fbe49b9d5b0"
      },
      "execution_count": null,
      "outputs": [
        {
          "output_type": "stream",
          "name": "stdout",
          "text": [
            "[3 3 3 ... 1 1 1]\n",
            "Counter({3: 26779, 0: 26756, 2: 25791, 1: 24982})\n"
          ]
        }
      ]
    },
    {
      "cell_type": "code",
      "source": [
        "label_0 = x_train[x == 0] \n",
        "lb_0 = y_train[x == 0] \n",
        "label_1 = x_train[x == 1] \n",
        "lb_1 = y_train[x == 1] \n",
        "label_2 = x_train[x == 2] \n",
        "lb_2 = y_train[x == 2] \n",
        "label_3 = x_train[x == 3] \n",
        "lb_3 = y_train[x == 3] \n",
        "plt.scatter(label_0, lb_0, color='red') \n",
        "plt.scatter(label_1, lb_1, color='purple') \n",
        "plt.scatter(label_2, lb_2, color='green') \n",
        "plt.scatter(label_3,lb_3, color='black')\n",
        "plt.show() "
      ],
      "metadata": {
        "colab": {
          "base_uri": "https://localhost:8080/",
          "height": 265
        },
        "id": "I8359OmqscYd",
        "outputId": "39bab74b-3a11-4a43-f531-54d2914c9e7d"
      },
      "execution_count": null,
      "outputs": [
        {
          "output_type": "display_data",
          "data": {
            "text/plain": [
              "<Figure size 432x288 with 1 Axes>"
            ],
            "image/png": "[encoded data removed]"
          },
          "metadata": {
            "needs_background": "light"
          }
        }
      ]
    },
    {
      "cell_type": "code",
      "source": [
        "print(\"ACCURACY SCORE: \") \n",
        "print(metrics.rand_score(y_train, x)) "
      ],
      "metadata": {
        "colab": {
          "base_uri": "https://localhost:8080/"
        },
        "id": "SxNpo0LOss2h",
        "outputId": "192d0afe-19f7-4faf-d942-099aee134c97"
      },
      "execution_count": null,
      "outputs": [
        {
          "output_type": "stream",
          "name": "stdout",
          "text": [
            "ACCURACY SCORE: \n",
            "0.6197773060137218\n"
          ]
        }
      ]
    },
    {
      "cell_type": "code",
      "source": [
        "km = KMeans(init='random', n_clusters=5, n_init=10, max_iter=300, random_state=0).fit(x_train) \n",
        "x = km.predict(x_train) \n",
        "print(x) \n",
        "print(Counter(km.labels_)) "
      ],
      "metadata": {
        "colab": {
          "base_uri": "https://localhost:8080/"
        },
        "id": "FP9va1-Nswk0",
        "outputId": "601ff789-ea25-4cc9-ae0c-877481e4b194"
      },
      "execution_count": null,
      "outputs": [
        {
          "output_type": "stream",
          "name": "stdout",
          "text": [
            "[2 2 2 ... 4 4 4]\n",
            "Counter({4: 23138, 3: 21851, 1: 20796, 0: 19329, 2: 19194})\n"
          ]
        }
      ]
    },
    {
      "cell_type": "code",
      "source": [
        "label_0 = x_train[x == 0] \n",
        "lb_0 = y_train[x == 0] \n",
        "label_1 = x_train[x == 1] \n",
        "lb_1 = y_train[x == 1] \n",
        "label_2 = x_train[x == 2] \n",
        "lb_2 = y_train[x == 2] \n",
        "label_3 = x_train[x == 3] \n",
        "lb_3 = y_train[x == 3] \n",
        "label_4 = x_train[x == 4] \n",
        "lb_4 = y_train[x == 4]\n",
        "plt.scatter(label_0, lb_0, color='red') \n",
        "plt.scatter(label_1, lb_1, color='purple') \n",
        "plt.scatter(label_2, lb_2, color='green') \n",
        "plt.scatter(label_3,lb_3, color='black')\n",
        "plt.scatter(label_4,lb_4, color='orange')\n",
        "plt.show() "
      ],
      "metadata": {
        "colab": {
          "base_uri": "https://localhost:8080/",
          "height": 265
        },
        "id": "ViicK-mIs1JO",
        "outputId": "b4e836fa-9886-4610-c9bd-59dd4c0969f1"
      },
      "execution_count": null,
      "outputs": [
        {
          "output_type": "display_data",
          "data": {
            "text/plain": [
              "<Figure size 432x288 with 1 Axes>"
            ],
            "image/png": "[encoded data removed]"
          },
          "metadata": {
            "needs_background": "light"
          }
        }
      ]
    },
    {
      "cell_type": "code",
      "source": [
        "print(\"ACCURACY SCORE: \") \n",
        "print(metrics.rand_score(y_train, x))"
      ],
      "metadata": {
        "colab": {
          "base_uri": "https://localhost:8080/"
        },
        "id": "TH3JseqVtDKE",
        "outputId": "157854c5-0501-44eb-beb9-733bbcc7f0bd"
      },
      "execution_count": null,
      "outputs": [
        {
          "output_type": "stream",
          "name": "stdout",
          "text": [
            "ACCURACY SCORE: \n",
            "0.6435205244571938\n"
          ]
        }
      ]
    },
    {
      "cell_type": "code",
      "source": [
        "km = KMeans(init='random', n_clusters=6, n_init=10, max_iter=300, random_state=0).fit(x_train) \n",
        "x = km.predict(x_train) \n",
        "print(x) \n",
        "print(Counter(km.labels_)) "
      ],
      "metadata": {
        "colab": {
          "base_uri": "https://localhost:8080/"
        },
        "id": "CNVr9lVPtNyD",
        "outputId": "1e1412f2-add5-42c0-fcf0-e2b24ab20b07"
      },
      "execution_count": null,
      "outputs": [
        {
          "output_type": "stream",
          "name": "stdout",
          "text": [
            "[5 5 5 ... 2 2 2]\n",
            "Counter({3: 18443, 4: 18101, 5: 17750, 1: 17214, 2: 16464, 0: 16336})\n"
          ]
        }
      ]
    },
    {
      "cell_type": "code",
      "source": [
        "label_0 = x_train[x == 0] \n",
        "lb_0 = y_train[x == 0] \n",
        "label_1 = x_train[x == 1] \n",
        "lb_1 = y_train[x == 1] \n",
        "label_2 = x_train[x == 2] \n",
        "lb_2 = y_train[x == 2] \n",
        "label_3 = x_train[x == 3] \n",
        "lb_3 = y_train[x == 3] \n",
        "label_4 = x_train[x == 4] \n",
        "lb_4 = y_train[x == 4]\n",
        "label_5 = x_train[x == 5] \n",
        "lb_5 = y_train[x == 5]\n",
        "plt.scatter(label_0, lb_0, color='red') \n",
        "plt.scatter(label_1, lb_1, color='purple') \n",
        "plt.scatter(label_2, lb_2, color='green') \n",
        "plt.scatter(label_3,lb_3, color='black')\n",
        "plt.scatter(label_4,lb_4, color='orange')\n",
        "plt.scatter(label_5,lb_5, color='blue')\n",
        "plt.show() "
      ],
      "metadata": {
        "colab": {
          "base_uri": "https://localhost:8080/",
          "height": 265
        },
        "id": "JWs1wGf4tRLj",
        "outputId": "b76d4eef-5490-492e-95b3-cc94105f5e69"
      },
      "execution_count": null,
      "outputs": [
        {
          "output_type": "display_data",
          "data": {
            "text/plain": [
              "<Figure size 432x288 with 1 Axes>"
            ],
            "image/png": "[encoded data removed]"
          },
          "metadata": {
            "needs_background": "light"
          }
        }
      ]
    },
    {
      "cell_type": "code",
      "source": [
        "print(\"ACCURACY SCORE: \") \n",
        "print(metrics.rand_score(y_train, x))"
      ],
      "metadata": {
        "colab": {
          "base_uri": "https://localhost:8080/"
        },
        "id": "lzUMIQhbtcup",
        "outputId": "c1c2a5d3-66f5-49fb-e4b9-b1f6e4efcb7d"
      },
      "execution_count": null,
      "outputs": [
        {
          "output_type": "stream",
          "name": "stdout",
          "text": [
            "ACCURACY SCORE: \n",
            "0.6596875349344525\n"
          ]
        }
      ]
    },
    {
      "cell_type": "code",
      "source": [
        "km = KMeans(init='random', n_clusters=7, n_init=10, max_iter=300, random_state=0).fit(x_train) \n",
        "x = km.predict(x_train) \n",
        "print(x) \n",
        "print(Counter(km.labels_)) "
      ],
      "metadata": {
        "colab": {
          "base_uri": "https://localhost:8080/"
        },
        "id": "OHlX1H3ftd4C",
        "outputId": "36772cc2-b538-48d5-9019-3ccba0d1c3e8"
      },
      "execution_count": null,
      "outputs": [
        {
          "output_type": "stream",
          "name": "stdout",
          "text": [
            "[4 4 4 ... 6 6 6]\n",
            "Counter({5: 16482, 4: 16355, 3: 15222, 2: 14639, 6: 14249, 1: 13752, 0: 13609})\n"
          ]
        }
      ]
    },
    {
      "cell_type": "code",
      "source": [
        "label_0 = x_train[x == 0] \n",
        "lb_0 = y_train[x == 0] \n",
        "label_1 = x_train[x == 1] \n",
        "lb_1 = y_train[x == 1] \n",
        "label_2 = x_train[x == 2] \n",
        "lb_2 = y_train[x == 2] \n",
        "label_3 = x_train[x == 3] \n",
        "lb_3 = y_train[x == 3] \n",
        "label_4 = x_train[x == 4] \n",
        "lb_4 = y_train[x == 4]\n",
        "label_5 = x_train[x == 5] \n",
        "lb_5 = y_train[x == 5]\n",
        "label_6 = x_train[x == 6] \n",
        "lb_6 = y_train[x == 6]\n",
        "plt.scatter(label_0, lb_0, color='red') \n",
        "plt.scatter(label_1, lb_1, color='purple') \n",
        "plt.scatter(label_2, lb_2, color='green') \n",
        "plt.scatter(label_3,lb_3, color='black')\n",
        "plt.scatter(label_4,lb_4, color='orange')\n",
        "plt.scatter(label_5,lb_5, color='blue')\n",
        "plt.scatter(label_6,lb_6, color='pink')\n",
        "plt.show() "
      ],
      "metadata": {
        "colab": {
          "base_uri": "https://localhost:8080/",
          "height": 265
        },
        "id": "NzjzlcsUtjtd",
        "outputId": "811b68f6-4f7b-4e85-f9d5-92e7ecb4a6dd"
      },
      "execution_count": null,
      "outputs": [
        {
          "output_type": "display_data",
          "data": {
            "text/plain": [
              "<Figure size 432x288 with 1 Axes>"
            ],
            "image/png": "[encoded data removed]"
          },
          "metadata": {
            "needs_background": "light"
          }
        }
      ]
    },
    {
      "cell_type": "code",
      "source": [
        "print(\"ACCURACY SCORE: \") \n",
        "print(metrics.rand_score(y_train, x))"
      ],
      "metadata": {
        "colab": {
          "base_uri": "https://localhost:8080/"
        },
        "id": "ibMFMTZBtzZZ",
        "outputId": "b3ceae9f-d07d-496b-e8d5-e427308fe352"
      },
      "execution_count": null,
      "outputs": [
        {
          "output_type": "stream",
          "name": "stdout",
          "text": [
            "ACCURACY SCORE: \n",
            "0.6708695518419788\n"
          ]
        }
      ]
    },
    {
      "cell_type": "code",
      "source": [
        "km = KMeans(init='random', n_clusters=8, n_init=10, max_iter=300, random_state=0).fit(x_train) \n",
        "x = km.predict(x_train) \n",
        "print(x) \n",
        "print(Counter(km.labels_)) "
      ],
      "metadata": {
        "colab": {
          "base_uri": "https://localhost:8080/"
        },
        "id": "d5IyBgHut536",
        "outputId": "fde67249-7687-4bb3-bdd9-11baf6459e60"
      },
      "execution_count": null,
      "outputs": [
        {
          "output_type": "stream",
          "name": "stdout",
          "text": [
            "[0 0 0 ... 7 7 7]\n",
            "Counter({4: 14730, 2: 14078, 6: 13689, 3: 13471, 5: 12933, 7: 12320, 1: 12145, 0: 10942})\n"
          ]
        }
      ]
    },
    {
      "cell_type": "code",
      "source": [
        "label_0 = x_train[x == 0] \n",
        "lb_0 = y_train[x == 0] \n",
        "label_1 = x_train[x == 1] \n",
        "lb_1 = y_train[x == 1] \n",
        "label_2 = x_train[x == 2] \n",
        "lb_2 = y_train[x == 2] \n",
        "label_3 = x_train[x == 3] \n",
        "lb_3 = y_train[x == 3] \n",
        "label_4 = x_train[x == 4] \n",
        "lb_4 = y_train[x == 4]\n",
        "label_5 = x_train[x == 5] \n",
        "lb_5 = y_train[x == 5]\n",
        "label_6 = x_train[x == 6] \n",
        "lb_6 = y_train[x == 6]\n",
        "label_7 = x_train[x == 7] \n",
        "lb_7 = y_train[x == 7]\n",
        "plt.scatter(label_0, lb_0, color='red') \n",
        "plt.scatter(label_1, lb_1, color='purple') \n",
        "plt.scatter(label_2, lb_2, color='green') \n",
        "plt.scatter(label_3,lb_3, color='black')\n",
        "plt.scatter(label_4,lb_4, color='orange')\n",
        "plt.scatter(label_5,lb_5, color='blue')\n",
        "plt.scatter(label_6,lb_6, color='pink')\n",
        "plt.scatter(label_7,lb_7, color='yellow')\n",
        "plt.show() "
      ],
      "metadata": {
        "colab": {
          "base_uri": "https://localhost:8080/",
          "height": 265
        },
        "id": "Tc9WgwW2t940",
        "outputId": "bf9c8eb5-7de3-44ec-b5b4-0220c6dac08d"
      },
      "execution_count": null,
      "outputs": [
        {
          "output_type": "display_data",
          "data": {
            "text/plain": [
              "<Figure size 432x288 with 1 Axes>"
            ],
            "image/png": "[encoded data removed]"
          },
          "metadata": {
            "needs_background": "light"
          }
        }
      ]
    },
    {
      "cell_type": "code",
      "source": [
        "print(\"ACCURACY SCORE: \") \n",
        "print(metrics.rand_score(y_train, x))"
      ],
      "metadata": {
        "colab": {
          "base_uri": "https://localhost:8080/"
        },
        "id": "IUAtDuq2uOCx",
        "outputId": "5621a8d8-bf85-46f3-be47-cb255d12b39e"
      },
      "execution_count": null,
      "outputs": [
        {
          "output_type": "stream",
          "name": "stdout",
          "text": [
            "ACCURACY SCORE: \n",
            "0.6794342655132547\n"
          ]
        }
      ]
    },
    {
      "cell_type": "code",
      "source": [
        "km = KMeans(init='random', n_clusters=9, n_init=10, max_iter=300, random_state=0).fit(x_train) \n",
        "x = km.predict(x_train) \n",
        "print(x) \n",
        "print(Counter(km.labels_)) "
      ],
      "metadata": {
        "colab": {
          "base_uri": "https://localhost:8080/"
        },
        "id": "lgzOaugGuQ7a",
        "outputId": "29bbac17-c3a1-4bc9-abc2-20371d9ce71d"
      },
      "execution_count": null,
      "outputs": [
        {
          "output_type": "stream",
          "name": "stdout",
          "text": [
            "[8 8 8 ... 6 6 6]\n",
            "Counter({5: 12412, 3: 12366, 4: 12121, 7: 11964, 2: 11449, 8: 11423, 1: 10999, 6: 10819, 0: 10755})\n"
          ]
        }
      ]
    },
    {
      "cell_type": "code",
      "source": [
        "label_0 = x_train[x == 0] \n",
        "lb_0 = y_train[x == 0] \n",
        "label_1 = x_train[x == 1] \n",
        "lb_1 = y_train[x == 1] \n",
        "label_2 = x_train[x == 2] \n",
        "lb_2 = y_train[x == 2] \n",
        "label_3 = x_train[x == 3] \n",
        "lb_3 = y_train[x == 3] \n",
        "label_4 = x_train[x == 4] \n",
        "lb_4 = y_train[x == 4]\n",
        "label_5 = x_train[x == 5] \n",
        "lb_5 = y_train[x == 5]\n",
        "label_6 = x_train[x == 6] \n",
        "lb_6 = y_train[x == 6]\n",
        "label_7 = x_train[x == 7] \n",
        "lb_7 = y_train[x == 7]\n",
        "label_8 = x_train[x == 8] \n",
        "lb_8 = y_train[x == 8]\n",
        "plt.scatter(label_0, lb_0, color='red') \n",
        "plt.scatter(label_1, lb_1, color='purple') \n",
        "plt.scatter(label_2, lb_2, color='green') \n",
        "plt.scatter(label_3,lb_3, color='black')\n",
        "plt.scatter(label_4,lb_4, color='orange')\n",
        "plt.scatter(label_5,lb_5, color='blue')\n",
        "plt.scatter(label_6,lb_6, color='pink')\n",
        "plt.scatter(label_7,lb_7, color='yellow')\n",
        "plt.scatter(label_8,lb_8, color='brown')\n",
        "plt.show() "
      ],
      "metadata": {
        "colab": {
          "base_uri": "https://localhost:8080/",
          "height": 265
        },
        "id": "X8AIURwGuVGF",
        "outputId": "d63c20ab-0670-46a2-a27a-bde274f9e7c1"
      },
      "execution_count": null,
      "outputs": [
        {
          "output_type": "display_data",
          "data": {
            "text/plain": [
              "<Figure size 432x288 with 1 Axes>"
            ],
            "image/png": "[encoded data removed]"
          },
          "metadata": {
            "needs_background": "light"
          }
        }
      ]
    },
    {
      "cell_type": "code",
      "source": [
        "print(\"ACCURACY SCORE: \") \n",
        "print(metrics.rand_score(y_train, x))"
      ],
      "metadata": {
        "colab": {
          "base_uri": "https://localhost:8080/"
        },
        "id": "NOC_0aUouofW",
        "outputId": "64c7d325-bf65-4a6e-e78a-584063523d43"
      },
      "execution_count": null,
      "outputs": [
        {
          "output_type": "stream",
          "name": "stdout",
          "text": [
            "ACCURACY SCORE: \n",
            "0.6863766698561029\n"
          ]
        }
      ]
    },
    {
      "cell_type": "code",
      "source": [
        "km = KMeans(init='random', n_clusters=10, n_init=10, max_iter=300, random_state=0).fit(x_train) \n",
        "x = km.predict(x_train) \n",
        "print(x) \n",
        "print(Counter(km.labels_)) "
      ],
      "metadata": {
        "colab": {
          "base_uri": "https://localhost:8080/"
        },
        "id": "bmo10AJ8urgG",
        "outputId": "cf69cdf6-8dcd-4906-bb0c-ce46fbdf5c8d"
      },
      "execution_count": null,
      "outputs": [
        {
          "output_type": "stream",
          "name": "stdout",
          "text": [
            "[7 7 7 ... 5 5 5]\n",
            "Counter({5: 11838, 8: 11621, 3: 10789, 4: 10749, 2: 10646, 0: 10328, 7: 10088, 1: 9678, 9: 9570, 6: 9001})\n"
          ]
        }
      ]
    },
    {
      "cell_type": "code",
      "source": [
        "label_0 = x_train[x == 0] \n",
        "lb_0 = y_train[x == 0] \n",
        "label_1 = x_train[x == 1] \n",
        "lb_1 = y_train[x == 1] \n",
        "label_2 = x_train[x == 2] \n",
        "lb_2 = y_train[x == 2] \n",
        "label_3 = x_train[x == 3] \n",
        "lb_3 = y_train[x == 3] \n",
        "label_4 = x_train[x == 4] \n",
        "lb_4 = y_train[x == 4]\n",
        "label_5 = x_train[x == 5] \n",
        "lb_5 = y_train[x == 5]\n",
        "label_6 = x_train[x == 6] \n",
        "lb_6 = y_train[x == 6]\n",
        "label_7 = x_train[x == 7] \n",
        "lb_7 = y_train[x == 7]\n",
        "label_8 = x_train[x == 8] \n",
        "lb_8 = y_train[x == 8]\n",
        "label_9 = x_train[x == 9] \n",
        "lb_9 = y_train[x == 9]\n",
        "plt.scatter(label_0, lb_0, color='red') \n",
        "plt.scatter(label_1, lb_1, color='purple') \n",
        "plt.scatter(label_2, lb_2, color='green') \n",
        "plt.scatter(label_3,lb_3, color='black')\n",
        "plt.scatter(label_4,lb_4, color='orange')\n",
        "plt.scatter(label_5,lb_5, color='blue')\n",
        "plt.scatter(label_6,lb_6, color='pink')\n",
        "plt.scatter(label_7,lb_7, color='yellow')\n",
        "plt.scatter(label_8,lb_8, color='brown')\n",
        "plt.scatter(label_9,lb_9, color='cyan')\n",
        "plt.show() "
      ],
      "metadata": {
        "colab": {
          "base_uri": "https://localhost:8080/",
          "height": 265
        },
        "id": "EjfL-9zHuu0y",
        "outputId": "65355bc3-e8b1-4cf2-9c16-267117ba3726"
      },
      "execution_count": null,
      "outputs": [
        {
          "output_type": "display_data",
          "data": {
            "text/plain": [
              "<Figure size 432x288 with 1 Axes>"
            ],
            "image/png": "[encoded data removed]"
          },
          "metadata": {
            "needs_background": "light"
          }
        }
      ]
    },
    {
      "cell_type": "code",
      "source": [
        "print(\"ACCURACY SCORE: \") \n",
        "print(metrics.rand_score(y_train, x))"
      ],
      "metadata": {
        "colab": {
          "base_uri": "https://localhost:8080/"
        },
        "id": "EkXkkKoEvIM-",
        "outputId": "bc0cb72c-6392-4a07-c6f4-225c7e17b652"
      },
      "execution_count": null,
      "outputs": [
        {
          "output_type": "stream",
          "name": "stdout",
          "text": [
            "ACCURACY SCORE: \n",
            "0.6915922277108847\n"
          ]
        }
      ]
    }
  ]
}