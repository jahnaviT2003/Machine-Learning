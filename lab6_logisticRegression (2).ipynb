{
  "nbformat": 4,
  "nbformat_minor": 0,
  "metadata": {
    "colab": {
      "name": "LAB-6 MACHINE LEARNING ESSENTIALS LOGISTIC REGRESSION.ipynb",
      "provenance": [],
      "collapsed_sections": []
    },
    "kernelspec": {
      "name": "python3",
      "display_name": "Python 3"
    },
    "language_info": {
      "name": "python"
    }
  },
  "cells": [
    {
      "cell_type": "code",
      "execution_count": null,
      "metadata": {
        "id": "fygAJp68I673"
      },
      "outputs": [],
      "source": [
        "import numpy as np\n",
        "import pandas as pd\n",
        "from sklearn.linear_model import LogisticRegression\n",
        "from sklearn.model_selection import train_test_split\n",
        "from sklearn.preprocessing import MinMaxScaler"
      ]
    },
    {
      "cell_type": "code",
      "source": [
        "# Importing & Reading the dataset\n",
        "data = pd.read_csv(r'/content/sample_data/sonar_data.csv')\n",
        "print(\"Dataset Shape:\",data.shape)\n",
        "print(data.info())"
      ],
      "metadata": {
        "colab": {
          "base_uri": "https://localhost:8080/"
        },
        "id": "vBuM4YtmJP5W",
        "outputId": "6fe29587-036a-4e41-d63d-cca5cdd505e9"
      },
      "execution_count": null,
      "outputs": [
        {
          "output_type": "stream",
          "name": "stdout",
          "text": [
            "Dataset Shape: (208, 61)\n",
            "<class 'pandas.core.frame.DataFrame'>\n",
            "RangeIndex: 208 entries, 0 to 207\n",
            "Data columns (total 61 columns):\n",
            " #   Column   Non-Null Count  Dtype  \n",
            "---  ------   --------------  -----  \n",
            " 0   Freq_1   208 non-null    float64\n",
            " 1   Freq_2   208 non-null    float64\n",
            " 2   Freq_3   208 non-null    float64\n",
            " 3   Freq_4   208 non-null    float64\n",
            " 4   Freq_5   208 non-null    float64\n",
            " 5   Freq_6   208 non-null    float64\n",
            " 6   Freq_7   208 non-null    float64\n",
            " 7   Freq_8   208 non-null    float64\n",
            " 8   Freq_9   208 non-null    float64\n",
            " 9   Freq_10  208 non-null    float64\n",
            " 10  Freq_11  208 non-null    float64\n",
            " 11  Freq_12  208 non-null    float64\n",
            " 12  Freq_13  208 non-null    float64\n",
            " 13  Freq_14  208 non-null    float64\n",
            " 14  Freq_15  208 non-null    float64\n",
            " 15  Freq_16  208 non-null    float64\n",
            " 16  Freq_17  208 non-null    float64\n",
            " 17  Freq_18  208 non-null    float64\n",
            " 18  Freq_19  208 non-null    float64\n",
            " 19  Freq_20  208 non-null    float64\n",
            " 20  Freq_21  208 non-null    float64\n",
            " 21  Freq_22  208 non-null    float64\n",
            " 22  Freq_23  208 non-null    float64\n",
            " 23  Freq_24  208 non-null    float64\n",
            " 24  Freq_25  208 non-null    float64\n",
            " 25  Freq_26  208 non-null    float64\n",
            " 26  Freq_27  208 non-null    float64\n",
            " 27  Freq_28  208 non-null    float64\n",
            " 28  Freq_29  208 non-null    float64\n",
            " 29  Freq_30  208 non-null    float64\n",
            " 30  Freq_31  208 non-null    float64\n",
            " 31  Freq_32  208 non-null    float64\n",
            " 32  Freq_33  208 non-null    float64\n",
            " 33  Freq_34  208 non-null    float64\n",
            " 34  Freq_35  208 non-null    float64\n",
            " 35  Freq_36  208 non-null    float64\n",
            " 36  Freq_37  208 non-null    float64\n",
            " 37  Freq_38  208 non-null    float64\n",
            " 38  Freq_39  208 non-null    float64\n",
            " 39  Freq_40  208 non-null    float64\n",
            " 40  Freq_41  208 non-null    float64\n",
            " 41  Freq_42  208 non-null    float64\n",
            " 42  Freq_43  208 non-null    float64\n",
            " 43  Freq_44  208 non-null    float64\n",
            " 44  Freq_45  208 non-null    float64\n",
            " 45  Freq_46  208 non-null    float64\n",
            " 46  Freq_47  208 non-null    float64\n",
            " 47  Freq_48  208 non-null    float64\n",
            " 48  Freq_49  208 non-null    float64\n",
            " 49  Freq_50  208 non-null    float64\n",
            " 50  Freq_51  208 non-null    float64\n",
            " 51  Freq_52  208 non-null    float64\n",
            " 52  Freq_53  208 non-null    float64\n",
            " 53  Freq_54  208 non-null    float64\n",
            " 54  Freq_55  208 non-null    float64\n",
            " 55  Freq_56  208 non-null    float64\n",
            " 56  Freq_57  208 non-null    float64\n",
            " 57  Freq_58  208 non-null    float64\n",
            " 58  Freq_59  208 non-null    float64\n",
            " 59  Freq_60  208 non-null    float64\n",
            " 60  Label    208 non-null    object \n",
            "dtypes: float64(60), object(1)\n",
            "memory usage: 99.2+ KB\n",
            "None\n"
          ]
        }
      ]
    },
    {
      "cell_type": "code",
      "source": [
        "#Displaying the data \n",
        "data.head(10)"
      ],
      "metadata": {
        "colab": {
          "base_uri": "https://localhost:8080/",
          "height": 427
        },
        "id": "1EYmgmDdJX67",
        "outputId": "1e1225df-4101-49e3-fddd-6286ee28f7f1"
      },
      "execution_count": null,
      "outputs": [
        {
          "output_type": "execute_result",
          "data": {
            "text/html": [
              "\n",
              "  <div id=\"df-de144fe7-f93f-4f1d-bfc3-32102b7c4e74\">\n",
              "    <div class=\"colab-df-container\">\n",
              "      <div>\n",
              "<style scoped>\n",
              "    .dataframe tbody tr th:only-of-type {\n",
              "        vertical-align: middle;\n",
              "    }\n",
              "\n",
              "    .dataframe tbody tr th {\n",
              "        vertical-align: top;\n",
              "    }\n",
              "\n",
              "    .dataframe thead th {\n",
              "        text-align: right;\n",
              "    }\n",
              "</style>\n",
              "<table border=\"1\" class=\"dataframe\">\n",
              "  <thead>\n",
              "    <tr style=\"text-align: right;\">\n",
              "      <th></th>\n",
              "      <th>Freq_1</th>\n",
              "      <th>Freq_2</th>\n",
              "      <th>Freq_3</th>\n",
              "      <th>Freq_4</th>\n",
              "      <th>Freq_5</th>\n",
              "      <th>Freq_6</th>\n",
              "      <th>Freq_7</th>\n",
              "      <th>Freq_8</th>\n",
              "      <th>Freq_9</th>\n",
              "      <th>Freq_10</th>\n",
              "      <th>Freq_11</th>\n",
              "      <th>Freq_12</th>\n",
              "      <th>Freq_13</th>\n",
              "      <th>Freq_14</th>\n",
              "      <th>Freq_15</th>\n",
              "      <th>Freq_16</th>\n",
              "      <th>Freq_17</th>\n",
              "      <th>Freq_18</th>\n",
              "      <th>Freq_19</th>\n",
              "      <th>Freq_20</th>\n",
              "      <th>Freq_21</th>\n",
              "      <th>Freq_22</th>\n",
              "      <th>Freq_23</th>\n",
              "      <th>Freq_24</th>\n",
              "      <th>Freq_25</th>\n",
              "      <th>Freq_26</th>\n",
              "      <th>Freq_27</th>\n",
              "      <th>Freq_28</th>\n",
              "      <th>Freq_29</th>\n",
              "      <th>Freq_30</th>\n",
              "      <th>Freq_31</th>\n",
              "      <th>Freq_32</th>\n",
              "      <th>Freq_33</th>\n",
              "      <th>Freq_34</th>\n",
              "      <th>Freq_35</th>\n",
              "      <th>Freq_36</th>\n",
              "      <th>Freq_37</th>\n",
              "      <th>Freq_38</th>\n",
              "      <th>Freq_39</th>\n",
              "      <th>Freq_40</th>\n",
              "      <th>Freq_41</th>\n",
              "      <th>Freq_42</th>\n",
              "      <th>Freq_43</th>\n",
              "      <th>Freq_44</th>\n",
              "      <th>Freq_45</th>\n",
              "      <th>Freq_46</th>\n",
              "      <th>Freq_47</th>\n",
              "      <th>Freq_48</th>\n",
              "      <th>Freq_49</th>\n",
              "      <th>Freq_50</th>\n",
              "      <th>Freq_51</th>\n",
              "      <th>Freq_52</th>\n",
              "      <th>Freq_53</th>\n",
              "      <th>Freq_54</th>\n",
              "      <th>Freq_55</th>\n",
              "      <th>Freq_56</th>\n",
              "      <th>Freq_57</th>\n",
              "      <th>Freq_58</th>\n",
              "      <th>Freq_59</th>\n",
              "      <th>Freq_60</th>\n",
              "      <th>Label</th>\n",
              "    </tr>\n",
              "  </thead>\n",
              "  <tbody>\n",
              "    <tr>\n",
              "      <th>0</th>\n",
              "      <td>0.0200</td>\n",
              "      <td>0.0371</td>\n",
              "      <td>0.0428</td>\n",
              "      <td>0.0207</td>\n",
              "      <td>0.0954</td>\n",
              "      <td>0.0986</td>\n",
              "      <td>0.1539</td>\n",
              "      <td>0.1601</td>\n",
              "      <td>0.3109</td>\n",
              "      <td>0.2111</td>\n",
              "      <td>0.1609</td>\n",
              "      <td>0.1582</td>\n",
              "      <td>0.2238</td>\n",
              "      <td>0.0645</td>\n",
              "      <td>0.0660</td>\n",
              "      <td>0.2273</td>\n",
              "      <td>0.3100</td>\n",
              "      <td>0.2999</td>\n",
              "      <td>0.5078</td>\n",
              "      <td>0.4797</td>\n",
              "      <td>0.5783</td>\n",
              "      <td>0.5071</td>\n",
              "      <td>0.4328</td>\n",
              "      <td>0.5550</td>\n",
              "      <td>0.6711</td>\n",
              "      <td>0.6415</td>\n",
              "      <td>0.7104</td>\n",
              "      <td>0.8080</td>\n",
              "      <td>0.6791</td>\n",
              "      <td>0.3857</td>\n",
              "      <td>0.1307</td>\n",
              "      <td>0.2604</td>\n",
              "      <td>0.5121</td>\n",
              "      <td>0.7547</td>\n",
              "      <td>0.8537</td>\n",
              "      <td>0.8507</td>\n",
              "      <td>0.6692</td>\n",
              "      <td>0.6097</td>\n",
              "      <td>0.4943</td>\n",
              "      <td>0.2744</td>\n",
              "      <td>0.0510</td>\n",
              "      <td>0.2834</td>\n",
              "      <td>0.2825</td>\n",
              "      <td>0.4256</td>\n",
              "      <td>0.2641</td>\n",
              "      <td>0.1386</td>\n",
              "      <td>0.1051</td>\n",
              "      <td>0.1343</td>\n",
              "      <td>0.0383</td>\n",
              "      <td>0.0324</td>\n",
              "      <td>0.0232</td>\n",
              "      <td>0.0027</td>\n",
              "      <td>0.0065</td>\n",
              "      <td>0.0159</td>\n",
              "      <td>0.0072</td>\n",
              "      <td>0.0167</td>\n",
              "      <td>0.0180</td>\n",
              "      <td>0.0084</td>\n",
              "      <td>0.0090</td>\n",
              "      <td>0.0032</td>\n",
              "      <td>R</td>\n",
              "    </tr>\n",
              "    <tr>\n",
              "      <th>1</th>\n",
              "      <td>0.0453</td>\n",
              "      <td>0.0523</td>\n",
              "      <td>0.0843</td>\n",
              "      <td>0.0689</td>\n",
              "      <td>0.1183</td>\n",
              "      <td>0.2583</td>\n",
              "      <td>0.2156</td>\n",
              "      <td>0.3481</td>\n",
              "      <td>0.3337</td>\n",
              "      <td>0.2872</td>\n",
              "      <td>0.4918</td>\n",
              "      <td>0.6552</td>\n",
              "      <td>0.6919</td>\n",
              "      <td>0.7797</td>\n",
              "      <td>0.7464</td>\n",
              "      <td>0.9444</td>\n",
              "      <td>1.0000</td>\n",
              "      <td>0.8874</td>\n",
              "      <td>0.8024</td>\n",
              "      <td>0.7818</td>\n",
              "      <td>0.5212</td>\n",
              "      <td>0.4052</td>\n",
              "      <td>0.3957</td>\n",
              "      <td>0.3914</td>\n",
              "      <td>0.3250</td>\n",
              "      <td>0.3200</td>\n",
              "      <td>0.3271</td>\n",
              "      <td>0.2767</td>\n",
              "      <td>0.4423</td>\n",
              "      <td>0.2028</td>\n",
              "      <td>0.3788</td>\n",
              "      <td>0.2947</td>\n",
              "      <td>0.1984</td>\n",
              "      <td>0.2341</td>\n",
              "      <td>0.1306</td>\n",
              "      <td>0.4182</td>\n",
              "      <td>0.3835</td>\n",
              "      <td>0.1057</td>\n",
              "      <td>0.1840</td>\n",
              "      <td>0.1970</td>\n",
              "      <td>0.1674</td>\n",
              "      <td>0.0583</td>\n",
              "      <td>0.1401</td>\n",
              "      <td>0.1628</td>\n",
              "      <td>0.0621</td>\n",
              "      <td>0.0203</td>\n",
              "      <td>0.0530</td>\n",
              "      <td>0.0742</td>\n",
              "      <td>0.0409</td>\n",
              "      <td>0.0061</td>\n",
              "      <td>0.0125</td>\n",
              "      <td>0.0084</td>\n",
              "      <td>0.0089</td>\n",
              "      <td>0.0048</td>\n",
              "      <td>0.0094</td>\n",
              "      <td>0.0191</td>\n",
              "      <td>0.0140</td>\n",
              "      <td>0.0049</td>\n",
              "      <td>0.0052</td>\n",
              "      <td>0.0044</td>\n",
              "      <td>R</td>\n",
              "    </tr>\n",
              "    <tr>\n",
              "      <th>2</th>\n",
              "      <td>0.0262</td>\n",
              "      <td>0.0582</td>\n",
              "      <td>0.1099</td>\n",
              "      <td>0.1083</td>\n",
              "      <td>0.0974</td>\n",
              "      <td>0.2280</td>\n",
              "      <td>0.2431</td>\n",
              "      <td>0.3771</td>\n",
              "      <td>0.5598</td>\n",
              "      <td>0.6194</td>\n",
              "      <td>0.6333</td>\n",
              "      <td>0.7060</td>\n",
              "      <td>0.5544</td>\n",
              "      <td>0.5320</td>\n",
              "      <td>0.6479</td>\n",
              "      <td>0.6931</td>\n",
              "      <td>0.6759</td>\n",
              "      <td>0.7551</td>\n",
              "      <td>0.8929</td>\n",
              "      <td>0.8619</td>\n",
              "      <td>0.7974</td>\n",
              "      <td>0.6737</td>\n",
              "      <td>0.4293</td>\n",
              "      <td>0.3648</td>\n",
              "      <td>0.5331</td>\n",
              "      <td>0.2413</td>\n",
              "      <td>0.5070</td>\n",
              "      <td>0.8533</td>\n",
              "      <td>0.6036</td>\n",
              "      <td>0.8514</td>\n",
              "      <td>0.8512</td>\n",
              "      <td>0.5045</td>\n",
              "      <td>0.1862</td>\n",
              "      <td>0.2709</td>\n",
              "      <td>0.4232</td>\n",
              "      <td>0.3043</td>\n",
              "      <td>0.6116</td>\n",
              "      <td>0.6756</td>\n",
              "      <td>0.5375</td>\n",
              "      <td>0.4719</td>\n",
              "      <td>0.4647</td>\n",
              "      <td>0.2587</td>\n",
              "      <td>0.2129</td>\n",
              "      <td>0.2222</td>\n",
              "      <td>0.2111</td>\n",
              "      <td>0.0176</td>\n",
              "      <td>0.1348</td>\n",
              "      <td>0.0744</td>\n",
              "      <td>0.0130</td>\n",
              "      <td>0.0106</td>\n",
              "      <td>0.0033</td>\n",
              "      <td>0.0232</td>\n",
              "      <td>0.0166</td>\n",
              "      <td>0.0095</td>\n",
              "      <td>0.0180</td>\n",
              "      <td>0.0244</td>\n",
              "      <td>0.0316</td>\n",
              "      <td>0.0164</td>\n",
              "      <td>0.0095</td>\n",
              "      <td>0.0078</td>\n",
              "      <td>R</td>\n",
              "    </tr>\n",
              "    <tr>\n",
              "      <th>3</th>\n",
              "      <td>0.0100</td>\n",
              "      <td>0.0171</td>\n",
              "      <td>0.0623</td>\n",
              "      <td>0.0205</td>\n",
              "      <td>0.0205</td>\n",
              "      <td>0.0368</td>\n",
              "      <td>0.1098</td>\n",
              "      <td>0.1276</td>\n",
              "      <td>0.0598</td>\n",
              "      <td>0.1264</td>\n",
              "      <td>0.0881</td>\n",
              "      <td>0.1992</td>\n",
              "      <td>0.0184</td>\n",
              "      <td>0.2261</td>\n",
              "      <td>0.1729</td>\n",
              "      <td>0.2131</td>\n",
              "      <td>0.0693</td>\n",
              "      <td>0.2281</td>\n",
              "      <td>0.4060</td>\n",
              "      <td>0.3973</td>\n",
              "      <td>0.2741</td>\n",
              "      <td>0.3690</td>\n",
              "      <td>0.5556</td>\n",
              "      <td>0.4846</td>\n",
              "      <td>0.3140</td>\n",
              "      <td>0.5334</td>\n",
              "      <td>0.5256</td>\n",
              "      <td>0.2520</td>\n",
              "      <td>0.2090</td>\n",
              "      <td>0.3559</td>\n",
              "      <td>0.6260</td>\n",
              "      <td>0.7340</td>\n",
              "      <td>0.6120</td>\n",
              "      <td>0.3497</td>\n",
              "      <td>0.3953</td>\n",
              "      <td>0.3012</td>\n",
              "      <td>0.5408</td>\n",
              "      <td>0.8814</td>\n",
              "      <td>0.9857</td>\n",
              "      <td>0.9167</td>\n",
              "      <td>0.6121</td>\n",
              "      <td>0.5006</td>\n",
              "      <td>0.3210</td>\n",
              "      <td>0.3202</td>\n",
              "      <td>0.4295</td>\n",
              "      <td>0.3654</td>\n",
              "      <td>0.2655</td>\n",
              "      <td>0.1576</td>\n",
              "      <td>0.0681</td>\n",
              "      <td>0.0294</td>\n",
              "      <td>0.0241</td>\n",
              "      <td>0.0121</td>\n",
              "      <td>0.0036</td>\n",
              "      <td>0.0150</td>\n",
              "      <td>0.0085</td>\n",
              "      <td>0.0073</td>\n",
              "      <td>0.0050</td>\n",
              "      <td>0.0044</td>\n",
              "      <td>0.0040</td>\n",
              "      <td>0.0117</td>\n",
              "      <td>R</td>\n",
              "    </tr>\n",
              "    <tr>\n",
              "      <th>4</th>\n",
              "      <td>0.0762</td>\n",
              "      <td>0.0666</td>\n",
              "      <td>0.0481</td>\n",
              "      <td>0.0394</td>\n",
              "      <td>0.0590</td>\n",
              "      <td>0.0649</td>\n",
              "      <td>0.1209</td>\n",
              "      <td>0.2467</td>\n",
              "      <td>0.3564</td>\n",
              "      <td>0.4459</td>\n",
              "      <td>0.4152</td>\n",
              "      <td>0.3952</td>\n",
              "      <td>0.4256</td>\n",
              "      <td>0.4135</td>\n",
              "      <td>0.4528</td>\n",
              "      <td>0.5326</td>\n",
              "      <td>0.7306</td>\n",
              "      <td>0.6193</td>\n",
              "      <td>0.2032</td>\n",
              "      <td>0.4636</td>\n",
              "      <td>0.4148</td>\n",
              "      <td>0.4292</td>\n",
              "      <td>0.5730</td>\n",
              "      <td>0.5399</td>\n",
              "      <td>0.3161</td>\n",
              "      <td>0.2285</td>\n",
              "      <td>0.6995</td>\n",
              "      <td>1.0000</td>\n",
              "      <td>0.7262</td>\n",
              "      <td>0.4724</td>\n",
              "      <td>0.5103</td>\n",
              "      <td>0.5459</td>\n",
              "      <td>0.2881</td>\n",
              "      <td>0.0981</td>\n",
              "      <td>0.1951</td>\n",
              "      <td>0.4181</td>\n",
              "      <td>0.4604</td>\n",
              "      <td>0.3217</td>\n",
              "      <td>0.2828</td>\n",
              "      <td>0.2430</td>\n",
              "      <td>0.1979</td>\n",
              "      <td>0.2444</td>\n",
              "      <td>0.1847</td>\n",
              "      <td>0.0841</td>\n",
              "      <td>0.0692</td>\n",
              "      <td>0.0528</td>\n",
              "      <td>0.0357</td>\n",
              "      <td>0.0085</td>\n",
              "      <td>0.0230</td>\n",
              "      <td>0.0046</td>\n",
              "      <td>0.0156</td>\n",
              "      <td>0.0031</td>\n",
              "      <td>0.0054</td>\n",
              "      <td>0.0105</td>\n",
              "      <td>0.0110</td>\n",
              "      <td>0.0015</td>\n",
              "      <td>0.0072</td>\n",
              "      <td>0.0048</td>\n",
              "      <td>0.0107</td>\n",
              "      <td>0.0094</td>\n",
              "      <td>R</td>\n",
              "    </tr>\n",
              "    <tr>\n",
              "      <th>5</th>\n",
              "      <td>0.0286</td>\n",
              "      <td>0.0453</td>\n",
              "      <td>0.0277</td>\n",
              "      <td>0.0174</td>\n",
              "      <td>0.0384</td>\n",
              "      <td>0.0990</td>\n",
              "      <td>0.1201</td>\n",
              "      <td>0.1833</td>\n",
              "      <td>0.2105</td>\n",
              "      <td>0.3039</td>\n",
              "      <td>0.2988</td>\n",
              "      <td>0.4250</td>\n",
              "      <td>0.6343</td>\n",
              "      <td>0.8198</td>\n",
              "      <td>1.0000</td>\n",
              "      <td>0.9988</td>\n",
              "      <td>0.9508</td>\n",
              "      <td>0.9025</td>\n",
              "      <td>0.7234</td>\n",
              "      <td>0.5122</td>\n",
              "      <td>0.2074</td>\n",
              "      <td>0.3985</td>\n",
              "      <td>0.5890</td>\n",
              "      <td>0.2872</td>\n",
              "      <td>0.2043</td>\n",
              "      <td>0.5782</td>\n",
              "      <td>0.5389</td>\n",
              "      <td>0.3750</td>\n",
              "      <td>0.3411</td>\n",
              "      <td>0.5067</td>\n",
              "      <td>0.5580</td>\n",
              "      <td>0.4778</td>\n",
              "      <td>0.3299</td>\n",
              "      <td>0.2198</td>\n",
              "      <td>0.1407</td>\n",
              "      <td>0.2856</td>\n",
              "      <td>0.3807</td>\n",
              "      <td>0.4158</td>\n",
              "      <td>0.4054</td>\n",
              "      <td>0.3296</td>\n",
              "      <td>0.2707</td>\n",
              "      <td>0.2650</td>\n",
              "      <td>0.0723</td>\n",
              "      <td>0.1238</td>\n",
              "      <td>0.1192</td>\n",
              "      <td>0.1089</td>\n",
              "      <td>0.0623</td>\n",
              "      <td>0.0494</td>\n",
              "      <td>0.0264</td>\n",
              "      <td>0.0081</td>\n",
              "      <td>0.0104</td>\n",
              "      <td>0.0045</td>\n",
              "      <td>0.0014</td>\n",
              "      <td>0.0038</td>\n",
              "      <td>0.0013</td>\n",
              "      <td>0.0089</td>\n",
              "      <td>0.0057</td>\n",
              "      <td>0.0027</td>\n",
              "      <td>0.0051</td>\n",
              "      <td>0.0062</td>\n",
              "      <td>R</td>\n",
              "    </tr>\n",
              "    <tr>\n",
              "      <th>6</th>\n",
              "      <td>0.0317</td>\n",
              "      <td>0.0956</td>\n",
              "      <td>0.1321</td>\n",
              "      <td>0.1408</td>\n",
              "      <td>0.1674</td>\n",
              "      <td>0.1710</td>\n",
              "      <td>0.0731</td>\n",
              "      <td>0.1401</td>\n",
              "      <td>0.2083</td>\n",
              "      <td>0.3513</td>\n",
              "      <td>0.1786</td>\n",
              "      <td>0.0658</td>\n",
              "      <td>0.0513</td>\n",
              "      <td>0.3752</td>\n",
              "      <td>0.5419</td>\n",
              "      <td>0.5440</td>\n",
              "      <td>0.5150</td>\n",
              "      <td>0.4262</td>\n",
              "      <td>0.2024</td>\n",
              "      <td>0.4233</td>\n",
              "      <td>0.7723</td>\n",
              "      <td>0.9735</td>\n",
              "      <td>0.9390</td>\n",
              "      <td>0.5559</td>\n",
              "      <td>0.5268</td>\n",
              "      <td>0.6826</td>\n",
              "      <td>0.5713</td>\n",
              "      <td>0.5429</td>\n",
              "      <td>0.2177</td>\n",
              "      <td>0.2149</td>\n",
              "      <td>0.5811</td>\n",
              "      <td>0.6323</td>\n",
              "      <td>0.2965</td>\n",
              "      <td>0.1873</td>\n",
              "      <td>0.2969</td>\n",
              "      <td>0.5163</td>\n",
              "      <td>0.6153</td>\n",
              "      <td>0.4283</td>\n",
              "      <td>0.5479</td>\n",
              "      <td>0.6133</td>\n",
              "      <td>0.5017</td>\n",
              "      <td>0.2377</td>\n",
              "      <td>0.1957</td>\n",
              "      <td>0.1749</td>\n",
              "      <td>0.1304</td>\n",
              "      <td>0.0597</td>\n",
              "      <td>0.1124</td>\n",
              "      <td>0.1047</td>\n",
              "      <td>0.0507</td>\n",
              "      <td>0.0159</td>\n",
              "      <td>0.0195</td>\n",
              "      <td>0.0201</td>\n",
              "      <td>0.0248</td>\n",
              "      <td>0.0131</td>\n",
              "      <td>0.0070</td>\n",
              "      <td>0.0138</td>\n",
              "      <td>0.0092</td>\n",
              "      <td>0.0143</td>\n",
              "      <td>0.0036</td>\n",
              "      <td>0.0103</td>\n",
              "      <td>R</td>\n",
              "    </tr>\n",
              "    <tr>\n",
              "      <th>7</th>\n",
              "      <td>0.0519</td>\n",
              "      <td>0.0548</td>\n",
              "      <td>0.0842</td>\n",
              "      <td>0.0319</td>\n",
              "      <td>0.1158</td>\n",
              "      <td>0.0922</td>\n",
              "      <td>0.1027</td>\n",
              "      <td>0.0613</td>\n",
              "      <td>0.1465</td>\n",
              "      <td>0.2838</td>\n",
              "      <td>0.2802</td>\n",
              "      <td>0.3086</td>\n",
              "      <td>0.2657</td>\n",
              "      <td>0.3801</td>\n",
              "      <td>0.5626</td>\n",
              "      <td>0.4376</td>\n",
              "      <td>0.2617</td>\n",
              "      <td>0.1199</td>\n",
              "      <td>0.6676</td>\n",
              "      <td>0.9402</td>\n",
              "      <td>0.7832</td>\n",
              "      <td>0.5352</td>\n",
              "      <td>0.6809</td>\n",
              "      <td>0.9174</td>\n",
              "      <td>0.7613</td>\n",
              "      <td>0.8220</td>\n",
              "      <td>0.8872</td>\n",
              "      <td>0.6091</td>\n",
              "      <td>0.2967</td>\n",
              "      <td>0.1103</td>\n",
              "      <td>0.1318</td>\n",
              "      <td>0.0624</td>\n",
              "      <td>0.0990</td>\n",
              "      <td>0.4006</td>\n",
              "      <td>0.3666</td>\n",
              "      <td>0.1050</td>\n",
              "      <td>0.1915</td>\n",
              "      <td>0.3930</td>\n",
              "      <td>0.4288</td>\n",
              "      <td>0.2546</td>\n",
              "      <td>0.1151</td>\n",
              "      <td>0.2196</td>\n",
              "      <td>0.1879</td>\n",
              "      <td>0.1437</td>\n",
              "      <td>0.2146</td>\n",
              "      <td>0.2360</td>\n",
              "      <td>0.1125</td>\n",
              "      <td>0.0254</td>\n",
              "      <td>0.0285</td>\n",
              "      <td>0.0178</td>\n",
              "      <td>0.0052</td>\n",
              "      <td>0.0081</td>\n",
              "      <td>0.0120</td>\n",
              "      <td>0.0045</td>\n",
              "      <td>0.0121</td>\n",
              "      <td>0.0097</td>\n",
              "      <td>0.0085</td>\n",
              "      <td>0.0047</td>\n",
              "      <td>0.0048</td>\n",
              "      <td>0.0053</td>\n",
              "      <td>R</td>\n",
              "    </tr>\n",
              "    <tr>\n",
              "      <th>8</th>\n",
              "      <td>0.0223</td>\n",
              "      <td>0.0375</td>\n",
              "      <td>0.0484</td>\n",
              "      <td>0.0475</td>\n",
              "      <td>0.0647</td>\n",
              "      <td>0.0591</td>\n",
              "      <td>0.0753</td>\n",
              "      <td>0.0098</td>\n",
              "      <td>0.0684</td>\n",
              "      <td>0.1487</td>\n",
              "      <td>0.1156</td>\n",
              "      <td>0.1654</td>\n",
              "      <td>0.3833</td>\n",
              "      <td>0.3598</td>\n",
              "      <td>0.1713</td>\n",
              "      <td>0.1136</td>\n",
              "      <td>0.0349</td>\n",
              "      <td>0.3796</td>\n",
              "      <td>0.7401</td>\n",
              "      <td>0.9925</td>\n",
              "      <td>0.9802</td>\n",
              "      <td>0.8890</td>\n",
              "      <td>0.6712</td>\n",
              "      <td>0.4286</td>\n",
              "      <td>0.3374</td>\n",
              "      <td>0.7366</td>\n",
              "      <td>0.9611</td>\n",
              "      <td>0.7353</td>\n",
              "      <td>0.4856</td>\n",
              "      <td>0.1594</td>\n",
              "      <td>0.3007</td>\n",
              "      <td>0.4096</td>\n",
              "      <td>0.3170</td>\n",
              "      <td>0.3305</td>\n",
              "      <td>0.3408</td>\n",
              "      <td>0.2186</td>\n",
              "      <td>0.2463</td>\n",
              "      <td>0.2726</td>\n",
              "      <td>0.1680</td>\n",
              "      <td>0.2792</td>\n",
              "      <td>0.2558</td>\n",
              "      <td>0.1740</td>\n",
              "      <td>0.2121</td>\n",
              "      <td>0.1099</td>\n",
              "      <td>0.0985</td>\n",
              "      <td>0.1271</td>\n",
              "      <td>0.1459</td>\n",
              "      <td>0.1164</td>\n",
              "      <td>0.0777</td>\n",
              "      <td>0.0439</td>\n",
              "      <td>0.0061</td>\n",
              "      <td>0.0145</td>\n",
              "      <td>0.0128</td>\n",
              "      <td>0.0145</td>\n",
              "      <td>0.0058</td>\n",
              "      <td>0.0049</td>\n",
              "      <td>0.0065</td>\n",
              "      <td>0.0093</td>\n",
              "      <td>0.0059</td>\n",
              "      <td>0.0022</td>\n",
              "      <td>R</td>\n",
              "    </tr>\n",
              "    <tr>\n",
              "      <th>9</th>\n",
              "      <td>0.0164</td>\n",
              "      <td>0.0173</td>\n",
              "      <td>0.0347</td>\n",
              "      <td>0.0070</td>\n",
              "      <td>0.0187</td>\n",
              "      <td>0.0671</td>\n",
              "      <td>0.1056</td>\n",
              "      <td>0.0697</td>\n",
              "      <td>0.0962</td>\n",
              "      <td>0.0251</td>\n",
              "      <td>0.0801</td>\n",
              "      <td>0.1056</td>\n",
              "      <td>0.1266</td>\n",
              "      <td>0.0890</td>\n",
              "      <td>0.0198</td>\n",
              "      <td>0.1133</td>\n",
              "      <td>0.2826</td>\n",
              "      <td>0.3234</td>\n",
              "      <td>0.3238</td>\n",
              "      <td>0.4333</td>\n",
              "      <td>0.6068</td>\n",
              "      <td>0.7652</td>\n",
              "      <td>0.9203</td>\n",
              "      <td>0.9719</td>\n",
              "      <td>0.9207</td>\n",
              "      <td>0.7545</td>\n",
              "      <td>0.8289</td>\n",
              "      <td>0.8907</td>\n",
              "      <td>0.7309</td>\n",
              "      <td>0.6896</td>\n",
              "      <td>0.5829</td>\n",
              "      <td>0.4935</td>\n",
              "      <td>0.3101</td>\n",
              "      <td>0.0306</td>\n",
              "      <td>0.0244</td>\n",
              "      <td>0.1108</td>\n",
              "      <td>0.1594</td>\n",
              "      <td>0.1371</td>\n",
              "      <td>0.0696</td>\n",
              "      <td>0.0452</td>\n",
              "      <td>0.0620</td>\n",
              "      <td>0.1421</td>\n",
              "      <td>0.1597</td>\n",
              "      <td>0.1384</td>\n",
              "      <td>0.0372</td>\n",
              "      <td>0.0688</td>\n",
              "      <td>0.0867</td>\n",
              "      <td>0.0513</td>\n",
              "      <td>0.0092</td>\n",
              "      <td>0.0198</td>\n",
              "      <td>0.0118</td>\n",
              "      <td>0.0090</td>\n",
              "      <td>0.0223</td>\n",
              "      <td>0.0179</td>\n",
              "      <td>0.0084</td>\n",
              "      <td>0.0068</td>\n",
              "      <td>0.0032</td>\n",
              "      <td>0.0035</td>\n",
              "      <td>0.0056</td>\n",
              "      <td>0.0040</td>\n",
              "      <td>R</td>\n",
              "    </tr>\n",
              "  </tbody>\n",
              "</table>\n",
              "</div>\n",
              "      <button class=\"colab-df-convert\" onclick=\"convertToInteractive('df-de144fe7-f93f-4f1d-bfc3-32102b7c4e74')\"\n",
              "              title=\"Convert this dataframe to an interactive table.\"\n",
              "              style=\"display:none;\">\n",
              "        \n",
              "  <svg xmlns=\"http://www.w3.org/2000/svg\" height=\"24px\"viewBox=\"0 0 24 24\"\n",
              "       width=\"24px\">\n",
              "    <path d=\"M0 0h24v24H0V0z\" fill=\"none\"/>\n",
              "    <path d=\"M18.56 5.44l.94 2.06.94-2.06 2.06-.94-2.06-.94-.94-2.06-.94 2.06-2.06.94zm-11 1L8.5 8.5l.94-2.06 2.06-.94-2.06-.94L8.5 2.5l-.94 2.06-2.06.94zm10 10l.94 2.06.94-2.06 2.06-.94-2.06-.94-.94-2.06-.94 2.06-2.06.94z\"/><path d=\"M17.41 7.96l-1.37-1.37c-.4-.4-.92-.59-1.43-.59-.52 0-1.04.2-1.43.59L10.3 9.45l-7.72 7.72c-.78.78-.78 2.05 0 2.83L4 21.41c.39.39.9.59 1.41.59.51 0 1.02-.2 1.41-.59l7.78-7.78 2.81-2.81c.8-.78.8-2.07 0-2.86zM5.41 20L4 18.59l7.72-7.72 1.47 1.35L5.41 20z\"/>\n",
              "  </svg>\n",
              "      </button>\n",
              "      \n",
              "  <style>\n",
              "    .colab-df-container {\n",
              "      display:flex;\n",
              "      flex-wrap:wrap;\n",
              "      gap: 12px;\n",
              "    }\n",
              "\n",
              "    .colab-df-convert {\n",
              "      background-color: #E8F0FE;\n",
              "      border: none;\n",
              "      border-radius: 50%;\n",
              "      cursor: pointer;\n",
              "      display: none;\n",
              "      fill: #1967D2;\n",
              "      height: 32px;\n",
              "      padding: 0 0 0 0;\n",
              "      width: 32px;\n",
              "    }\n",
              "\n",
              "    .colab-df-convert:hover {\n",
              "      background-color: #E2EBFA;\n",
              "      box-shadow: 0px 1px 2px rgba(60, 64, 67, 0.3), 0px 1px 3px 1px rgba(60, 64, 67, 0.15);\n",
              "      fill: #174EA6;\n",
              "    }\n",
              "\n",
              "    [theme=dark] .colab-df-convert {\n",
              "      background-color: #3B4455;\n",
              "      fill: #D2E3FC;\n",
              "    }\n",
              "\n",
              "    [theme=dark] .colab-df-convert:hover {\n",
              "      background-color: #434B5C;\n",
              "      box-shadow: 0px 1px 3px 1px rgba(0, 0, 0, 0.15);\n",
              "      filter: drop-shadow(0px 1px 2px rgba(0, 0, 0, 0.3));\n",
              "      fill: #FFFFFF;\n",
              "    }\n",
              "  </style>\n",
              "\n",
              "      <script>\n",
              "        const buttonEl =\n",
              "          document.querySelector('#df-de144fe7-f93f-4f1d-bfc3-32102b7c4e74 button.colab-df-convert');\n",
              "        buttonEl.style.display =\n",
              "          google.colab.kernel.accessAllowed ? 'block' : 'none';\n",
              "\n",
              "        async function convertToInteractive(key) {\n",
              "          const element = document.querySelector('#df-de144fe7-f93f-4f1d-bfc3-32102b7c4e74');\n",
              "          const dataTable =\n",
              "            await google.colab.kernel.invokeFunction('convertToInteractive',\n",
              "                                                     [key], {});\n",
              "          if (!dataTable) return;\n",
              "\n",
              "          const docLinkHtml = 'Like what you see? Visit the ' +\n",
              "            '<a target=\"_blank\" href=https://colab.research.google.com/notebooks/data_table.ipynb>data table notebook</a>'\n",
              "            + ' to learn more about interactive tables.';\n",
              "          element.innerHTML = '';\n",
              "          dataTable['output_type'] = 'display_data';\n",
              "          await google.colab.output.renderOutput(dataTable, element);\n",
              "          const docLink = document.createElement('div');\n",
              "          docLink.innerHTML = docLinkHtml;\n",
              "          element.appendChild(docLink);\n",
              "        }\n",
              "      </script>\n",
              "    </div>\n",
              "  </div>\n",
              "  "
            ],
            "text/plain": [
              "   Freq_1  Freq_2  Freq_3  Freq_4  ...  Freq_58  Freq_59  Freq_60  Label\n",
              "0  0.0200  0.0371  0.0428  0.0207  ...   0.0084   0.0090   0.0032      R\n",
              "1  0.0453  0.0523  0.0843  0.0689  ...   0.0049   0.0052   0.0044      R\n",
              "2  0.0262  0.0582  0.1099  0.1083  ...   0.0164   0.0095   0.0078      R\n",
              "3  0.0100  0.0171  0.0623  0.0205  ...   0.0044   0.0040   0.0117      R\n",
              "4  0.0762  0.0666  0.0481  0.0394  ...   0.0048   0.0107   0.0094      R\n",
              "5  0.0286  0.0453  0.0277  0.0174  ...   0.0027   0.0051   0.0062      R\n",
              "6  0.0317  0.0956  0.1321  0.1408  ...   0.0143   0.0036   0.0103      R\n",
              "7  0.0519  0.0548  0.0842  0.0319  ...   0.0047   0.0048   0.0053      R\n",
              "8  0.0223  0.0375  0.0484  0.0475  ...   0.0093   0.0059   0.0022      R\n",
              "9  0.0164  0.0173  0.0347  0.0070  ...   0.0035   0.0056   0.0040      R\n",
              "\n",
              "[10 rows x 61 columns]"
            ]
          },
          "metadata": {},
          "execution_count": 3
        }
      ]
    },
    {
      "cell_type": "code",
      "source": [
        "print(data.isnull().sum())"
      ],
      "metadata": {
        "colab": {
          "base_uri": "https://localhost:8080/"
        },
        "id": "aHwGZYEgJh07",
        "outputId": "90a9e961-2461-485e-cca3-48a49a6d3fc4"
      },
      "execution_count": null,
      "outputs": [
        {
          "output_type": "stream",
          "name": "stdout",
          "text": [
            "Freq_1     0\n",
            "Freq_2     0\n",
            "Freq_3     0\n",
            "Freq_4     0\n",
            "Freq_5     0\n",
            "          ..\n",
            "Freq_57    0\n",
            "Freq_58    0\n",
            "Freq_59    0\n",
            "Freq_60    0\n",
            "Label      0\n",
            "Length: 61, dtype: int64\n"
          ]
        }
      ]
    },
    {
      "cell_type": "code",
      "source": [
        "X = data.iloc[:, 0:59].values\n",
        "X=X\n",
        "print(X)"
      ],
      "metadata": {
        "colab": {
          "base_uri": "https://localhost:8080/"
        },
        "id": "8RpLThYyJp0b",
        "outputId": "e5addac6-af7d-4080-811e-2dc401abf74c"
      },
      "execution_count": null,
      "outputs": [
        {
          "output_type": "stream",
          "name": "stdout",
          "text": [
            "[[0.02   0.0371 0.0428 ... 0.018  0.0084 0.009 ]\n",
            " [0.0453 0.0523 0.0843 ... 0.014  0.0049 0.0052]\n",
            " [0.0262 0.0582 0.1099 ... 0.0316 0.0164 0.0095]\n",
            " ...\n",
            " [0.0522 0.0437 0.018  ... 0.014  0.0138 0.0077]\n",
            " [0.0303 0.0353 0.049  ... 0.0034 0.0079 0.0036]\n",
            " [0.026  0.0363 0.0136 ... 0.004  0.0036 0.0061]]\n"
          ]
        }
      ]
    },
    {
      "cell_type": "code",
      "source": [
        "#Dependent variable y \n",
        "y = data.iloc[:, 60].values\n",
        "print(y)"
      ],
      "metadata": {
        "colab": {
          "base_uri": "https://localhost:8080/"
        },
        "id": "ThJDBiPlJ8Hz",
        "outputId": "c62d5163-e713-428e-97f1-4642a418bc39"
      },
      "execution_count": null,
      "outputs": [
        {
          "output_type": "stream",
          "name": "stdout",
          "text": [
            "['R' 'R' 'R' 'R' 'R' 'R' 'R' 'R' 'R' 'R' 'R' 'R' 'R' 'R' 'R' 'R' 'R' 'R'\n",
            " 'R' 'R' 'R' 'R' 'R' 'R' 'R' 'R' 'R' 'R' 'R' 'R' 'R' 'R' 'R' 'R' 'R' 'R'\n",
            " 'R' 'R' 'R' 'R' 'R' 'R' 'R' 'R' 'R' 'R' 'R' 'R' 'R' 'R' 'R' 'R' 'R' 'R'\n",
            " 'R' 'R' 'R' 'R' 'R' 'R' 'R' 'R' 'R' 'R' 'R' 'R' 'R' 'R' 'R' 'R' 'R' 'R'\n",
            " 'R' 'R' 'R' 'R' 'R' 'R' 'R' 'R' 'R' 'R' 'R' 'R' 'R' 'R' 'R' 'R' 'R' 'R'\n",
            " 'R' 'R' 'R' 'R' 'R' 'R' 'R' 'M' 'M' 'M' 'M' 'M' 'M' 'M' 'M' 'M' 'M' 'M'\n",
            " 'M' 'M' 'M' 'M' 'M' 'M' 'M' 'M' 'M' 'M' 'M' 'M' 'M' 'M' 'M' 'M' 'M' 'M'\n",
            " 'M' 'M' 'M' 'M' 'M' 'M' 'M' 'M' 'M' 'M' 'M' 'M' 'M' 'M' 'M' 'M' 'M' 'M'\n",
            " 'M' 'M' 'M' 'M' 'M' 'M' 'M' 'M' 'M' 'M' 'M' 'M' 'M' 'M' 'M' 'M' 'M' 'M'\n",
            " 'M' 'M' 'M' 'M' 'M' 'M' 'M' 'M' 'M' 'M' 'M' 'M' 'M' 'M' 'M' 'M' 'M' 'M'\n",
            " 'M' 'M' 'M' 'M' 'M' 'M' 'M' 'M' 'M' 'M' 'M' 'M' 'M' 'M' 'M' 'M' 'M' 'M'\n",
            " 'M' 'M' 'M' 'M' 'M' 'M' 'M' 'M' 'M' 'M']\n"
          ]
        }
      ]
    },
    {
      "cell_type": "code",
      "source": [
        "# Encoding the categorical data (y)\n",
        "from sklearn.preprocessing import LabelEncoder\n",
        "labelencoder_y = LabelEncoder()\n",
        "y = labelencoder_y.fit_transform(y)\n",
        "print(y)"
      ],
      "metadata": {
        "colab": {
          "base_uri": "https://localhost:8080/"
        },
        "id": "hEREmYzQJ_MC",
        "outputId": "0f46750b-b309-483b-8f43-cf35486d68c3"
      },
      "execution_count": null,
      "outputs": [
        {
          "output_type": "stream",
          "name": "stdout",
          "text": [
            "[1 1 1 1 1 1 1 1 1 1 1 1 1 1 1 1 1 1 1 1 1 1 1 1 1 1 1 1 1 1 1 1 1 1 1 1 1\n",
            " 1 1 1 1 1 1 1 1 1 1 1 1 1 1 1 1 1 1 1 1 1 1 1 1 1 1 1 1 1 1 1 1 1 1 1 1 1\n",
            " 1 1 1 1 1 1 1 1 1 1 1 1 1 1 1 1 1 1 1 1 1 1 1 0 0 0 0 0 0 0 0 0 0 0 0 0 0\n",
            " 0 0 0 0 0 0 0 0 0 0 0 0 0 0 0 0 0 0 0 0 0 0 0 0 0 0 0 0 0 0 0 0 0 0 0 0 0\n",
            " 0 0 0 0 0 0 0 0 0 0 0 0 0 0 0 0 0 0 0 0 0 0 0 0 0 0 0 0 0 0 0 0 0 0 0 0 0\n",
            " 0 0 0 0 0 0 0 0 0 0 0 0 0 0 0 0 0 0 0 0 0 0 0]\n"
          ]
        }
      ]
    },
    {
      "cell_type": "code",
      "source": [
        "print(X.shape)\n",
        "print(y.shape)"
      ],
      "metadata": {
        "colab": {
          "base_uri": "https://localhost:8080/"
        },
        "id": "M5lypHjRKEpb",
        "outputId": "782c7d3d-a476-4ddd-c3ee-16dfc0c679be"
      },
      "execution_count": null,
      "outputs": [
        {
          "output_type": "stream",
          "name": "stdout",
          "text": [
            "(208, 59)\n",
            "(208,)\n"
          ]
        }
      ]
    },
    {
      "cell_type": "code",
      "source": [
        "#CASE-1:\n",
        "clf = LogisticRegression(tol=1e-4, random_state=0, max_iter=1000)\n",
        "clf.fit(X,y)\n",
        "pred=clf.predict(X[:2, :])\n",
        "print(pred)\n",
        "print('Accuracy : ')\n",
        "clf.score(X, y)"
      ],
      "metadata": {
        "colab": {
          "base_uri": "https://localhost:8080/"
        },
        "id": "aA1C09uFKH7x",
        "outputId": "709ee638-76ab-400f-ddfc-7b0be5445a8e"
      },
      "execution_count": null,
      "outputs": [
        {
          "output_type": "stream",
          "name": "stdout",
          "text": [
            "[1 1]\n",
            "Accuracy : \n"
          ]
        },
        {
          "output_type": "execute_result",
          "data": {
            "text/plain": [
              "0.8317307692307693"
            ]
          },
          "metadata": {},
          "execution_count": 21
        }
      ]
    },
    {
      "cell_type": "code",
      "source": [
        "#CASE -2:\n",
        "clf =LogisticRegression(tol=1e-4, random_state=89, max_iter=1000)\n",
        "clf.fit(X,y)\n",
        "pred=clf.predict(X[:2, :])\n",
        "print(pred)\n",
        "print('Accuracy : ')\n",
        "clf.score(X, y)"
      ],
      "metadata": {
        "colab": {
          "base_uri": "https://localhost:8080/"
        },
        "id": "HYf54Z0AKqHr",
        "outputId": "55e1807f-8d92-4a86-c282-5547caf21f01"
      },
      "execution_count": null,
      "outputs": [
        {
          "output_type": "stream",
          "name": "stdout",
          "text": [
            "[1 1]\n",
            "Accuracy : \n"
          ]
        },
        {
          "output_type": "execute_result",
          "data": {
            "text/plain": [
              "0.8317307692307693"
            ]
          },
          "metadata": {},
          "execution_count": 22
        }
      ]
    },
    {
      "cell_type": "code",
      "source": [
        "#CASE -3:\n",
        "clf =LogisticRegression(tol=1e-4, random_state=35, max_iter=1000)\n",
        "clf.fit(X,y)\n",
        "pred=clf.predict(X[:2, :])\n",
        "print(pred)\n",
        "print('Accuracy : ')\n",
        "clf.score(X, y)"
      ],
      "metadata": {
        "colab": {
          "base_uri": "https://localhost:8080/"
        },
        "id": "hdHwfi9mK6NR",
        "outputId": "bc6edccb-5fd6-43b8-805b-d2a3af4c76c7"
      },
      "execution_count": null,
      "outputs": [
        {
          "output_type": "stream",
          "name": "stdout",
          "text": [
            "[1 1]\n",
            "Accuracy : \n"
          ]
        },
        {
          "output_type": "execute_result",
          "data": {
            "text/plain": [
              "0.8317307692307693"
            ]
          },
          "metadata": {},
          "execution_count": 23
        }
      ]
    },
    {
      "cell_type": "code",
      "source": [
        "#CASE -4:\n",
        "clf =LogisticRegression(penalty='none',tol=1e-4, random_state=92, max_iter=1000)\n",
        "clf.fit(X,y)\n",
        "pred=clf.predict(X[:2, :])\n",
        "print(pred)\n",
        "print('Accuracy : ')\n",
        "clf.score(X, y)"
      ],
      "metadata": {
        "colab": {
          "base_uri": "https://localhost:8080/"
        },
        "id": "8fwhNcf0OFKF",
        "outputId": "715d4f75-32e3-49d6-f73d-58476aa44821"
      },
      "execution_count": null,
      "outputs": [
        {
          "output_type": "stream",
          "name": "stdout",
          "text": [
            "[1 1]\n",
            "Accuracy : \n"
          ]
        },
        {
          "output_type": "execute_result",
          "data": {
            "text/plain": [
              "1.0"
            ]
          },
          "metadata": {},
          "execution_count": 26
        }
      ]
    },
    {
      "cell_type": "code",
      "source": [
        "#CASE -5:\n",
        "clf =LogisticRegression(penalty='l2',tol=1e-4, random_state=92, max_iter=1000)\n",
        "clf.fit(X,y)\n",
        "pred=clf.predict(X[:2, :])\n",
        "print(pred)\n",
        "print('Accuracy : ')\n",
        "clf.score(X, y)"
      ],
      "metadata": {
        "colab": {
          "base_uri": "https://localhost:8080/"
        },
        "id": "-A0OUt5yOfdl",
        "outputId": "32c07db9-132a-4044-df7e-e663029d12f6"
      },
      "execution_count": null,
      "outputs": [
        {
          "output_type": "stream",
          "name": "stdout",
          "text": [
            "[1 1]\n",
            "Accuracy : \n"
          ]
        },
        {
          "output_type": "execute_result",
          "data": {
            "text/plain": [
              "0.8317307692307693"
            ]
          },
          "metadata": {},
          "execution_count": 28
        }
      ]
    },
    {
      "cell_type": "code",
      "source": [
        "#CASE -6:\n",
        "clf =LogisticRegression(solver='newton-cg',penalty='l2',tol=1e-4, random_state=92, max_iter=1000)\n",
        "clf.fit(X,y)\n",
        "pred=clf.predict(X[:2, :])\n",
        "print(pred)\n",
        "print('Accuracy : ')\n",
        "clf.score(X, y)"
      ],
      "metadata": {
        "colab": {
          "base_uri": "https://localhost:8080/"
        },
        "id": "3XRwoIn4On5r",
        "outputId": "5ad7f35e-5292-4e2c-e027-e4273ebfc868"
      },
      "execution_count": null,
      "outputs": [
        {
          "output_type": "stream",
          "name": "stdout",
          "text": [
            "[1 1]\n",
            "Accuracy : \n"
          ]
        },
        {
          "output_type": "execute_result",
          "data": {
            "text/plain": [
              "0.8317307692307693"
            ]
          },
          "metadata": {},
          "execution_count": 34
        }
      ]
    },
    {
      "cell_type": "code",
      "source": [
        "#CASE -6:\n",
        "clf =LogisticRegression(solver='newton-cg',penalty='none',tol=1e-4, random_state=92, max_iter=1000)\n",
        "clf.fit(X,y)\n",
        "pred=clf.predict(X[:2, :])\n",
        "print(pred)\n",
        "print('Accuracy : ')\n",
        "clf.score(X, y)"
      ],
      "metadata": {
        "colab": {
          "base_uri": "https://localhost:8080/"
        },
        "id": "JQIyYjbEpFR0",
        "outputId": "f7373ee1-f59f-4468-aaba-c7790a02fd32"
      },
      "execution_count": null,
      "outputs": [
        {
          "output_type": "stream",
          "name": "stdout",
          "text": [
            "[1 1]\n",
            "Accuracy : \n"
          ]
        },
        {
          "output_type": "execute_result",
          "data": {
            "text/plain": [
              "1.0"
            ]
          },
          "metadata": {},
          "execution_count": 46
        }
      ]
    },
    {
      "cell_type": "code",
      "source": [
        "#CASE -7:\n",
        "clf =LogisticRegression(solver='liblinear',penalty='l1',tol=1e-4, random_state=92, max_iter=1000)\n",
        "clf.fit(X,y)\n",
        "pred=clf.predict(X[:2, :])\n",
        "print(pred)\n",
        "print('Accuracy : ')\n",
        "clf.score(X, y)"
      ],
      "metadata": {
        "colab": {
          "base_uri": "https://localhost:8080/"
        },
        "id": "MteGuarUPUbV",
        "outputId": "4c210016-67f4-4c17-e6c9-aa7d5531dd0a"
      },
      "execution_count": null,
      "outputs": [
        {
          "output_type": "stream",
          "name": "stdout",
          "text": [
            "[1 0]\n",
            "Accuracy : \n"
          ]
        },
        {
          "output_type": "execute_result",
          "data": {
            "text/plain": [
              "0.8076923076923077"
            ]
          },
          "metadata": {},
          "execution_count": 36
        }
      ]
    },
    {
      "cell_type": "code",
      "source": [
        "#CASE -9:\n",
        "clf =LogisticRegression(solver='saga',penalty='l1',tol=1e-4, random_state=92, max_iter=1000)\n",
        "clf.fit(X,y)\n",
        "pred=clf.predict(X[:2, :])\n",
        "print(pred)\n",
        "print('Accuracy : ')\n",
        "clf.score(X, y)"
      ],
      "metadata": {
        "colab": {
          "base_uri": "https://localhost:8080/"
        },
        "id": "k2hQiwcKPjn6",
        "outputId": "ce194e94-d621-469c-c0d9-4e5073b6fed9"
      },
      "execution_count": null,
      "outputs": [
        {
          "output_type": "stream",
          "name": "stdout",
          "text": [
            "[1 0]\n",
            "Accuracy : \n"
          ]
        },
        {
          "output_type": "execute_result",
          "data": {
            "text/plain": [
              "0.8269230769230769"
            ]
          },
          "metadata": {},
          "execution_count": 39
        }
      ]
    },
    {
      "cell_type": "code",
      "source": [
        "#CASE -10:\n",
        "clf =LogisticRegression(solver='saga',penalty='l2',tol=1e-4, random_state=92, max_iter=1000)\n",
        "clf.fit(X,y)\n",
        "pred=clf.predict(X[:2, :])\n",
        "print(pred)\n",
        "print('Accuracy : ')\n",
        "clf.score(X, y)"
      ],
      "metadata": {
        "colab": {
          "base_uri": "https://localhost:8080/"
        },
        "id": "aQL4KJ-_pq0t",
        "outputId": "4976e3c2-851f-4b11-f310-252c6bc283d6"
      },
      "execution_count": null,
      "outputs": [
        {
          "output_type": "stream",
          "name": "stdout",
          "text": [
            "[1 1]\n",
            "Accuracy : \n"
          ]
        },
        {
          "output_type": "execute_result",
          "data": {
            "text/plain": [
              "0.8317307692307693"
            ]
          },
          "metadata": {},
          "execution_count": 47
        }
      ]
    },
    {
      "cell_type": "code",
      "source": [
        "#CASE -11:\n",
        "clf =LogisticRegression(solver='saga',penalty='none',tol=1e-4, random_state=92, max_iter=1000)\n",
        "clf.fit(X,y)\n",
        "pred=clf.predict(X[:2, :])\n",
        "print(pred)\n",
        "print('Accuracy : ')\n",
        "clf.score(X, y)"
      ],
      "metadata": {
        "colab": {
          "base_uri": "https://localhost:8080/"
        },
        "id": "7aXZ2S6Lptdn",
        "outputId": "28d19731-872e-4d59-c93f-1771667c0298"
      },
      "execution_count": null,
      "outputs": [
        {
          "output_type": "stream",
          "name": "stdout",
          "text": [
            "[0 1]\n",
            "Accuracy : \n"
          ]
        },
        {
          "output_type": "stream",
          "name": "stderr",
          "text": [
            "/usr/local/lib/python3.7/dist-packages/sklearn/linear_model/_sag.py:354: ConvergenceWarning: The max_iter was reached which means the coef_ did not converge\n",
            "  ConvergenceWarning,\n"
          ]
        },
        {
          "output_type": "execute_result",
          "data": {
            "text/plain": [
              "0.8846153846153846"
            ]
          },
          "metadata": {},
          "execution_count": 48
        }
      ]
    },
    {
      "cell_type": "code",
      "source": [
        "#CASE -12:\n",
        "clf =LogisticRegression(solver='saga',penalty='l1',multi_class='auto',tol=1e-4, random_state=92, max_iter=1000)\n",
        "clf.fit(X,y)\n",
        "pred=clf.predict(X[:2, :])\n",
        "print(pred)\n",
        "print('Accuracy : ')\n",
        "clf.score(X, y)"
      ],
      "metadata": {
        "colab": {
          "base_uri": "https://localhost:8080/"
        },
        "id": "4BqPpcI0P5HV",
        "outputId": "7dc4a77c-9999-4e5d-b383-d5946258ba77"
      },
      "execution_count": null,
      "outputs": [
        {
          "output_type": "stream",
          "name": "stdout",
          "text": [
            "[1 0]\n",
            "Accuracy : \n"
          ]
        },
        {
          "output_type": "execute_result",
          "data": {
            "text/plain": [
              "0.8269230769230769"
            ]
          },
          "metadata": {},
          "execution_count": 40
        }
      ]
    },
    {
      "cell_type": "code",
      "source": [
        "#CASE -13:\n",
        "clf =LogisticRegression(solver='saga',penalty='l2',multi_class='multinomial',tol=1e-4, random_state=92, max_iter=1000)\n",
        "clf.fit(X,y)\n",
        "pred=clf.predict(X[:2, :])\n",
        "print(pred)\n",
        "print('Accuracy : ')\n",
        "clf.score(X, y)"
      ],
      "metadata": {
        "colab": {
          "base_uri": "https://localhost:8080/"
        },
        "id": "unYow-6jQLSc",
        "outputId": "fb7b1970-1f98-4431-ab69-69cff9ba12c4"
      },
      "execution_count": null,
      "outputs": [
        {
          "output_type": "stream",
          "name": "stdout",
          "text": [
            "[1 1]\n",
            "Accuracy : \n"
          ]
        },
        {
          "output_type": "execute_result",
          "data": {
            "text/plain": [
              "0.8461538461538461"
            ]
          },
          "metadata": {},
          "execution_count": 43
        }
      ]
    }
  ]
}